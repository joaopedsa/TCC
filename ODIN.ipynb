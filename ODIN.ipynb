{
  "nbformat": 4,
  "nbformat_minor": 0,
  "metadata": {
    "colab": {
      "name": "ODIN.ipynb",
      "provenance": [],
      "collapsed_sections": [],
      "authorship_tag": "ABX9TyN2Kb7aVOoEw3Y9eGLv1D9k",
      "include_colab_link": true
    },
    "kernelspec": {
      "name": "python3",
      "display_name": "Python 3"
    },
    "language_info": {
      "name": "python"
    },
    "accelerator": "GPU",
    "widgets": {
      "application/vnd.jupyter.widget-state+json": {
        "214ab578317f4742af16d312cfed8ee9": {
          "model_module": "@jupyter-widgets/controls",
          "model_name": "VBoxModel",
          "model_module_version": "1.5.0",
          "state": {
            "_dom_classes": [],
            "_model_module": "@jupyter-widgets/controls",
            "_model_module_version": "1.5.0",
            "_model_name": "VBoxModel",
            "_view_count": null,
            "_view_module": "@jupyter-widgets/controls",
            "_view_module_version": "1.5.0",
            "_view_name": "VBoxView",
            "box_style": "",
            "children": [
              "IPY_MODEL_7d61a9f58a684988a1a57181b27c60e5",
              "IPY_MODEL_265974f984ff4cb4a542f90400b07b74",
              "IPY_MODEL_b48a128a710c4f3196cb54baf0b192aa",
              "IPY_MODEL_0f369a920d9e453384371c260a0357b6",
              "IPY_MODEL_f9a8b9b441784dc28b4e760a92c455ad",
              "IPY_MODEL_b18048f525454b36b1c0f8a521ead973"
            ],
            "layout": "IPY_MODEL_5912144f96d846b3b189e9181481a023"
          }
        },
        "7d61a9f58a684988a1a57181b27c60e5": {
          "model_module": "@jupyter-widgets/controls",
          "model_name": "VBoxModel",
          "model_module_version": "1.5.0",
          "state": {
            "_dom_classes": [],
            "_model_module": "@jupyter-widgets/controls",
            "_model_module_version": "1.5.0",
            "_model_name": "VBoxModel",
            "_view_count": null,
            "_view_module": "@jupyter-widgets/controls",
            "_view_module_version": "1.5.0",
            "_view_name": "VBoxView",
            "box_style": "",
            "children": [
              "IPY_MODEL_4213aa1091e14fafbeff2cdbdd529473",
              "IPY_MODEL_ab4bd5f9885a4a46806030c5690aad43"
            ],
            "layout": "IPY_MODEL_26e82b6f8bb44c779427feb24e9285d6"
          }
        },
        "265974f984ff4cb4a542f90400b07b74": {
          "model_module": "@jupyter-widgets/controls",
          "model_name": "VBoxModel",
          "model_module_version": "1.5.0",
          "state": {
            "_dom_classes": [],
            "_model_module": "@jupyter-widgets/controls",
            "_model_module_version": "1.5.0",
            "_model_name": "VBoxModel",
            "_view_count": null,
            "_view_module": "@jupyter-widgets/controls",
            "_view_module_version": "1.5.0",
            "_view_name": "VBoxView",
            "box_style": "",
            "children": [
              "IPY_MODEL_5ddf09e3d3fa458c993278cba227844e",
              "IPY_MODEL_49f25d8f04bc4139a2cadb55b8701b0d"
            ],
            "layout": "IPY_MODEL_26e82b6f8bb44c779427feb24e9285d6"
          }
        },
        "b48a128a710c4f3196cb54baf0b192aa": {
          "model_module": "@jupyter-widgets/controls",
          "model_name": "VBoxModel",
          "model_module_version": "1.5.0",
          "state": {
            "_dom_classes": [],
            "_model_module": "@jupyter-widgets/controls",
            "_model_module_version": "1.5.0",
            "_model_name": "VBoxModel",
            "_view_count": null,
            "_view_module": "@jupyter-widgets/controls",
            "_view_module_version": "1.5.0",
            "_view_name": "VBoxView",
            "box_style": "",
            "children": [
              "IPY_MODEL_130aed97a5dd428c8f7b06432988cf06",
              "IPY_MODEL_ffee9f2ee1c942ca8b0d790efbe829aa"
            ],
            "layout": "IPY_MODEL_26e82b6f8bb44c779427feb24e9285d6"
          }
        },
        "0f369a920d9e453384371c260a0357b6": {
          "model_module": "@jupyter-widgets/controls",
          "model_name": "VBoxModel",
          "model_module_version": "1.5.0",
          "state": {
            "_dom_classes": [],
            "_model_module": "@jupyter-widgets/controls",
            "_model_module_version": "1.5.0",
            "_model_name": "VBoxModel",
            "_view_count": null,
            "_view_module": "@jupyter-widgets/controls",
            "_view_module_version": "1.5.0",
            "_view_name": "VBoxView",
            "box_style": "",
            "children": [
              "IPY_MODEL_8e426f6fd40e43168b681756619c4828",
              "IPY_MODEL_3a7457c55997418ea546d09fa4433e76"
            ],
            "layout": "IPY_MODEL_26e82b6f8bb44c779427feb24e9285d6"
          }
        },
        "f9a8b9b441784dc28b4e760a92c455ad": {
          "model_module": "@jupyter-widgets/controls",
          "model_name": "VBoxModel",
          "model_module_version": "1.5.0",
          "state": {
            "_dom_classes": [],
            "_model_module": "@jupyter-widgets/controls",
            "_model_module_version": "1.5.0",
            "_model_name": "VBoxModel",
            "_view_count": null,
            "_view_module": "@jupyter-widgets/controls",
            "_view_module_version": "1.5.0",
            "_view_name": "VBoxView",
            "box_style": "",
            "children": [
              "IPY_MODEL_22d4ea18f10146659dcedecedb52ac0d",
              "IPY_MODEL_28a6c26a9593409cb023b1448743c7f9"
            ],
            "layout": "IPY_MODEL_26e82b6f8bb44c779427feb24e9285d6"
          }
        },
        "b18048f525454b36b1c0f8a521ead973": {
          "model_module": "@jupyter-widgets/controls",
          "model_name": "VBoxModel",
          "model_module_version": "1.5.0",
          "state": {
            "_dom_classes": [],
            "_model_module": "@jupyter-widgets/controls",
            "_model_module_version": "1.5.0",
            "_model_name": "VBoxModel",
            "_view_count": null,
            "_view_module": "@jupyter-widgets/controls",
            "_view_module_version": "1.5.0",
            "_view_name": "VBoxView",
            "box_style": "",
            "children": [
              "IPY_MODEL_81ea5e0e777f4944b1449b12ee904e82",
              "IPY_MODEL_b50fab8a27fc4f5398ce1e2f30ef3f12"
            ],
            "layout": "IPY_MODEL_26e82b6f8bb44c779427feb24e9285d6"
          }
        },
        "5912144f96d846b3b189e9181481a023": {
          "model_module": "@jupyter-widgets/base",
          "model_name": "LayoutModel",
          "model_module_version": "1.2.0",
          "state": {
            "_model_module": "@jupyter-widgets/base",
            "_model_module_version": "1.2.0",
            "_model_name": "LayoutModel",
            "_view_count": null,
            "_view_module": "@jupyter-widgets/base",
            "_view_module_version": "1.2.0",
            "_view_name": "LayoutView",
            "align_content": null,
            "align_items": null,
            "align_self": null,
            "border": null,
            "bottom": null,
            "display": null,
            "flex": null,
            "flex_flow": null,
            "grid_area": null,
            "grid_auto_columns": null,
            "grid_auto_flow": null,
            "grid_auto_rows": null,
            "grid_column": null,
            "grid_gap": null,
            "grid_row": null,
            "grid_template_areas": null,
            "grid_template_columns": null,
            "grid_template_rows": null,
            "height": null,
            "justify_content": null,
            "justify_items": null,
            "left": null,
            "margin": null,
            "max_height": null,
            "max_width": null,
            "min_height": null,
            "min_width": null,
            "object_fit": null,
            "object_position": null,
            "order": null,
            "overflow": null,
            "overflow_x": null,
            "overflow_y": null,
            "padding": null,
            "right": null,
            "top": null,
            "visibility": null,
            "width": "720px"
          }
        },
        "4213aa1091e14fafbeff2cdbdd529473": {
          "model_module": "@jupyter-widgets/controls",
          "model_name": "LabelModel",
          "model_module_version": "1.5.0",
          "state": {
            "_dom_classes": [],
            "_model_module": "@jupyter-widgets/controls",
            "_model_module_version": "1.5.0",
            "_model_name": "LabelModel",
            "_view_count": null,
            "_view_module": "@jupyter-widgets/controls",
            "_view_module_version": "1.5.0",
            "_view_name": "LabelView",
            "description": "",
            "description_tooltip": null,
            "layout": "IPY_MODEL_00499c822b2246e698f0d3d233d5aaad",
            "placeholder": "​",
            "style": "IPY_MODEL_3b2513a4ecf349fab3136944118a8cae",
            "value": "Categorias:"
          }
        },
        "ab4bd5f9885a4a46806030c5690aad43": {
          "model_module": "@jupyter-widgets/controls",
          "model_name": "TextareaModel",
          "model_module_version": "1.5.0",
          "state": {
            "_dom_classes": [],
            "_model_module": "@jupyter-widgets/controls",
            "_model_module_version": "1.5.0",
            "_model_name": "TextareaModel",
            "_view_count": null,
            "_view_module": "@jupyter-widgets/controls",
            "_view_module_version": "1.5.0",
            "_view_name": "TextareaView",
            "continuous_update": true,
            "description": "",
            "description_tooltip": null,
            "disabled": false,
            "layout": "IPY_MODEL_68b5fc623f3045f2b5021eba7ca4bde8",
            "placeholder": "Descrição das categorias de objetos que devem ser detectados \nex. 10 categorias de objetos encontrados dentro de casa, que podem interferir no dia a dia de uma pessoa com deficiência visual: Armário, Cachorro, Cadeira, Cama, Criado Mudo, Mesa, Mochila, Porta, Sapato e Sofá",
            "rows": null,
            "style": "IPY_MODEL_36e13d60b5c4486dafccf6e3c046f3f0",
            "value": ""
          }
        },
        "26e82b6f8bb44c779427feb24e9285d6": {
          "model_module": "@jupyter-widgets/base",
          "model_name": "LayoutModel",
          "model_module_version": "1.2.0",
          "state": {
            "_model_module": "@jupyter-widgets/base",
            "_model_module_version": "1.2.0",
            "_model_name": "LayoutModel",
            "_view_count": null,
            "_view_module": "@jupyter-widgets/base",
            "_view_module_version": "1.2.0",
            "_view_name": "LayoutView",
            "align_content": null,
            "align_items": null,
            "align_self": null,
            "border": null,
            "bottom": null,
            "display": null,
            "flex": null,
            "flex_flow": null,
            "grid_area": null,
            "grid_auto_columns": null,
            "grid_auto_flow": null,
            "grid_auto_rows": null,
            "grid_column": null,
            "grid_gap": null,
            "grid_row": null,
            "grid_template_areas": null,
            "grid_template_columns": null,
            "grid_template_rows": null,
            "height": null,
            "justify_content": null,
            "justify_items": null,
            "left": null,
            "margin": null,
            "max_height": null,
            "max_width": null,
            "min_height": null,
            "min_width": null,
            "object_fit": null,
            "object_position": null,
            "order": null,
            "overflow": null,
            "overflow_x": null,
            "overflow_y": null,
            "padding": null,
            "right": null,
            "top": null,
            "visibility": null,
            "width": "90%"
          }
        },
        "5ddf09e3d3fa458c993278cba227844e": {
          "model_module": "@jupyter-widgets/controls",
          "model_name": "LabelModel",
          "model_module_version": "1.5.0",
          "state": {
            "_dom_classes": [],
            "_model_module": "@jupyter-widgets/controls",
            "_model_module_version": "1.5.0",
            "_model_name": "LabelModel",
            "_view_count": null,
            "_view_module": "@jupyter-widgets/controls",
            "_view_module_version": "1.5.0",
            "_view_name": "LabelView",
            "description": "",
            "description_tooltip": null,
            "layout": "IPY_MODEL_45968c1d6c5e4e4b884cfd7c52f09025",
            "placeholder": "​",
            "style": "IPY_MODEL_2ad60fd936a44a1d86e9448c98b2176e",
            "value": "Fonte de dados:"
          }
        },
        "49f25d8f04bc4139a2cadb55b8701b0d": {
          "model_module": "@jupyter-widgets/controls",
          "model_name": "TextareaModel",
          "model_module_version": "1.5.0",
          "state": {
            "_dom_classes": [],
            "_model_module": "@jupyter-widgets/controls",
            "_model_module_version": "1.5.0",
            "_model_name": "TextareaModel",
            "_view_count": null,
            "_view_module": "@jupyter-widgets/controls",
            "_view_module_version": "1.5.0",
            "_view_name": "TextareaView",
            "continuous_update": true,
            "description": "",
            "description_tooltip": null,
            "disabled": false,
            "layout": "IPY_MODEL_68b5fc623f3045f2b5021eba7ca4bde8",
            "placeholder": "ex. imagens coletadas pelos criadores do modelo",
            "rows": null,
            "style": "IPY_MODEL_4a650cd55cad41f3bbd0a27993b11c96",
            "value": ""
          }
        },
        "130aed97a5dd428c8f7b06432988cf06": {
          "model_module": "@jupyter-widgets/controls",
          "model_name": "LabelModel",
          "model_module_version": "1.5.0",
          "state": {
            "_dom_classes": [],
            "_model_module": "@jupyter-widgets/controls",
            "_model_module_version": "1.5.0",
            "_model_name": "LabelModel",
            "_view_count": null,
            "_view_module": "@jupyter-widgets/controls",
            "_view_module_version": "1.5.0",
            "_view_name": "LabelView",
            "description": "",
            "description_tooltip": null,
            "layout": "IPY_MODEL_fef70fcb2ab84ba589fdc057f8602a57",
            "placeholder": "​",
            "style": "IPY_MODEL_5126341a76b54541b97d0b9decfde0d3",
            "value": "Quantidade de dados:"
          }
        },
        "ffee9f2ee1c942ca8b0d790efbe829aa": {
          "model_module": "@jupyter-widgets/controls",
          "model_name": "TextareaModel",
          "model_module_version": "1.5.0",
          "state": {
            "_dom_classes": [],
            "_model_module": "@jupyter-widgets/controls",
            "_model_module_version": "1.5.0",
            "_model_name": "TextareaModel",
            "_view_count": null,
            "_view_module": "@jupyter-widgets/controls",
            "_view_module_version": "1.5.0",
            "_view_name": "TextareaView",
            "continuous_update": true,
            "description": "",
            "description_tooltip": null,
            "disabled": false,
            "layout": "IPY_MODEL_68b5fc623f3045f2b5021eba7ca4bde8",
            "placeholder": "ex. No mínimo 30 exemplares para cada categoria",
            "rows": null,
            "style": "IPY_MODEL_85871bc469ed4631a820fdfe31417f42",
            "value": ""
          }
        },
        "8e426f6fd40e43168b681756619c4828": {
          "model_module": "@jupyter-widgets/controls",
          "model_name": "LabelModel",
          "model_module_version": "1.5.0",
          "state": {
            "_dom_classes": [],
            "_model_module": "@jupyter-widgets/controls",
            "_model_module_version": "1.5.0",
            "_model_name": "LabelModel",
            "_view_count": null,
            "_view_module": "@jupyter-widgets/controls",
            "_view_module_version": "1.5.0",
            "_view_name": "LabelView",
            "description": "",
            "description_tooltip": null,
            "layout": "IPY_MODEL_135e7251a6854c12b22ea21292df0236",
            "placeholder": "​",
            "style": "IPY_MODEL_cee4104c23e14e2282acca9dc30cc7d1",
            "value": "Padronização das imagens:"
          }
        },
        "3a7457c55997418ea546d09fa4433e76": {
          "model_module": "@jupyter-widgets/controls",
          "model_name": "TextareaModel",
          "model_module_version": "1.5.0",
          "state": {
            "_dom_classes": [],
            "_model_module": "@jupyter-widgets/controls",
            "_model_module_version": "1.5.0",
            "_model_name": "TextareaModel",
            "_view_count": null,
            "_view_module": "@jupyter-widgets/controls",
            "_view_module_version": "1.5.0",
            "_view_name": "TextareaView",
            "continuous_update": true,
            "description": "",
            "description_tooltip": null,
            "disabled": false,
            "layout": "IPY_MODEL_68b5fc623f3045f2b5021eba7ca4bde8",
            "placeholder": "Descrição do formato das imagens \nex. Formato: .jpg, Tamanho: 640x640 pixels",
            "rows": null,
            "style": "IPY_MODEL_9acdc2f86ca74039a668e72bcdd89dd6",
            "value": ""
          }
        },
        "22d4ea18f10146659dcedecedb52ac0d": {
          "model_module": "@jupyter-widgets/controls",
          "model_name": "LabelModel",
          "model_module_version": "1.5.0",
          "state": {
            "_dom_classes": [],
            "_model_module": "@jupyter-widgets/controls",
            "_model_module_version": "1.5.0",
            "_model_name": "LabelModel",
            "_view_count": null,
            "_view_module": "@jupyter-widgets/controls",
            "_view_module_version": "1.5.0",
            "_view_name": "LabelView",
            "description": "",
            "description_tooltip": null,
            "layout": "IPY_MODEL_88313881e0d346078902693d97290baf",
            "placeholder": "​",
            "style": "IPY_MODEL_4cbd3418b788411fb504f11faea77cd1",
            "value": "Rotulação dos dados:"
          }
        },
        "28a6c26a9593409cb023b1448743c7f9": {
          "model_module": "@jupyter-widgets/controls",
          "model_name": "TextareaModel",
          "model_module_version": "1.5.0",
          "state": {
            "_dom_classes": [],
            "_model_module": "@jupyter-widgets/controls",
            "_model_module_version": "1.5.0",
            "_model_name": "TextareaModel",
            "_view_count": null,
            "_view_module": "@jupyter-widgets/controls",
            "_view_module_version": "1.5.0",
            "_view_name": "TextareaView",
            "continuous_update": true,
            "description": "",
            "description_tooltip": null,
            "disabled": false,
            "layout": "IPY_MODEL_68b5fc623f3045f2b5021eba7ca4bde8",
            "placeholder": "Descreve por quem e como foram as anotações das imagens \nex. Por estudantes de curso de computação no ensino superior e rotulados na ferramenta roboflow",
            "rows": null,
            "style": "IPY_MODEL_3a73a311e9dd4a199018f8d624716470",
            "value": ""
          }
        },
        "81ea5e0e777f4944b1449b12ee904e82": {
          "model_module": "@jupyter-widgets/controls",
          "model_name": "LabelModel",
          "model_module_version": "1.5.0",
          "state": {
            "_dom_classes": [],
            "_model_module": "@jupyter-widgets/controls",
            "_model_module_version": "1.5.0",
            "_model_name": "LabelModel",
            "_view_count": null,
            "_view_module": "@jupyter-widgets/controls",
            "_view_module_version": "1.5.0",
            "_view_name": "LabelView",
            "description": "",
            "description_tooltip": null,
            "layout": "IPY_MODEL_6d8a5442c383430e8bea5744db8efeed",
            "placeholder": "​",
            "style": "IPY_MODEL_eb53ee108738499fb57ff38c6829e20e",
            "value": "Desempenho Esperado:"
          }
        },
        "b50fab8a27fc4f5398ce1e2f30ef3f12": {
          "model_module": "@jupyter-widgets/controls",
          "model_name": "TextareaModel",
          "model_module_version": "1.5.0",
          "state": {
            "_dom_classes": [],
            "_model_module": "@jupyter-widgets/controls",
            "_model_module_version": "1.5.0",
            "_model_name": "TextareaModel",
            "_view_count": null,
            "_view_module": "@jupyter-widgets/controls",
            "_view_module_version": "1.5.0",
            "_view_name": "TextareaView",
            "continuous_update": true,
            "description": "",
            "description_tooltip": null,
            "disabled": false,
            "layout": "IPY_MODEL_68b5fc623f3045f2b5021eba7ca4bde8",
            "placeholder": "Especifique o desempenho esperado (usando uma ou mais medidas (mAP 0.5, mAP 0.95, precision, recall, F1 score) \nex. mAP0.5 ou 0.95: no mínimo 75%, Precision: no minimo 75%, Recall: no minimo 75%...",
            "rows": null,
            "style": "IPY_MODEL_2d421db5565b42fc834a2e0d7d1e1ee4",
            "value": ""
          }
        },
        "00499c822b2246e698f0d3d233d5aaad": {
          "model_module": "@jupyter-widgets/base",
          "model_name": "LayoutModel",
          "model_module_version": "1.2.0",
          "state": {
            "_model_module": "@jupyter-widgets/base",
            "_model_module_version": "1.2.0",
            "_model_name": "LayoutModel",
            "_view_count": null,
            "_view_module": "@jupyter-widgets/base",
            "_view_module_version": "1.2.0",
            "_view_name": "LayoutView",
            "align_content": null,
            "align_items": null,
            "align_self": null,
            "border": null,
            "bottom": null,
            "display": null,
            "flex": null,
            "flex_flow": null,
            "grid_area": null,
            "grid_auto_columns": null,
            "grid_auto_flow": null,
            "grid_auto_rows": null,
            "grid_column": null,
            "grid_gap": null,
            "grid_row": null,
            "grid_template_areas": null,
            "grid_template_columns": null,
            "grid_template_rows": null,
            "height": null,
            "justify_content": null,
            "justify_items": null,
            "left": null,
            "margin": null,
            "max_height": null,
            "max_width": null,
            "min_height": null,
            "min_width": null,
            "object_fit": null,
            "object_position": null,
            "order": null,
            "overflow": null,
            "overflow_x": null,
            "overflow_y": null,
            "padding": null,
            "right": null,
            "top": null,
            "visibility": null,
            "width": null
          }
        },
        "3b2513a4ecf349fab3136944118a8cae": {
          "model_module": "@jupyter-widgets/controls",
          "model_name": "DescriptionStyleModel",
          "model_module_version": "1.5.0",
          "state": {
            "_model_module": "@jupyter-widgets/controls",
            "_model_module_version": "1.5.0",
            "_model_name": "DescriptionStyleModel",
            "_view_count": null,
            "_view_module": "@jupyter-widgets/base",
            "_view_module_version": "1.2.0",
            "_view_name": "StyleView",
            "description_width": ""
          }
        },
        "68b5fc623f3045f2b5021eba7ca4bde8": {
          "model_module": "@jupyter-widgets/base",
          "model_name": "LayoutModel",
          "model_module_version": "1.2.0",
          "state": {
            "_model_module": "@jupyter-widgets/base",
            "_model_module_version": "1.2.0",
            "_model_name": "LayoutModel",
            "_view_count": null,
            "_view_module": "@jupyter-widgets/base",
            "_view_module_version": "1.2.0",
            "_view_name": "LayoutView",
            "align_content": null,
            "align_items": null,
            "align_self": null,
            "border": null,
            "bottom": null,
            "display": null,
            "flex": null,
            "flex_flow": null,
            "grid_area": null,
            "grid_auto_columns": null,
            "grid_auto_flow": null,
            "grid_auto_rows": null,
            "grid_column": null,
            "grid_gap": null,
            "grid_row": null,
            "grid_template_areas": null,
            "grid_template_columns": null,
            "grid_template_rows": null,
            "height": "90px",
            "justify_content": null,
            "justify_items": null,
            "left": null,
            "margin": null,
            "max_height": null,
            "max_width": null,
            "min_height": null,
            "min_width": null,
            "object_fit": null,
            "object_position": null,
            "order": null,
            "overflow": null,
            "overflow_x": null,
            "overflow_y": null,
            "padding": null,
            "right": null,
            "top": null,
            "visibility": null,
            "width": "95%"
          }
        },
        "36e13d60b5c4486dafccf6e3c046f3f0": {
          "model_module": "@jupyter-widgets/controls",
          "model_name": "DescriptionStyleModel",
          "model_module_version": "1.5.0",
          "state": {
            "_model_module": "@jupyter-widgets/controls",
            "_model_module_version": "1.5.0",
            "_model_name": "DescriptionStyleModel",
            "_view_count": null,
            "_view_module": "@jupyter-widgets/base",
            "_view_module_version": "1.2.0",
            "_view_name": "StyleView",
            "description_width": ""
          }
        },
        "45968c1d6c5e4e4b884cfd7c52f09025": {
          "model_module": "@jupyter-widgets/base",
          "model_name": "LayoutModel",
          "model_module_version": "1.2.0",
          "state": {
            "_model_module": "@jupyter-widgets/base",
            "_model_module_version": "1.2.0",
            "_model_name": "LayoutModel",
            "_view_count": null,
            "_view_module": "@jupyter-widgets/base",
            "_view_module_version": "1.2.0",
            "_view_name": "LayoutView",
            "align_content": null,
            "align_items": null,
            "align_self": null,
            "border": null,
            "bottom": null,
            "display": null,
            "flex": null,
            "flex_flow": null,
            "grid_area": null,
            "grid_auto_columns": null,
            "grid_auto_flow": null,
            "grid_auto_rows": null,
            "grid_column": null,
            "grid_gap": null,
            "grid_row": null,
            "grid_template_areas": null,
            "grid_template_columns": null,
            "grid_template_rows": null,
            "height": null,
            "justify_content": null,
            "justify_items": null,
            "left": null,
            "margin": null,
            "max_height": null,
            "max_width": null,
            "min_height": null,
            "min_width": null,
            "object_fit": null,
            "object_position": null,
            "order": null,
            "overflow": null,
            "overflow_x": null,
            "overflow_y": null,
            "padding": null,
            "right": null,
            "top": null,
            "visibility": null,
            "width": null
          }
        },
        "2ad60fd936a44a1d86e9448c98b2176e": {
          "model_module": "@jupyter-widgets/controls",
          "model_name": "DescriptionStyleModel",
          "model_module_version": "1.5.0",
          "state": {
            "_model_module": "@jupyter-widgets/controls",
            "_model_module_version": "1.5.0",
            "_model_name": "DescriptionStyleModel",
            "_view_count": null,
            "_view_module": "@jupyter-widgets/base",
            "_view_module_version": "1.2.0",
            "_view_name": "StyleView",
            "description_width": ""
          }
        },
        "4a650cd55cad41f3bbd0a27993b11c96": {
          "model_module": "@jupyter-widgets/controls",
          "model_name": "DescriptionStyleModel",
          "model_module_version": "1.5.0",
          "state": {
            "_model_module": "@jupyter-widgets/controls",
            "_model_module_version": "1.5.0",
            "_model_name": "DescriptionStyleModel",
            "_view_count": null,
            "_view_module": "@jupyter-widgets/base",
            "_view_module_version": "1.2.0",
            "_view_name": "StyleView",
            "description_width": ""
          }
        },
        "fef70fcb2ab84ba589fdc057f8602a57": {
          "model_module": "@jupyter-widgets/base",
          "model_name": "LayoutModel",
          "model_module_version": "1.2.0",
          "state": {
            "_model_module": "@jupyter-widgets/base",
            "_model_module_version": "1.2.0",
            "_model_name": "LayoutModel",
            "_view_count": null,
            "_view_module": "@jupyter-widgets/base",
            "_view_module_version": "1.2.0",
            "_view_name": "LayoutView",
            "align_content": null,
            "align_items": null,
            "align_self": null,
            "border": null,
            "bottom": null,
            "display": null,
            "flex": null,
            "flex_flow": null,
            "grid_area": null,
            "grid_auto_columns": null,
            "grid_auto_flow": null,
            "grid_auto_rows": null,
            "grid_column": null,
            "grid_gap": null,
            "grid_row": null,
            "grid_template_areas": null,
            "grid_template_columns": null,
            "grid_template_rows": null,
            "height": null,
            "justify_content": null,
            "justify_items": null,
            "left": null,
            "margin": null,
            "max_height": null,
            "max_width": null,
            "min_height": null,
            "min_width": null,
            "object_fit": null,
            "object_position": null,
            "order": null,
            "overflow": null,
            "overflow_x": null,
            "overflow_y": null,
            "padding": null,
            "right": null,
            "top": null,
            "visibility": null,
            "width": null
          }
        },
        "5126341a76b54541b97d0b9decfde0d3": {
          "model_module": "@jupyter-widgets/controls",
          "model_name": "DescriptionStyleModel",
          "model_module_version": "1.5.0",
          "state": {
            "_model_module": "@jupyter-widgets/controls",
            "_model_module_version": "1.5.0",
            "_model_name": "DescriptionStyleModel",
            "_view_count": null,
            "_view_module": "@jupyter-widgets/base",
            "_view_module_version": "1.2.0",
            "_view_name": "StyleView",
            "description_width": ""
          }
        },
        "85871bc469ed4631a820fdfe31417f42": {
          "model_module": "@jupyter-widgets/controls",
          "model_name": "DescriptionStyleModel",
          "model_module_version": "1.5.0",
          "state": {
            "_model_module": "@jupyter-widgets/controls",
            "_model_module_version": "1.5.0",
            "_model_name": "DescriptionStyleModel",
            "_view_count": null,
            "_view_module": "@jupyter-widgets/base",
            "_view_module_version": "1.2.0",
            "_view_name": "StyleView",
            "description_width": ""
          }
        },
        "135e7251a6854c12b22ea21292df0236": {
          "model_module": "@jupyter-widgets/base",
          "model_name": "LayoutModel",
          "model_module_version": "1.2.0",
          "state": {
            "_model_module": "@jupyter-widgets/base",
            "_model_module_version": "1.2.0",
            "_model_name": "LayoutModel",
            "_view_count": null,
            "_view_module": "@jupyter-widgets/base",
            "_view_module_version": "1.2.0",
            "_view_name": "LayoutView",
            "align_content": null,
            "align_items": null,
            "align_self": null,
            "border": null,
            "bottom": null,
            "display": null,
            "flex": null,
            "flex_flow": null,
            "grid_area": null,
            "grid_auto_columns": null,
            "grid_auto_flow": null,
            "grid_auto_rows": null,
            "grid_column": null,
            "grid_gap": null,
            "grid_row": null,
            "grid_template_areas": null,
            "grid_template_columns": null,
            "grid_template_rows": null,
            "height": null,
            "justify_content": null,
            "justify_items": null,
            "left": null,
            "margin": null,
            "max_height": null,
            "max_width": null,
            "min_height": null,
            "min_width": null,
            "object_fit": null,
            "object_position": null,
            "order": null,
            "overflow": null,
            "overflow_x": null,
            "overflow_y": null,
            "padding": null,
            "right": null,
            "top": null,
            "visibility": null,
            "width": null
          }
        },
        "cee4104c23e14e2282acca9dc30cc7d1": {
          "model_module": "@jupyter-widgets/controls",
          "model_name": "DescriptionStyleModel",
          "model_module_version": "1.5.0",
          "state": {
            "_model_module": "@jupyter-widgets/controls",
            "_model_module_version": "1.5.0",
            "_model_name": "DescriptionStyleModel",
            "_view_count": null,
            "_view_module": "@jupyter-widgets/base",
            "_view_module_version": "1.2.0",
            "_view_name": "StyleView",
            "description_width": ""
          }
        },
        "9acdc2f86ca74039a668e72bcdd89dd6": {
          "model_module": "@jupyter-widgets/controls",
          "model_name": "DescriptionStyleModel",
          "model_module_version": "1.5.0",
          "state": {
            "_model_module": "@jupyter-widgets/controls",
            "_model_module_version": "1.5.0",
            "_model_name": "DescriptionStyleModel",
            "_view_count": null,
            "_view_module": "@jupyter-widgets/base",
            "_view_module_version": "1.2.0",
            "_view_name": "StyleView",
            "description_width": ""
          }
        },
        "88313881e0d346078902693d97290baf": {
          "model_module": "@jupyter-widgets/base",
          "model_name": "LayoutModel",
          "model_module_version": "1.2.0",
          "state": {
            "_model_module": "@jupyter-widgets/base",
            "_model_module_version": "1.2.0",
            "_model_name": "LayoutModel",
            "_view_count": null,
            "_view_module": "@jupyter-widgets/base",
            "_view_module_version": "1.2.0",
            "_view_name": "LayoutView",
            "align_content": null,
            "align_items": null,
            "align_self": null,
            "border": null,
            "bottom": null,
            "display": null,
            "flex": null,
            "flex_flow": null,
            "grid_area": null,
            "grid_auto_columns": null,
            "grid_auto_flow": null,
            "grid_auto_rows": null,
            "grid_column": null,
            "grid_gap": null,
            "grid_row": null,
            "grid_template_areas": null,
            "grid_template_columns": null,
            "grid_template_rows": null,
            "height": null,
            "justify_content": null,
            "justify_items": null,
            "left": null,
            "margin": null,
            "max_height": null,
            "max_width": null,
            "min_height": null,
            "min_width": null,
            "object_fit": null,
            "object_position": null,
            "order": null,
            "overflow": null,
            "overflow_x": null,
            "overflow_y": null,
            "padding": null,
            "right": null,
            "top": null,
            "visibility": null,
            "width": null
          }
        },
        "4cbd3418b788411fb504f11faea77cd1": {
          "model_module": "@jupyter-widgets/controls",
          "model_name": "DescriptionStyleModel",
          "model_module_version": "1.5.0",
          "state": {
            "_model_module": "@jupyter-widgets/controls",
            "_model_module_version": "1.5.0",
            "_model_name": "DescriptionStyleModel",
            "_view_count": null,
            "_view_module": "@jupyter-widgets/base",
            "_view_module_version": "1.2.0",
            "_view_name": "StyleView",
            "description_width": ""
          }
        },
        "3a73a311e9dd4a199018f8d624716470": {
          "model_module": "@jupyter-widgets/controls",
          "model_name": "DescriptionStyleModel",
          "model_module_version": "1.5.0",
          "state": {
            "_model_module": "@jupyter-widgets/controls",
            "_model_module_version": "1.5.0",
            "_model_name": "DescriptionStyleModel",
            "_view_count": null,
            "_view_module": "@jupyter-widgets/base",
            "_view_module_version": "1.2.0",
            "_view_name": "StyleView",
            "description_width": ""
          }
        },
        "6d8a5442c383430e8bea5744db8efeed": {
          "model_module": "@jupyter-widgets/base",
          "model_name": "LayoutModel",
          "model_module_version": "1.2.0",
          "state": {
            "_model_module": "@jupyter-widgets/base",
            "_model_module_version": "1.2.0",
            "_model_name": "LayoutModel",
            "_view_count": null,
            "_view_module": "@jupyter-widgets/base",
            "_view_module_version": "1.2.0",
            "_view_name": "LayoutView",
            "align_content": null,
            "align_items": null,
            "align_self": null,
            "border": null,
            "bottom": null,
            "display": null,
            "flex": null,
            "flex_flow": null,
            "grid_area": null,
            "grid_auto_columns": null,
            "grid_auto_flow": null,
            "grid_auto_rows": null,
            "grid_column": null,
            "grid_gap": null,
            "grid_row": null,
            "grid_template_areas": null,
            "grid_template_columns": null,
            "grid_template_rows": null,
            "height": null,
            "justify_content": null,
            "justify_items": null,
            "left": null,
            "margin": null,
            "max_height": null,
            "max_width": null,
            "min_height": null,
            "min_width": null,
            "object_fit": null,
            "object_position": null,
            "order": null,
            "overflow": null,
            "overflow_x": null,
            "overflow_y": null,
            "padding": null,
            "right": null,
            "top": null,
            "visibility": null,
            "width": null
          }
        },
        "eb53ee108738499fb57ff38c6829e20e": {
          "model_module": "@jupyter-widgets/controls",
          "model_name": "DescriptionStyleModel",
          "model_module_version": "1.5.0",
          "state": {
            "_model_module": "@jupyter-widgets/controls",
            "_model_module_version": "1.5.0",
            "_model_name": "DescriptionStyleModel",
            "_view_count": null,
            "_view_module": "@jupyter-widgets/base",
            "_view_module_version": "1.2.0",
            "_view_name": "StyleView",
            "description_width": ""
          }
        },
        "2d421db5565b42fc834a2e0d7d1e1ee4": {
          "model_module": "@jupyter-widgets/controls",
          "model_name": "DescriptionStyleModel",
          "model_module_version": "1.5.0",
          "state": {
            "_model_module": "@jupyter-widgets/controls",
            "_model_module_version": "1.5.0",
            "_model_name": "DescriptionStyleModel",
            "_view_count": null,
            "_view_module": "@jupyter-widgets/base",
            "_view_module_version": "1.2.0",
            "_view_name": "StyleView",
            "description_width": ""
          }
        },
        "2cddae08b6424be481bc3de2d64a8101": {
          "model_module": "@jupyter-widgets/controls",
          "model_name": "VBoxModel",
          "model_module_version": "1.5.0",
          "state": {
            "_dom_classes": [],
            "_model_module": "@jupyter-widgets/controls",
            "_model_module_version": "1.5.0",
            "_model_name": "VBoxModel",
            "_view_count": null,
            "_view_module": "@jupyter-widgets/controls",
            "_view_module_version": "1.5.0",
            "_view_name": "VBoxView",
            "box_style": "",
            "children": [
              "IPY_MODEL_5380556d45a44edf9cf39255d6c18f7b",
              "IPY_MODEL_bde3a2245fb04e7788af4ce98c37e2dc"
            ],
            "layout": "IPY_MODEL_5912144f96d846b3b189e9181481a023"
          }
        },
        "5380556d45a44edf9cf39255d6c18f7b": {
          "model_module": "@jupyter-widgets/controls",
          "model_name": "HTMLModel",
          "model_module_version": "1.5.0",
          "state": {
            "_dom_classes": [],
            "_model_module": "@jupyter-widgets/controls",
            "_model_module_version": "1.5.0",
            "_model_name": "HTMLModel",
            "_view_count": null,
            "_view_module": "@jupyter-widgets/controls",
            "_view_module_version": "1.5.0",
            "_view_name": "HTMLView",
            "description": "",
            "description_tooltip": null,
            "layout": "IPY_MODEL_31163c9e6b284b5fa08002450febbd11",
            "placeholder": "​",
            "style": "IPY_MODEL_406c28e2ab3b43d49652ce00c5a7a053",
            "value": "<p style=font-family:Arial><b>Caminho do seu conjunto de dados<b/> <a target=\"_blank\" href=https://github.com/joaopedsa/TCC/blob/master/PREPARACAO_DOS_DADOS.md> ?</a> <p>"
          }
        },
        "bde3a2245fb04e7788af4ce98c37e2dc": {
          "model_module": "@jupyter-widgets/controls",
          "model_name": "HBoxModel",
          "model_module_version": "1.5.0",
          "state": {
            "_dom_classes": [],
            "_model_module": "@jupyter-widgets/controls",
            "_model_module_version": "1.5.0",
            "_model_name": "HBoxModel",
            "_view_count": null,
            "_view_module": "@jupyter-widgets/controls",
            "_view_module_version": "1.5.0",
            "_view_name": "HBoxView",
            "box_style": "",
            "children": [
              "IPY_MODEL_1a6d274ea19242f893cea0c46be53765",
              "IPY_MODEL_8941773ccb904267826558a366ea70d1"
            ],
            "layout": "IPY_MODEL_26e82b6f8bb44c779427feb24e9285d6"
          }
        },
        "31163c9e6b284b5fa08002450febbd11": {
          "model_module": "@jupyter-widgets/base",
          "model_name": "LayoutModel",
          "model_module_version": "1.2.0",
          "state": {
            "_model_module": "@jupyter-widgets/base",
            "_model_module_version": "1.2.0",
            "_model_name": "LayoutModel",
            "_view_count": null,
            "_view_module": "@jupyter-widgets/base",
            "_view_module_version": "1.2.0",
            "_view_name": "LayoutView",
            "align_content": null,
            "align_items": null,
            "align_self": null,
            "border": null,
            "bottom": null,
            "display": null,
            "flex": null,
            "flex_flow": null,
            "grid_area": null,
            "grid_auto_columns": null,
            "grid_auto_flow": null,
            "grid_auto_rows": null,
            "grid_column": null,
            "grid_gap": null,
            "grid_row": null,
            "grid_template_areas": null,
            "grid_template_columns": null,
            "grid_template_rows": null,
            "height": null,
            "justify_content": null,
            "justify_items": null,
            "left": null,
            "margin": null,
            "max_height": null,
            "max_width": null,
            "min_height": null,
            "min_width": null,
            "object_fit": null,
            "object_position": null,
            "order": null,
            "overflow": null,
            "overflow_x": null,
            "overflow_y": null,
            "padding": null,
            "right": null,
            "top": null,
            "visibility": null,
            "width": null
          }
        },
        "406c28e2ab3b43d49652ce00c5a7a053": {
          "model_module": "@jupyter-widgets/controls",
          "model_name": "DescriptionStyleModel",
          "model_module_version": "1.5.0",
          "state": {
            "_model_module": "@jupyter-widgets/controls",
            "_model_module_version": "1.5.0",
            "_model_name": "DescriptionStyleModel",
            "_view_count": null,
            "_view_module": "@jupyter-widgets/base",
            "_view_module_version": "1.2.0",
            "_view_name": "StyleView",
            "description_width": ""
          }
        },
        "1a6d274ea19242f893cea0c46be53765": {
          "model_module": "@jupyter-widgets/controls",
          "model_name": "TextModel",
          "model_module_version": "1.5.0",
          "state": {
            "_dom_classes": [],
            "_model_module": "@jupyter-widgets/controls",
            "_model_module_version": "1.5.0",
            "_model_name": "TextModel",
            "_view_count": null,
            "_view_module": "@jupyter-widgets/controls",
            "_view_module_version": "1.5.0",
            "_view_name": "TextView",
            "continuous_update": true,
            "description": "",
            "description_tooltip": null,
            "disabled": false,
            "layout": "IPY_MODEL_bb3bc33942f1409fb499e9848528392d",
            "placeholder": "Insira o caminho do seu conjunto de dados ex: /mask-dataset",
            "style": "IPY_MODEL_693f113ddf64414b90e829fc2a4377dd",
            "value": "/dataset-hat"
          }
        },
        "8941773ccb904267826558a366ea70d1": {
          "model_module": "@jupyter-widgets/controls",
          "model_name": "ButtonModel",
          "model_module_version": "1.5.0",
          "state": {
            "_dom_classes": [],
            "_model_module": "@jupyter-widgets/controls",
            "_model_module_version": "1.5.0",
            "_model_name": "ButtonModel",
            "_view_count": null,
            "_view_module": "@jupyter-widgets/controls",
            "_view_module_version": "1.5.0",
            "_view_name": "ButtonView",
            "button_style": "",
            "description": "Carregar caminho",
            "disabled": false,
            "icon": "",
            "layout": "IPY_MODEL_97b982ac02bc4fb6bf87a8bf2799d221",
            "style": "IPY_MODEL_1c3bfe2d3b3d4662bd6c2cf9593014f9",
            "tooltip": ""
          }
        },
        "bb3bc33942f1409fb499e9848528392d": {
          "model_module": "@jupyter-widgets/base",
          "model_name": "LayoutModel",
          "model_module_version": "1.2.0",
          "state": {
            "_model_module": "@jupyter-widgets/base",
            "_model_module_version": "1.2.0",
            "_model_name": "LayoutModel",
            "_view_count": null,
            "_view_module": "@jupyter-widgets/base",
            "_view_module_version": "1.2.0",
            "_view_name": "LayoutView",
            "align_content": null,
            "align_items": null,
            "align_self": null,
            "border": null,
            "bottom": null,
            "display": null,
            "flex": null,
            "flex_flow": null,
            "grid_area": null,
            "grid_auto_columns": null,
            "grid_auto_flow": null,
            "grid_auto_rows": null,
            "grid_column": null,
            "grid_gap": null,
            "grid_row": null,
            "grid_template_areas": null,
            "grid_template_columns": null,
            "grid_template_rows": null,
            "height": null,
            "justify_content": null,
            "justify_items": null,
            "left": null,
            "margin": null,
            "max_height": null,
            "max_width": null,
            "min_height": null,
            "min_width": null,
            "object_fit": null,
            "object_position": null,
            "order": null,
            "overflow": null,
            "overflow_x": null,
            "overflow_y": null,
            "padding": null,
            "right": null,
            "top": null,
            "visibility": null,
            "width": "66%"
          }
        },
        "693f113ddf64414b90e829fc2a4377dd": {
          "model_module": "@jupyter-widgets/controls",
          "model_name": "DescriptionStyleModel",
          "model_module_version": "1.5.0",
          "state": {
            "_model_module": "@jupyter-widgets/controls",
            "_model_module_version": "1.5.0",
            "_model_name": "DescriptionStyleModel",
            "_view_count": null,
            "_view_module": "@jupyter-widgets/base",
            "_view_module_version": "1.2.0",
            "_view_name": "StyleView",
            "description_width": ""
          }
        },
        "97b982ac02bc4fb6bf87a8bf2799d221": {
          "model_module": "@jupyter-widgets/base",
          "model_name": "LayoutModel",
          "model_module_version": "1.2.0",
          "state": {
            "_model_module": "@jupyter-widgets/base",
            "_model_module_version": "1.2.0",
            "_model_name": "LayoutModel",
            "_view_count": null,
            "_view_module": "@jupyter-widgets/base",
            "_view_module_version": "1.2.0",
            "_view_name": "LayoutView",
            "align_content": null,
            "align_items": null,
            "align_self": null,
            "border": null,
            "bottom": null,
            "display": null,
            "flex": null,
            "flex_flow": null,
            "grid_area": null,
            "grid_auto_columns": null,
            "grid_auto_flow": null,
            "grid_auto_rows": null,
            "grid_column": null,
            "grid_gap": null,
            "grid_row": null,
            "grid_template_areas": null,
            "grid_template_columns": null,
            "grid_template_rows": null,
            "height": null,
            "justify_content": null,
            "justify_items": null,
            "left": null,
            "margin": null,
            "max_height": null,
            "max_width": null,
            "min_height": null,
            "min_width": null,
            "object_fit": null,
            "object_position": null,
            "order": null,
            "overflow": null,
            "overflow_x": null,
            "overflow_y": null,
            "padding": null,
            "right": null,
            "top": null,
            "visibility": null,
            "width": "40%"
          }
        },
        "1c3bfe2d3b3d4662bd6c2cf9593014f9": {
          "model_module": "@jupyter-widgets/controls",
          "model_name": "ButtonStyleModel",
          "model_module_version": "1.5.0",
          "state": {
            "_model_module": "@jupyter-widgets/controls",
            "_model_module_version": "1.5.0",
            "_model_name": "ButtonStyleModel",
            "_view_count": null,
            "_view_module": "@jupyter-widgets/base",
            "_view_module_version": "1.2.0",
            "_view_name": "StyleView",
            "button_color": null,
            "font_weight": ""
          }
        },
        "7d8c61af0e6e44d38229418dadb35b3e": {
          "model_module": "@jupyter-widgets/controls",
          "model_name": "VBoxModel",
          "model_module_version": "1.5.0",
          "state": {
            "_dom_classes": [],
            "_model_module": "@jupyter-widgets/controls",
            "_model_module_version": "1.5.0",
            "_model_name": "VBoxModel",
            "_view_count": null,
            "_view_module": "@jupyter-widgets/controls",
            "_view_module_version": "1.5.0",
            "_view_name": "VBoxView",
            "box_style": "",
            "children": [
              "IPY_MODEL_df9a1c8b293a43f1aec3231e6bb338eb",
              "IPY_MODEL_3b95944c56dc4c41ba70c60d7af091aa"
            ],
            "layout": "IPY_MODEL_5912144f96d846b3b189e9181481a023"
          }
        },
        "df9a1c8b293a43f1aec3231e6bb338eb": {
          "model_module": "@jupyter-widgets/controls",
          "model_name": "LabelModel",
          "model_module_version": "1.5.0",
          "state": {
            "_dom_classes": [],
            "_model_module": "@jupyter-widgets/controls",
            "_model_module_version": "1.5.0",
            "_model_name": "LabelModel",
            "_view_count": null,
            "_view_module": "@jupyter-widgets/controls",
            "_view_module_version": "1.5.0",
            "_view_name": "LabelView",
            "description": "",
            "description_tooltip": null,
            "layout": "IPY_MODEL_980bd63e59d24e65a8211d6335ea53f3",
            "placeholder": "​",
            "style": "IPY_MODEL_3d2ed700559b435ea3b4388bfe59574e",
            "value": "Visualizar informações do conjunto de dados"
          }
        },
        "3b95944c56dc4c41ba70c60d7af091aa": {
          "model_module": "@jupyter-widgets/controls",
          "model_name": "BoxModel",
          "model_module_version": "1.5.0",
          "state": {
            "_dom_classes": [],
            "_model_module": "@jupyter-widgets/controls",
            "_model_module_version": "1.5.0",
            "_model_name": "BoxModel",
            "_view_count": null,
            "_view_module": "@jupyter-widgets/controls",
            "_view_module_version": "1.5.0",
            "_view_name": "BoxView",
            "box_style": "",
            "children": [
              "IPY_MODEL_6b7bcad980ac4ea3bf52e2eefdf0b1d1"
            ],
            "layout": "IPY_MODEL_caeb354fe14744369e25ac67782320bd"
          }
        },
        "980bd63e59d24e65a8211d6335ea53f3": {
          "model_module": "@jupyter-widgets/base",
          "model_name": "LayoutModel",
          "model_module_version": "1.2.0",
          "state": {
            "_model_module": "@jupyter-widgets/base",
            "_model_module_version": "1.2.0",
            "_model_name": "LayoutModel",
            "_view_count": null,
            "_view_module": "@jupyter-widgets/base",
            "_view_module_version": "1.2.0",
            "_view_name": "LayoutView",
            "align_content": null,
            "align_items": null,
            "align_self": null,
            "border": null,
            "bottom": null,
            "display": null,
            "flex": null,
            "flex_flow": null,
            "grid_area": null,
            "grid_auto_columns": null,
            "grid_auto_flow": null,
            "grid_auto_rows": null,
            "grid_column": null,
            "grid_gap": null,
            "grid_row": null,
            "grid_template_areas": null,
            "grid_template_columns": null,
            "grid_template_rows": null,
            "height": null,
            "justify_content": null,
            "justify_items": null,
            "left": null,
            "margin": null,
            "max_height": null,
            "max_width": null,
            "min_height": null,
            "min_width": null,
            "object_fit": null,
            "object_position": null,
            "order": null,
            "overflow": null,
            "overflow_x": null,
            "overflow_y": null,
            "padding": null,
            "right": null,
            "top": null,
            "visibility": null,
            "width": null
          }
        },
        "3d2ed700559b435ea3b4388bfe59574e": {
          "model_module": "@jupyter-widgets/controls",
          "model_name": "DescriptionStyleModel",
          "model_module_version": "1.5.0",
          "state": {
            "_model_module": "@jupyter-widgets/controls",
            "_model_module_version": "1.5.0",
            "_model_name": "DescriptionStyleModel",
            "_view_count": null,
            "_view_module": "@jupyter-widgets/base",
            "_view_module_version": "1.2.0",
            "_view_name": "StyleView",
            "description_width": ""
          }
        },
        "6b7bcad980ac4ea3bf52e2eefdf0b1d1": {
          "model_module": "@jupyter-widgets/controls",
          "model_name": "ButtonModel",
          "model_module_version": "1.5.0",
          "state": {
            "_dom_classes": [],
            "_model_module": "@jupyter-widgets/controls",
            "_model_module_version": "1.5.0",
            "_model_name": "ButtonModel",
            "_view_count": null,
            "_view_module": "@jupyter-widgets/controls",
            "_view_module_version": "1.5.0",
            "_view_name": "ButtonView",
            "button_style": "",
            "description": "Ver quantidade de objetos por categoria",
            "disabled": false,
            "icon": "",
            "layout": "IPY_MODEL_97b982ac02bc4fb6bf87a8bf2799d221",
            "style": "IPY_MODEL_ed421dbbe34b4aee97077b2db4baca22",
            "tooltip": ""
          }
        },
        "caeb354fe14744369e25ac67782320bd": {
          "model_module": "@jupyter-widgets/base",
          "model_name": "LayoutModel",
          "model_module_version": "1.2.0",
          "state": {
            "_model_module": "@jupyter-widgets/base",
            "_model_module_version": "1.2.0",
            "_model_name": "LayoutModel",
            "_view_count": null,
            "_view_module": "@jupyter-widgets/base",
            "_view_module_version": "1.2.0",
            "_view_name": "LayoutView",
            "align_content": null,
            "align_items": "center",
            "align_self": null,
            "border": null,
            "bottom": null,
            "display": null,
            "flex": null,
            "flex_flow": "column",
            "grid_area": null,
            "grid_auto_columns": null,
            "grid_auto_flow": null,
            "grid_auto_rows": null,
            "grid_column": null,
            "grid_gap": null,
            "grid_row": null,
            "grid_template_areas": null,
            "grid_template_columns": null,
            "grid_template_rows": null,
            "height": null,
            "justify_content": null,
            "justify_items": null,
            "left": null,
            "margin": null,
            "max_height": null,
            "max_width": null,
            "min_height": null,
            "min_width": null,
            "object_fit": null,
            "object_position": null,
            "order": null,
            "overflow": null,
            "overflow_x": null,
            "overflow_y": null,
            "padding": null,
            "right": null,
            "top": null,
            "visibility": null,
            "width": null
          }
        },
        "ed421dbbe34b4aee97077b2db4baca22": {
          "model_module": "@jupyter-widgets/controls",
          "model_name": "ButtonStyleModel",
          "model_module_version": "1.5.0",
          "state": {
            "_model_module": "@jupyter-widgets/controls",
            "_model_module_version": "1.5.0",
            "_model_name": "ButtonStyleModel",
            "_view_count": null,
            "_view_module": "@jupyter-widgets/base",
            "_view_module_version": "1.2.0",
            "_view_name": "StyleView",
            "button_color": null,
            "font_weight": ""
          }
        },
        "2c179568d533473184640fc3fa0eeb65": {
          "model_module": "@jupyter-widgets/controls",
          "model_name": "VBoxModel",
          "model_module_version": "1.5.0",
          "state": {
            "_dom_classes": [],
            "_model_module": "@jupyter-widgets/controls",
            "_model_module_version": "1.5.0",
            "_model_name": "VBoxModel",
            "_view_count": null,
            "_view_module": "@jupyter-widgets/controls",
            "_view_module_version": "1.5.0",
            "_view_name": "VBoxView",
            "box_style": "",
            "children": [
              "IPY_MODEL_94384694da2c47b3baf5fda5d56685e4",
              "IPY_MODEL_6b7fb598cafd4f828d1a9a52ec0b5e53"
            ],
            "layout": "IPY_MODEL_5912144f96d846b3b189e9181481a023"
          }
        },
        "94384694da2c47b3baf5fda5d56685e4": {
          "model_module": "@jupyter-widgets/controls",
          "model_name": "LabelModel",
          "model_module_version": "1.5.0",
          "state": {
            "_dom_classes": [],
            "_model_module": "@jupyter-widgets/controls",
            "_model_module_version": "1.5.0",
            "_model_name": "LabelModel",
            "_view_count": null,
            "_view_module": "@jupyter-widgets/controls",
            "_view_module_version": "1.5.0",
            "_view_name": "LabelView",
            "description": "",
            "description_tooltip": null,
            "layout": "IPY_MODEL_3cd8a7a1811d4fad84312c569f61af01",
            "placeholder": "​",
            "style": "IPY_MODEL_3c2aba89330f4c389af37eb9a6524ae9",
            "value": "Visualizar conjunto de dados"
          }
        },
        "6b7fb598cafd4f828d1a9a52ec0b5e53": {
          "model_module": "@jupyter-widgets/controls",
          "model_name": "BoxModel",
          "model_module_version": "1.5.0",
          "state": {
            "_dom_classes": [],
            "_model_module": "@jupyter-widgets/controls",
            "_model_module_version": "1.5.0",
            "_model_name": "BoxModel",
            "_view_count": null,
            "_view_module": "@jupyter-widgets/controls",
            "_view_module_version": "1.5.0",
            "_view_name": "BoxView",
            "box_style": "",
            "children": [
              "IPY_MODEL_dd502d61baf0441db8053e30c81064ec"
            ],
            "layout": "IPY_MODEL_caeb354fe14744369e25ac67782320bd"
          }
        },
        "3cd8a7a1811d4fad84312c569f61af01": {
          "model_module": "@jupyter-widgets/base",
          "model_name": "LayoutModel",
          "model_module_version": "1.2.0",
          "state": {
            "_model_module": "@jupyter-widgets/base",
            "_model_module_version": "1.2.0",
            "_model_name": "LayoutModel",
            "_view_count": null,
            "_view_module": "@jupyter-widgets/base",
            "_view_module_version": "1.2.0",
            "_view_name": "LayoutView",
            "align_content": null,
            "align_items": null,
            "align_self": null,
            "border": null,
            "bottom": null,
            "display": null,
            "flex": null,
            "flex_flow": null,
            "grid_area": null,
            "grid_auto_columns": null,
            "grid_auto_flow": null,
            "grid_auto_rows": null,
            "grid_column": null,
            "grid_gap": null,
            "grid_row": null,
            "grid_template_areas": null,
            "grid_template_columns": null,
            "grid_template_rows": null,
            "height": null,
            "justify_content": null,
            "justify_items": null,
            "left": null,
            "margin": null,
            "max_height": null,
            "max_width": null,
            "min_height": null,
            "min_width": null,
            "object_fit": null,
            "object_position": null,
            "order": null,
            "overflow": null,
            "overflow_x": null,
            "overflow_y": null,
            "padding": null,
            "right": null,
            "top": null,
            "visibility": null,
            "width": null
          }
        },
        "3c2aba89330f4c389af37eb9a6524ae9": {
          "model_module": "@jupyter-widgets/controls",
          "model_name": "DescriptionStyleModel",
          "model_module_version": "1.5.0",
          "state": {
            "_model_module": "@jupyter-widgets/controls",
            "_model_module_version": "1.5.0",
            "_model_name": "DescriptionStyleModel",
            "_view_count": null,
            "_view_module": "@jupyter-widgets/base",
            "_view_module_version": "1.2.0",
            "_view_name": "StyleView",
            "description_width": ""
          }
        },
        "dd502d61baf0441db8053e30c81064ec": {
          "model_module": "@jupyter-widgets/controls",
          "model_name": "ButtonModel",
          "model_module_version": "1.5.0",
          "state": {
            "_dom_classes": [],
            "_model_module": "@jupyter-widgets/controls",
            "_model_module_version": "1.5.0",
            "_model_name": "ButtonModel",
            "_view_count": null,
            "_view_module": "@jupyter-widgets/controls",
            "_view_module_version": "1.5.0",
            "_view_name": "ButtonView",
            "button_style": "",
            "description": "Ver exemplos do conjunto",
            "disabled": false,
            "icon": "",
            "layout": "IPY_MODEL_97b982ac02bc4fb6bf87a8bf2799d221",
            "style": "IPY_MODEL_c751931e84694921b34211168d6eb54b",
            "tooltip": ""
          }
        },
        "c751931e84694921b34211168d6eb54b": {
          "model_module": "@jupyter-widgets/controls",
          "model_name": "ButtonStyleModel",
          "model_module_version": "1.5.0",
          "state": {
            "_model_module": "@jupyter-widgets/controls",
            "_model_module_version": "1.5.0",
            "_model_name": "ButtonStyleModel",
            "_view_count": null,
            "_view_module": "@jupyter-widgets/base",
            "_view_module_version": "1.2.0",
            "_view_name": "StyleView",
            "button_color": null,
            "font_weight": ""
          }
        },
        "a648a0cc43b34b87a032174e26cd452d": {
          "model_module": "@jupyter-widgets/controls",
          "model_name": "VBoxModel",
          "model_module_version": "1.5.0",
          "state": {
            "_dom_classes": [],
            "_model_module": "@jupyter-widgets/controls",
            "_model_module_version": "1.5.0",
            "_model_name": "VBoxModel",
            "_view_count": null,
            "_view_module": "@jupyter-widgets/controls",
            "_view_module_version": "1.5.0",
            "_view_name": "VBoxView",
            "box_style": "",
            "children": [
              "IPY_MODEL_2d7dd7b506c142fdb1ac4e939b67dfdf",
              "IPY_MODEL_dc7bf76e8a6d4bafa0abad40c99451ee",
              "IPY_MODEL_e4b1a28f981a42209c68c0530c83c7c1",
              "IPY_MODEL_62223abe972147d780f588efcdd8f702",
              "IPY_MODEL_058c4ed3019f4a04a6996af90b8ab6f5",
              "IPY_MODEL_0e85ec5683f9474ca4aaeb97e0150d1b"
            ],
            "layout": "IPY_MODEL_5912144f96d846b3b189e9181481a023"
          }
        },
        "2d7dd7b506c142fdb1ac4e939b67dfdf": {
          "model_module": "@jupyter-widgets/controls",
          "model_name": "HTMLModel",
          "model_module_version": "1.5.0",
          "state": {
            "_dom_classes": [],
            "_model_module": "@jupyter-widgets/controls",
            "_model_module_version": "1.5.0",
            "_model_name": "HTMLModel",
            "_view_count": null,
            "_view_module": "@jupyter-widgets/controls",
            "_view_module_version": "1.5.0",
            "_view_name": "HTMLView",
            "description": "",
            "description_tooltip": null,
            "layout": "IPY_MODEL_c065538f83584330b3907e44a80b68c6",
            "placeholder": "​",
            "style": "IPY_MODEL_9e112c0e65924e7ab74cdc288d3984eb",
            "value": "<p style=font-family:Arial><b>Treinamento do modelo<b/> <a target=\"_blank\" href=https://github.com/joaopedsa/TCC/blob/master/TREINAMENTO.md> ?</a> <p>"
          }
        },
        "dc7bf76e8a6d4bafa0abad40c99451ee": {
          "model_module": "@jupyter-widgets/controls",
          "model_name": "DropdownModel",
          "model_module_version": "1.5.0",
          "state": {
            "_dom_classes": [],
            "_model_module": "@jupyter-widgets/controls",
            "_model_module_version": "1.5.0",
            "_model_name": "DropdownModel",
            "_options_labels": [
              "yolov5n",
              "yolov5s",
              "yolov5m",
              "yolov5l",
              "yolov5x"
            ],
            "_view_count": null,
            "_view_module": "@jupyter-widgets/controls",
            "_view_module_version": "1.5.0",
            "_view_name": "DropdownView",
            "description": "Modelo:",
            "description_tooltip": null,
            "disabled": false,
            "index": 0,
            "layout": "IPY_MODEL_889c875a44c44c98a7cbbd9f44e168c6",
            "style": "IPY_MODEL_0d9a6e91aa5b4938a8ee3cb90447c638"
          }
        },
        "e4b1a28f981a42209c68c0530c83c7c1": {
          "model_module": "@jupyter-widgets/controls",
          "model_name": "IntSliderModel",
          "model_module_version": "1.5.0",
          "state": {
            "_dom_classes": [],
            "_model_module": "@jupyter-widgets/controls",
            "_model_module_version": "1.5.0",
            "_model_name": "IntSliderModel",
            "_view_count": null,
            "_view_module": "@jupyter-widgets/controls",
            "_view_module_version": "1.5.0",
            "_view_name": "IntSliderView",
            "continuous_update": true,
            "description": "Tamaho do batch",
            "description_tooltip": "numero de lotes",
            "disabled": false,
            "layout": "IPY_MODEL_26e82b6f8bb44c779427feb24e9285d6",
            "max": 128,
            "min": 1,
            "orientation": "horizontal",
            "readout": true,
            "readout_format": "d",
            "step": 1,
            "style": "IPY_MODEL_c2b63a1a97544f3b96ec7b4bef13ddd9",
            "value": 16
          }
        },
        "62223abe972147d780f588efcdd8f702": {
          "model_module": "@jupyter-widgets/controls",
          "model_name": "IntSliderModel",
          "model_module_version": "1.5.0",
          "state": {
            "_dom_classes": [],
            "_model_module": "@jupyter-widgets/controls",
            "_model_module_version": "1.5.0",
            "_model_name": "IntSliderModel",
            "_view_count": null,
            "_view_module": "@jupyter-widgets/controls",
            "_view_module_version": "1.5.0",
            "_view_name": "IntSliderView",
            "continuous_update": true,
            "description": "Tamanho das imagens",
            "description_tooltip": "tamanho das imagens",
            "disabled": false,
            "layout": "IPY_MODEL_26e82b6f8bb44c779427feb24e9285d6",
            "max": 1280,
            "min": 64,
            "orientation": "horizontal",
            "readout": true,
            "readout_format": "d",
            "step": 64,
            "style": "IPY_MODEL_318251d68f4d4bc6a2a37bc7baddc02a",
            "value": 640
          }
        },
        "058c4ed3019f4a04a6996af90b8ab6f5": {
          "model_module": "@jupyter-widgets/controls",
          "model_name": "IntSliderModel",
          "model_module_version": "1.5.0",
          "state": {
            "_dom_classes": [],
            "_model_module": "@jupyter-widgets/controls",
            "_model_module_version": "1.5.0",
            "_model_name": "IntSliderModel",
            "_view_count": null,
            "_view_module": "@jupyter-widgets/controls",
            "_view_module_version": "1.5.0",
            "_view_name": "IntSliderView",
            "continuous_update": true,
            "description": "Quantidade de épocas",
            "description_tooltip": "número de épocas",
            "disabled": false,
            "layout": "IPY_MODEL_26e82b6f8bb44c779427feb24e9285d6",
            "max": 500,
            "min": 1,
            "orientation": "horizontal",
            "readout": true,
            "readout_format": "d",
            "step": 1,
            "style": "IPY_MODEL_2bd87ff001604da48eae75db998c0754",
            "value": 50
          }
        },
        "0e85ec5683f9474ca4aaeb97e0150d1b": {
          "model_module": "@jupyter-widgets/controls",
          "model_name": "BoxModel",
          "model_module_version": "1.5.0",
          "state": {
            "_dom_classes": [],
            "_model_module": "@jupyter-widgets/controls",
            "_model_module_version": "1.5.0",
            "_model_name": "BoxModel",
            "_view_count": null,
            "_view_module": "@jupyter-widgets/controls",
            "_view_module_version": "1.5.0",
            "_view_name": "BoxView",
            "box_style": "",
            "children": [
              "IPY_MODEL_367208bdf4504b9baf81c98d3a72225a"
            ],
            "layout": "IPY_MODEL_caeb354fe14744369e25ac67782320bd"
          }
        },
        "c065538f83584330b3907e44a80b68c6": {
          "model_module": "@jupyter-widgets/base",
          "model_name": "LayoutModel",
          "model_module_version": "1.2.0",
          "state": {
            "_model_module": "@jupyter-widgets/base",
            "_model_module_version": "1.2.0",
            "_model_name": "LayoutModel",
            "_view_count": null,
            "_view_module": "@jupyter-widgets/base",
            "_view_module_version": "1.2.0",
            "_view_name": "LayoutView",
            "align_content": null,
            "align_items": null,
            "align_self": null,
            "border": null,
            "bottom": null,
            "display": null,
            "flex": null,
            "flex_flow": null,
            "grid_area": null,
            "grid_auto_columns": null,
            "grid_auto_flow": null,
            "grid_auto_rows": null,
            "grid_column": null,
            "grid_gap": null,
            "grid_row": null,
            "grid_template_areas": null,
            "grid_template_columns": null,
            "grid_template_rows": null,
            "height": null,
            "justify_content": null,
            "justify_items": null,
            "left": null,
            "margin": null,
            "max_height": null,
            "max_width": null,
            "min_height": null,
            "min_width": null,
            "object_fit": null,
            "object_position": null,
            "order": null,
            "overflow": null,
            "overflow_x": null,
            "overflow_y": null,
            "padding": null,
            "right": null,
            "top": null,
            "visibility": null,
            "width": null
          }
        },
        "9e112c0e65924e7ab74cdc288d3984eb": {
          "model_module": "@jupyter-widgets/controls",
          "model_name": "DescriptionStyleModel",
          "model_module_version": "1.5.0",
          "state": {
            "_model_module": "@jupyter-widgets/controls",
            "_model_module_version": "1.5.0",
            "_model_name": "DescriptionStyleModel",
            "_view_count": null,
            "_view_module": "@jupyter-widgets/base",
            "_view_module_version": "1.2.0",
            "_view_name": "StyleView",
            "description_width": ""
          }
        },
        "889c875a44c44c98a7cbbd9f44e168c6": {
          "model_module": "@jupyter-widgets/base",
          "model_name": "LayoutModel",
          "model_module_version": "1.2.0",
          "state": {
            "_model_module": "@jupyter-widgets/base",
            "_model_module_version": "1.2.0",
            "_model_name": "LayoutModel",
            "_view_count": null,
            "_view_module": "@jupyter-widgets/base",
            "_view_module_version": "1.2.0",
            "_view_name": "LayoutView",
            "align_content": null,
            "align_items": null,
            "align_self": null,
            "border": null,
            "bottom": null,
            "display": null,
            "flex": null,
            "flex_flow": null,
            "grid_area": null,
            "grid_auto_columns": null,
            "grid_auto_flow": null,
            "grid_auto_rows": null,
            "grid_column": null,
            "grid_gap": null,
            "grid_row": null,
            "grid_template_areas": null,
            "grid_template_columns": null,
            "grid_template_rows": null,
            "height": null,
            "justify_content": null,
            "justify_items": null,
            "left": null,
            "margin": null,
            "max_height": null,
            "max_width": null,
            "min_height": null,
            "min_width": null,
            "object_fit": null,
            "object_position": null,
            "order": null,
            "overflow": null,
            "overflow_x": null,
            "overflow_y": null,
            "padding": null,
            "right": null,
            "top": null,
            "visibility": null,
            "width": null
          }
        },
        "0d9a6e91aa5b4938a8ee3cb90447c638": {
          "model_module": "@jupyter-widgets/controls",
          "model_name": "DescriptionStyleModel",
          "model_module_version": "1.5.0",
          "state": {
            "_model_module": "@jupyter-widgets/controls",
            "_model_module_version": "1.5.0",
            "_model_name": "DescriptionStyleModel",
            "_view_count": null,
            "_view_module": "@jupyter-widgets/base",
            "_view_module_version": "1.2.0",
            "_view_name": "StyleView",
            "description_width": ""
          }
        },
        "c2b63a1a97544f3b96ec7b4bef13ddd9": {
          "model_module": "@jupyter-widgets/controls",
          "model_name": "SliderStyleModel",
          "model_module_version": "1.5.0",
          "state": {
            "_model_module": "@jupyter-widgets/controls",
            "_model_module_version": "1.5.0",
            "_model_name": "SliderStyleModel",
            "_view_count": null,
            "_view_module": "@jupyter-widgets/base",
            "_view_module_version": "1.2.0",
            "_view_name": "StyleView",
            "description_width": "25%",
            "handle_color": null
          }
        },
        "318251d68f4d4bc6a2a37bc7baddc02a": {
          "model_module": "@jupyter-widgets/controls",
          "model_name": "SliderStyleModel",
          "model_module_version": "1.5.0",
          "state": {
            "_model_module": "@jupyter-widgets/controls",
            "_model_module_version": "1.5.0",
            "_model_name": "SliderStyleModel",
            "_view_count": null,
            "_view_module": "@jupyter-widgets/base",
            "_view_module_version": "1.2.0",
            "_view_name": "StyleView",
            "description_width": "25%",
            "handle_color": null
          }
        },
        "2bd87ff001604da48eae75db998c0754": {
          "model_module": "@jupyter-widgets/controls",
          "model_name": "SliderStyleModel",
          "model_module_version": "1.5.0",
          "state": {
            "_model_module": "@jupyter-widgets/controls",
            "_model_module_version": "1.5.0",
            "_model_name": "SliderStyleModel",
            "_view_count": null,
            "_view_module": "@jupyter-widgets/base",
            "_view_module_version": "1.2.0",
            "_view_name": "StyleView",
            "description_width": "25%",
            "handle_color": null
          }
        },
        "367208bdf4504b9baf81c98d3a72225a": {
          "model_module": "@jupyter-widgets/controls",
          "model_name": "ButtonModel",
          "model_module_version": "1.5.0",
          "state": {
            "_dom_classes": [],
            "_model_module": "@jupyter-widgets/controls",
            "_model_module_version": "1.5.0",
            "_model_name": "ButtonModel",
            "_view_count": null,
            "_view_module": "@jupyter-widgets/controls",
            "_view_module_version": "1.5.0",
            "_view_name": "ButtonView",
            "button_style": "",
            "description": "Treinar Modelo",
            "disabled": false,
            "icon": "",
            "layout": "IPY_MODEL_97b982ac02bc4fb6bf87a8bf2799d221",
            "style": "IPY_MODEL_d093a62ee79a46609a0d38111e41a189",
            "tooltip": ""
          }
        },
        "d093a62ee79a46609a0d38111e41a189": {
          "model_module": "@jupyter-widgets/controls",
          "model_name": "ButtonStyleModel",
          "model_module_version": "1.5.0",
          "state": {
            "_model_module": "@jupyter-widgets/controls",
            "_model_module_version": "1.5.0",
            "_model_name": "ButtonStyleModel",
            "_view_count": null,
            "_view_module": "@jupyter-widgets/base",
            "_view_module_version": "1.2.0",
            "_view_name": "StyleView",
            "button_color": null,
            "font_weight": ""
          }
        },
        "3d86baa509aa499eab2fc76345a19afe": {
          "model_module": "@jupyter-widgets/controls",
          "model_name": "VBoxModel",
          "model_module_version": "1.5.0",
          "state": {
            "_dom_classes": [],
            "_model_module": "@jupyter-widgets/controls",
            "_model_module_version": "1.5.0",
            "_model_name": "VBoxModel",
            "_view_count": null,
            "_view_module": "@jupyter-widgets/controls",
            "_view_module_version": "1.5.0",
            "_view_name": "VBoxView",
            "box_style": "",
            "children": [
              "IPY_MODEL_7e02064bf35e4db288735c7fa901eeb9",
              "IPY_MODEL_38412e1be4f9437bab169c7efcc90511"
            ],
            "layout": "IPY_MODEL_5912144f96d846b3b189e9181481a023"
          }
        },
        "7e02064bf35e4db288735c7fa901eeb9": {
          "model_module": "@jupyter-widgets/controls",
          "model_name": "LabelModel",
          "model_module_version": "1.5.0",
          "state": {
            "_dom_classes": [],
            "_model_module": "@jupyter-widgets/controls",
            "_model_module_version": "1.5.0",
            "_model_name": "LabelModel",
            "_view_count": null,
            "_view_module": "@jupyter-widgets/controls",
            "_view_module_version": "1.5.0",
            "_view_name": "LabelView",
            "description": "",
            "description_tooltip": null,
            "layout": "IPY_MODEL_1c10e9ec4a634773aa8cd0f6f4d3e358",
            "placeholder": "​",
            "style": "IPY_MODEL_d40524239982493493a3e69ee52a9c43",
            "value": "Avaliação do treinamento"
          }
        },
        "38412e1be4f9437bab169c7efcc90511": {
          "model_module": "@jupyter-widgets/controls",
          "model_name": "HBoxModel",
          "model_module_version": "1.5.0",
          "state": {
            "_dom_classes": [],
            "_model_module": "@jupyter-widgets/controls",
            "_model_module_version": "1.5.0",
            "_model_name": "HBoxModel",
            "_view_count": null,
            "_view_module": "@jupyter-widgets/controls",
            "_view_module_version": "1.5.0",
            "_view_name": "HBoxView",
            "box_style": "",
            "children": [
              "IPY_MODEL_b4e578eb6fd34456a48ee9bb04f25a7c"
            ],
            "layout": "IPY_MODEL_caeb354fe14744369e25ac67782320bd"
          }
        },
        "1c10e9ec4a634773aa8cd0f6f4d3e358": {
          "model_module": "@jupyter-widgets/base",
          "model_name": "LayoutModel",
          "model_module_version": "1.2.0",
          "state": {
            "_model_module": "@jupyter-widgets/base",
            "_model_module_version": "1.2.0",
            "_model_name": "LayoutModel",
            "_view_count": null,
            "_view_module": "@jupyter-widgets/base",
            "_view_module_version": "1.2.0",
            "_view_name": "LayoutView",
            "align_content": null,
            "align_items": null,
            "align_self": null,
            "border": null,
            "bottom": null,
            "display": null,
            "flex": null,
            "flex_flow": null,
            "grid_area": null,
            "grid_auto_columns": null,
            "grid_auto_flow": null,
            "grid_auto_rows": null,
            "grid_column": null,
            "grid_gap": null,
            "grid_row": null,
            "grid_template_areas": null,
            "grid_template_columns": null,
            "grid_template_rows": null,
            "height": null,
            "justify_content": null,
            "justify_items": null,
            "left": null,
            "margin": null,
            "max_height": null,
            "max_width": null,
            "min_height": null,
            "min_width": null,
            "object_fit": null,
            "object_position": null,
            "order": null,
            "overflow": null,
            "overflow_x": null,
            "overflow_y": null,
            "padding": null,
            "right": null,
            "top": null,
            "visibility": null,
            "width": null
          }
        },
        "d40524239982493493a3e69ee52a9c43": {
          "model_module": "@jupyter-widgets/controls",
          "model_name": "DescriptionStyleModel",
          "model_module_version": "1.5.0",
          "state": {
            "_model_module": "@jupyter-widgets/controls",
            "_model_module_version": "1.5.0",
            "_model_name": "DescriptionStyleModel",
            "_view_count": null,
            "_view_module": "@jupyter-widgets/base",
            "_view_module_version": "1.2.0",
            "_view_name": "StyleView",
            "description_width": ""
          }
        },
        "b4e578eb6fd34456a48ee9bb04f25a7c": {
          "model_module": "@jupyter-widgets/controls",
          "model_name": "ButtonModel",
          "model_module_version": "1.5.0",
          "state": {
            "_dom_classes": [],
            "_model_module": "@jupyter-widgets/controls",
            "_model_module_version": "1.5.0",
            "_model_name": "ButtonModel",
            "_view_count": null,
            "_view_module": "@jupyter-widgets/controls",
            "_view_module_version": "1.5.0",
            "_view_name": "ButtonView",
            "button_style": "",
            "description": "Mostrar",
            "disabled": false,
            "icon": "",
            "layout": "IPY_MODEL_97b982ac02bc4fb6bf87a8bf2799d221",
            "style": "IPY_MODEL_bb846d56ad5d4f8c9c002a25b0fd70df",
            "tooltip": ""
          }
        },
        "bb846d56ad5d4f8c9c002a25b0fd70df": {
          "model_module": "@jupyter-widgets/controls",
          "model_name": "ButtonStyleModel",
          "model_module_version": "1.5.0",
          "state": {
            "_model_module": "@jupyter-widgets/controls",
            "_model_module_version": "1.5.0",
            "_model_name": "ButtonStyleModel",
            "_view_count": null,
            "_view_module": "@jupyter-widgets/base",
            "_view_module_version": "1.2.0",
            "_view_name": "StyleView",
            "button_color": null,
            "font_weight": ""
          }
        },
        "85eed3f631de48eda76c65c7e1788ac0": {
          "model_module": "@jupyter-widgets/controls",
          "model_name": "VBoxModel",
          "model_module_version": "1.5.0",
          "state": {
            "_dom_classes": [],
            "_model_module": "@jupyter-widgets/controls",
            "_model_module_version": "1.5.0",
            "_model_name": "VBoxModel",
            "_view_count": null,
            "_view_module": "@jupyter-widgets/controls",
            "_view_module_version": "1.5.0",
            "_view_name": "VBoxView",
            "box_style": "",
            "children": [
              "IPY_MODEL_91e1268d5aeb42a2a2626b9988a1e3c7",
              "IPY_MODEL_6e5456b30e0b4242bf87ce27c39d51f5"
            ],
            "layout": "IPY_MODEL_5912144f96d846b3b189e9181481a023"
          }
        },
        "91e1268d5aeb42a2a2626b9988a1e3c7": {
          "model_module": "@jupyter-widgets/controls",
          "model_name": "LabelModel",
          "model_module_version": "1.5.0",
          "state": {
            "_dom_classes": [],
            "_model_module": "@jupyter-widgets/controls",
            "_model_module_version": "1.5.0",
            "_model_name": "LabelModel",
            "_view_count": null,
            "_view_module": "@jupyter-widgets/controls",
            "_view_module_version": "1.5.0",
            "_view_name": "LabelView",
            "description": "",
            "description_tooltip": null,
            "layout": "IPY_MODEL_a0a7b3c4d4d24d3a9ad0912b44247058",
            "placeholder": "​",
            "style": "IPY_MODEL_6cb7b5dcbb78438fb49ac83728e534bf",
            "value": "Avaliação do desempenho"
          }
        },
        "6e5456b30e0b4242bf87ce27c39d51f5": {
          "model_module": "@jupyter-widgets/controls",
          "model_name": "HBoxModel",
          "model_module_version": "1.5.0",
          "state": {
            "_dom_classes": [],
            "_model_module": "@jupyter-widgets/controls",
            "_model_module_version": "1.5.0",
            "_model_name": "HBoxModel",
            "_view_count": null,
            "_view_module": "@jupyter-widgets/controls",
            "_view_module_version": "1.5.0",
            "_view_name": "HBoxView",
            "box_style": "",
            "children": [
              "IPY_MODEL_f5429b8962224c57abf435734bd37c4b"
            ],
            "layout": "IPY_MODEL_caeb354fe14744369e25ac67782320bd"
          }
        },
        "a0a7b3c4d4d24d3a9ad0912b44247058": {
          "model_module": "@jupyter-widgets/base",
          "model_name": "LayoutModel",
          "model_module_version": "1.2.0",
          "state": {
            "_model_module": "@jupyter-widgets/base",
            "_model_module_version": "1.2.0",
            "_model_name": "LayoutModel",
            "_view_count": null,
            "_view_module": "@jupyter-widgets/base",
            "_view_module_version": "1.2.0",
            "_view_name": "LayoutView",
            "align_content": null,
            "align_items": null,
            "align_self": null,
            "border": null,
            "bottom": null,
            "display": null,
            "flex": null,
            "flex_flow": null,
            "grid_area": null,
            "grid_auto_columns": null,
            "grid_auto_flow": null,
            "grid_auto_rows": null,
            "grid_column": null,
            "grid_gap": null,
            "grid_row": null,
            "grid_template_areas": null,
            "grid_template_columns": null,
            "grid_template_rows": null,
            "height": null,
            "justify_content": null,
            "justify_items": null,
            "left": null,
            "margin": null,
            "max_height": null,
            "max_width": null,
            "min_height": null,
            "min_width": null,
            "object_fit": null,
            "object_position": null,
            "order": null,
            "overflow": null,
            "overflow_x": null,
            "overflow_y": null,
            "padding": null,
            "right": null,
            "top": null,
            "visibility": null,
            "width": null
          }
        },
        "6cb7b5dcbb78438fb49ac83728e534bf": {
          "model_module": "@jupyter-widgets/controls",
          "model_name": "DescriptionStyleModel",
          "model_module_version": "1.5.0",
          "state": {
            "_model_module": "@jupyter-widgets/controls",
            "_model_module_version": "1.5.0",
            "_model_name": "DescriptionStyleModel",
            "_view_count": null,
            "_view_module": "@jupyter-widgets/base",
            "_view_module_version": "1.2.0",
            "_view_name": "StyleView",
            "description_width": ""
          }
        },
        "f5429b8962224c57abf435734bd37c4b": {
          "model_module": "@jupyter-widgets/controls",
          "model_name": "ButtonModel",
          "model_module_version": "1.5.0",
          "state": {
            "_dom_classes": [],
            "_model_module": "@jupyter-widgets/controls",
            "_model_module_version": "1.5.0",
            "_model_name": "ButtonModel",
            "_view_count": null,
            "_view_module": "@jupyter-widgets/controls",
            "_view_module_version": "1.5.0",
            "_view_name": "ButtonView",
            "button_style": "",
            "description": "Mostrar",
            "disabled": false,
            "icon": "",
            "layout": "IPY_MODEL_97b982ac02bc4fb6bf87a8bf2799d221",
            "style": "IPY_MODEL_c1229e5d8fcc477197b79fd6c2c5c54f",
            "tooltip": ""
          }
        },
        "c1229e5d8fcc477197b79fd6c2c5c54f": {
          "model_module": "@jupyter-widgets/controls",
          "model_name": "ButtonStyleModel",
          "model_module_version": "1.5.0",
          "state": {
            "_model_module": "@jupyter-widgets/controls",
            "_model_module_version": "1.5.0",
            "_model_name": "ButtonStyleModel",
            "_view_count": null,
            "_view_module": "@jupyter-widgets/base",
            "_view_module_version": "1.2.0",
            "_view_name": "StyleView",
            "button_color": null,
            "font_weight": ""
          }
        },
        "51061f01b2954495a26ab90faf1d0ffd": {
          "model_module": "@jupyter-widgets/controls",
          "model_name": "VBoxModel",
          "model_module_version": "1.5.0",
          "state": {
            "_dom_classes": [],
            "_model_module": "@jupyter-widgets/controls",
            "_model_module_version": "1.5.0",
            "_model_name": "VBoxModel",
            "_view_count": null,
            "_view_module": "@jupyter-widgets/controls",
            "_view_module_version": "1.5.0",
            "_view_name": "VBoxView",
            "box_style": "",
            "children": [
              "IPY_MODEL_0116a62b7b2b4e9f86f8dee42cacc263",
              "IPY_MODEL_9f3adfeb9585425daa05e55a3e86a6e0"
            ],
            "layout": "IPY_MODEL_5912144f96d846b3b189e9181481a023"
          }
        },
        "0116a62b7b2b4e9f86f8dee42cacc263": {
          "model_module": "@jupyter-widgets/controls",
          "model_name": "LabelModel",
          "model_module_version": "1.5.0",
          "state": {
            "_dom_classes": [],
            "_model_module": "@jupyter-widgets/controls",
            "_model_module_version": "1.5.0",
            "_model_name": "LabelModel",
            "_view_count": null,
            "_view_module": "@jupyter-widgets/controls",
            "_view_module_version": "1.5.0",
            "_view_name": "LabelView",
            "description": "",
            "description_tooltip": null,
            "layout": "IPY_MODEL_05f99ed042a140d188a86aae1410baec",
            "placeholder": "​",
            "style": "IPY_MODEL_bbb8b620551441c49468e7286654b07f",
            "value": "Curva do F1 Score"
          }
        },
        "9f3adfeb9585425daa05e55a3e86a6e0": {
          "model_module": "@jupyter-widgets/controls",
          "model_name": "HBoxModel",
          "model_module_version": "1.5.0",
          "state": {
            "_dom_classes": [],
            "_model_module": "@jupyter-widgets/controls",
            "_model_module_version": "1.5.0",
            "_model_name": "HBoxModel",
            "_view_count": null,
            "_view_module": "@jupyter-widgets/controls",
            "_view_module_version": "1.5.0",
            "_view_name": "HBoxView",
            "box_style": "",
            "children": [
              "IPY_MODEL_fa5c099671a54505a7b15959d41b8ab7"
            ],
            "layout": "IPY_MODEL_caeb354fe14744369e25ac67782320bd"
          }
        },
        "05f99ed042a140d188a86aae1410baec": {
          "model_module": "@jupyter-widgets/base",
          "model_name": "LayoutModel",
          "model_module_version": "1.2.0",
          "state": {
            "_model_module": "@jupyter-widgets/base",
            "_model_module_version": "1.2.0",
            "_model_name": "LayoutModel",
            "_view_count": null,
            "_view_module": "@jupyter-widgets/base",
            "_view_module_version": "1.2.0",
            "_view_name": "LayoutView",
            "align_content": null,
            "align_items": null,
            "align_self": null,
            "border": null,
            "bottom": null,
            "display": null,
            "flex": null,
            "flex_flow": null,
            "grid_area": null,
            "grid_auto_columns": null,
            "grid_auto_flow": null,
            "grid_auto_rows": null,
            "grid_column": null,
            "grid_gap": null,
            "grid_row": null,
            "grid_template_areas": null,
            "grid_template_columns": null,
            "grid_template_rows": null,
            "height": null,
            "justify_content": null,
            "justify_items": null,
            "left": null,
            "margin": null,
            "max_height": null,
            "max_width": null,
            "min_height": null,
            "min_width": null,
            "object_fit": null,
            "object_position": null,
            "order": null,
            "overflow": null,
            "overflow_x": null,
            "overflow_y": null,
            "padding": null,
            "right": null,
            "top": null,
            "visibility": null,
            "width": null
          }
        },
        "bbb8b620551441c49468e7286654b07f": {
          "model_module": "@jupyter-widgets/controls",
          "model_name": "DescriptionStyleModel",
          "model_module_version": "1.5.0",
          "state": {
            "_model_module": "@jupyter-widgets/controls",
            "_model_module_version": "1.5.0",
            "_model_name": "DescriptionStyleModel",
            "_view_count": null,
            "_view_module": "@jupyter-widgets/base",
            "_view_module_version": "1.2.0",
            "_view_name": "StyleView",
            "description_width": ""
          }
        },
        "fa5c099671a54505a7b15959d41b8ab7": {
          "model_module": "@jupyter-widgets/controls",
          "model_name": "ButtonModel",
          "model_module_version": "1.5.0",
          "state": {
            "_dom_classes": [],
            "_model_module": "@jupyter-widgets/controls",
            "_model_module_version": "1.5.0",
            "_model_name": "ButtonModel",
            "_view_count": null,
            "_view_module": "@jupyter-widgets/controls",
            "_view_module_version": "1.5.0",
            "_view_name": "ButtonView",
            "button_style": "",
            "description": "Mostrar",
            "disabled": false,
            "icon": "",
            "layout": "IPY_MODEL_97b982ac02bc4fb6bf87a8bf2799d221",
            "style": "IPY_MODEL_0bff60c19a76415e93da74138e62cab7",
            "tooltip": ""
          }
        },
        "0bff60c19a76415e93da74138e62cab7": {
          "model_module": "@jupyter-widgets/controls",
          "model_name": "ButtonStyleModel",
          "model_module_version": "1.5.0",
          "state": {
            "_model_module": "@jupyter-widgets/controls",
            "_model_module_version": "1.5.0",
            "_model_name": "ButtonStyleModel",
            "_view_count": null,
            "_view_module": "@jupyter-widgets/base",
            "_view_module_version": "1.2.0",
            "_view_name": "StyleView",
            "button_color": null,
            "font_weight": ""
          }
        },
        "705ba0e94ab84da5b49453c0fa907158": {
          "model_module": "@jupyter-widgets/controls",
          "model_name": "VBoxModel",
          "model_module_version": "1.5.0",
          "state": {
            "_dom_classes": [],
            "_model_module": "@jupyter-widgets/controls",
            "_model_module_version": "1.5.0",
            "_model_name": "VBoxModel",
            "_view_count": null,
            "_view_module": "@jupyter-widgets/controls",
            "_view_module_version": "1.5.0",
            "_view_name": "VBoxView",
            "box_style": "",
            "children": [
              "IPY_MODEL_16768845fa244c83839a461e849520a1",
              "IPY_MODEL_fa8f2ed920d1487b831ee890e493b78a"
            ],
            "layout": "IPY_MODEL_5912144f96d846b3b189e9181481a023"
          }
        },
        "16768845fa244c83839a461e849520a1": {
          "model_module": "@jupyter-widgets/controls",
          "model_name": "LabelModel",
          "model_module_version": "1.5.0",
          "state": {
            "_dom_classes": [],
            "_model_module": "@jupyter-widgets/controls",
            "_model_module_version": "1.5.0",
            "_model_name": "LabelModel",
            "_view_count": null,
            "_view_module": "@jupyter-widgets/controls",
            "_view_module_version": "1.5.0",
            "_view_name": "LabelView",
            "description": "",
            "description_tooltip": null,
            "layout": "IPY_MODEL_ecc5908fd74d41ac859dad52ca4cc323",
            "placeholder": "​",
            "style": "IPY_MODEL_b892331e5f604a23add8a26e31b8784c",
            "value": "Matriz de Confusão"
          }
        },
        "fa8f2ed920d1487b831ee890e493b78a": {
          "model_module": "@jupyter-widgets/controls",
          "model_name": "HBoxModel",
          "model_module_version": "1.5.0",
          "state": {
            "_dom_classes": [],
            "_model_module": "@jupyter-widgets/controls",
            "_model_module_version": "1.5.0",
            "_model_name": "HBoxModel",
            "_view_count": null,
            "_view_module": "@jupyter-widgets/controls",
            "_view_module_version": "1.5.0",
            "_view_name": "HBoxView",
            "box_style": "",
            "children": [
              "IPY_MODEL_61e507086d544b74bc5717bbcaca78b6"
            ],
            "layout": "IPY_MODEL_caeb354fe14744369e25ac67782320bd"
          }
        },
        "ecc5908fd74d41ac859dad52ca4cc323": {
          "model_module": "@jupyter-widgets/base",
          "model_name": "LayoutModel",
          "model_module_version": "1.2.0",
          "state": {
            "_model_module": "@jupyter-widgets/base",
            "_model_module_version": "1.2.0",
            "_model_name": "LayoutModel",
            "_view_count": null,
            "_view_module": "@jupyter-widgets/base",
            "_view_module_version": "1.2.0",
            "_view_name": "LayoutView",
            "align_content": null,
            "align_items": null,
            "align_self": null,
            "border": null,
            "bottom": null,
            "display": null,
            "flex": null,
            "flex_flow": null,
            "grid_area": null,
            "grid_auto_columns": null,
            "grid_auto_flow": null,
            "grid_auto_rows": null,
            "grid_column": null,
            "grid_gap": null,
            "grid_row": null,
            "grid_template_areas": null,
            "grid_template_columns": null,
            "grid_template_rows": null,
            "height": null,
            "justify_content": null,
            "justify_items": null,
            "left": null,
            "margin": null,
            "max_height": null,
            "max_width": null,
            "min_height": null,
            "min_width": null,
            "object_fit": null,
            "object_position": null,
            "order": null,
            "overflow": null,
            "overflow_x": null,
            "overflow_y": null,
            "padding": null,
            "right": null,
            "top": null,
            "visibility": null,
            "width": null
          }
        },
        "b892331e5f604a23add8a26e31b8784c": {
          "model_module": "@jupyter-widgets/controls",
          "model_name": "DescriptionStyleModel",
          "model_module_version": "1.5.0",
          "state": {
            "_model_module": "@jupyter-widgets/controls",
            "_model_module_version": "1.5.0",
            "_model_name": "DescriptionStyleModel",
            "_view_count": null,
            "_view_module": "@jupyter-widgets/base",
            "_view_module_version": "1.2.0",
            "_view_name": "StyleView",
            "description_width": ""
          }
        },
        "61e507086d544b74bc5717bbcaca78b6": {
          "model_module": "@jupyter-widgets/controls",
          "model_name": "ButtonModel",
          "model_module_version": "1.5.0",
          "state": {
            "_dom_classes": [],
            "_model_module": "@jupyter-widgets/controls",
            "_model_module_version": "1.5.0",
            "_model_name": "ButtonModel",
            "_view_count": null,
            "_view_module": "@jupyter-widgets/controls",
            "_view_module_version": "1.5.0",
            "_view_name": "ButtonView",
            "button_style": "",
            "description": "Mostrar",
            "disabled": false,
            "icon": "",
            "layout": "IPY_MODEL_97b982ac02bc4fb6bf87a8bf2799d221",
            "style": "IPY_MODEL_46897e28bc4242e7b535a6e10754e358",
            "tooltip": ""
          }
        },
        "46897e28bc4242e7b535a6e10754e358": {
          "model_module": "@jupyter-widgets/controls",
          "model_name": "ButtonStyleModel",
          "model_module_version": "1.5.0",
          "state": {
            "_model_module": "@jupyter-widgets/controls",
            "_model_module_version": "1.5.0",
            "_model_name": "ButtonStyleModel",
            "_view_count": null,
            "_view_module": "@jupyter-widgets/base",
            "_view_module_version": "1.2.0",
            "_view_name": "StyleView",
            "button_color": null,
            "font_weight": ""
          }
        },
        "57edb893e4a548328d59958ddc22aae7": {
          "model_module": "@jupyter-widgets/controls",
          "model_name": "VBoxModel",
          "model_module_version": "1.5.0",
          "state": {
            "_dom_classes": [],
            "_model_module": "@jupyter-widgets/controls",
            "_model_module_version": "1.5.0",
            "_model_name": "VBoxModel",
            "_view_count": null,
            "_view_module": "@jupyter-widgets/controls",
            "_view_module_version": "1.5.0",
            "_view_name": "VBoxView",
            "box_style": "",
            "children": [
              "IPY_MODEL_59bd23dad90f4082ba6fff4f7324ad4c",
              "IPY_MODEL_b8226a3e4fd84d86a59413adf9c5a462"
            ],
            "layout": "IPY_MODEL_5912144f96d846b3b189e9181481a023"
          }
        },
        "59bd23dad90f4082ba6fff4f7324ad4c": {
          "model_module": "@jupyter-widgets/controls",
          "model_name": "HTMLModel",
          "model_module_version": "1.5.0",
          "state": {
            "_dom_classes": [],
            "_model_module": "@jupyter-widgets/controls",
            "_model_module_version": "1.5.0",
            "_model_name": "HTMLModel",
            "_view_count": null,
            "_view_module": "@jupyter-widgets/controls",
            "_view_module_version": "1.5.0",
            "_view_name": "HTMLView",
            "description": "",
            "description_tooltip": null,
            "layout": "IPY_MODEL_777b6e2441d3412eaad4bf0aeea78859",
            "placeholder": "​",
            "style": "IPY_MODEL_d3f7673a0bc848ba95eaef5efbbe4a8f",
            "value": "<p style=font-family:Arial><b>Taxa de Confiança<b/> <a target=\"_blank\" href=https://github.com/joaopedsa/TCC/blob/master/PREDICAO.md> ?</a> <p>"
          }
        },
        "b8226a3e4fd84d86a59413adf9c5a462": {
          "model_module": "@jupyter-widgets/controls",
          "model_name": "IntSliderModel",
          "model_module_version": "1.5.0",
          "state": {
            "_dom_classes": [],
            "_model_module": "@jupyter-widgets/controls",
            "_model_module_version": "1.5.0",
            "_model_name": "IntSliderModel",
            "_view_count": null,
            "_view_module": "@jupyter-widgets/controls",
            "_view_module_version": "1.5.0",
            "_view_name": "IntSliderView",
            "continuous_update": true,
            "description": "Confiança",
            "description_tooltip": "Taxa de Confiança",
            "disabled": false,
            "layout": "IPY_MODEL_26e82b6f8bb44c779427feb24e9285d6",
            "max": 100,
            "min": 1,
            "orientation": "horizontal",
            "readout": true,
            "readout_format": "d",
            "step": 1,
            "style": "IPY_MODEL_9a30fceffafc49f48afaeb572a97dd43",
            "value": 10
          }
        },
        "777b6e2441d3412eaad4bf0aeea78859": {
          "model_module": "@jupyter-widgets/base",
          "model_name": "LayoutModel",
          "model_module_version": "1.2.0",
          "state": {
            "_model_module": "@jupyter-widgets/base",
            "_model_module_version": "1.2.0",
            "_model_name": "LayoutModel",
            "_view_count": null,
            "_view_module": "@jupyter-widgets/base",
            "_view_module_version": "1.2.0",
            "_view_name": "LayoutView",
            "align_content": null,
            "align_items": null,
            "align_self": null,
            "border": null,
            "bottom": null,
            "display": null,
            "flex": null,
            "flex_flow": null,
            "grid_area": null,
            "grid_auto_columns": null,
            "grid_auto_flow": null,
            "grid_auto_rows": null,
            "grid_column": null,
            "grid_gap": null,
            "grid_row": null,
            "grid_template_areas": null,
            "grid_template_columns": null,
            "grid_template_rows": null,
            "height": null,
            "justify_content": null,
            "justify_items": null,
            "left": null,
            "margin": null,
            "max_height": null,
            "max_width": null,
            "min_height": null,
            "min_width": null,
            "object_fit": null,
            "object_position": null,
            "order": null,
            "overflow": null,
            "overflow_x": null,
            "overflow_y": null,
            "padding": null,
            "right": null,
            "top": null,
            "visibility": null,
            "width": null
          }
        },
        "d3f7673a0bc848ba95eaef5efbbe4a8f": {
          "model_module": "@jupyter-widgets/controls",
          "model_name": "DescriptionStyleModel",
          "model_module_version": "1.5.0",
          "state": {
            "_model_module": "@jupyter-widgets/controls",
            "_model_module_version": "1.5.0",
            "_model_name": "DescriptionStyleModel",
            "_view_count": null,
            "_view_module": "@jupyter-widgets/base",
            "_view_module_version": "1.2.0",
            "_view_name": "StyleView",
            "description_width": ""
          }
        },
        "9a30fceffafc49f48afaeb572a97dd43": {
          "model_module": "@jupyter-widgets/controls",
          "model_name": "SliderStyleModel",
          "model_module_version": "1.5.0",
          "state": {
            "_model_module": "@jupyter-widgets/controls",
            "_model_module_version": "1.5.0",
            "_model_name": "SliderStyleModel",
            "_view_count": null,
            "_view_module": "@jupyter-widgets/base",
            "_view_module_version": "1.2.0",
            "_view_name": "StyleView",
            "description_width": "25%",
            "handle_color": null
          }
        },
        "a0e0ffbd33e64a2a894f53b894f8107a": {
          "model_module": "@jupyter-widgets/controls",
          "model_name": "VBoxModel",
          "model_module_version": "1.5.0",
          "state": {
            "_dom_classes": [],
            "_model_module": "@jupyter-widgets/controls",
            "_model_module_version": "1.5.0",
            "_model_name": "VBoxModel",
            "_view_count": null,
            "_view_module": "@jupyter-widgets/controls",
            "_view_module_version": "1.5.0",
            "_view_name": "VBoxView",
            "box_style": "",
            "children": [
              "IPY_MODEL_069b799967184d9c982bb48ac883dd0e",
              "IPY_MODEL_3f6f380248fb4a26b2e06819d6ab8655"
            ],
            "layout": "IPY_MODEL_5912144f96d846b3b189e9181481a023"
          }
        },
        "069b799967184d9c982bb48ac883dd0e": {
          "model_module": "@jupyter-widgets/controls",
          "model_name": "LabelModel",
          "model_module_version": "1.5.0",
          "state": {
            "_dom_classes": [],
            "_model_module": "@jupyter-widgets/controls",
            "_model_module_version": "1.5.0",
            "_model_name": "LabelModel",
            "_view_count": null,
            "_view_module": "@jupyter-widgets/controls",
            "_view_module_version": "1.5.0",
            "_view_name": "LabelView",
            "description": "",
            "description_tooltip": null,
            "layout": "IPY_MODEL_bfef9755e92f4201a6984ae28dced60b",
            "placeholder": "​",
            "style": "IPY_MODEL_b218653205e341aeabf64aa529598ba6",
            "value": "Predição do test set (parte do seu conjunto de dados)"
          }
        },
        "3f6f380248fb4a26b2e06819d6ab8655": {
          "model_module": "@jupyter-widgets/controls",
          "model_name": "HBoxModel",
          "model_module_version": "1.5.0",
          "state": {
            "_dom_classes": [],
            "_model_module": "@jupyter-widgets/controls",
            "_model_module_version": "1.5.0",
            "_model_name": "HBoxModel",
            "_view_count": null,
            "_view_module": "@jupyter-widgets/controls",
            "_view_module_version": "1.5.0",
            "_view_name": "HBoxView",
            "box_style": "",
            "children": [
              "IPY_MODEL_5e26781aeb394ac4bd6f2d8de8ff6919"
            ],
            "layout": "IPY_MODEL_caeb354fe14744369e25ac67782320bd"
          }
        },
        "bfef9755e92f4201a6984ae28dced60b": {
          "model_module": "@jupyter-widgets/base",
          "model_name": "LayoutModel",
          "model_module_version": "1.2.0",
          "state": {
            "_model_module": "@jupyter-widgets/base",
            "_model_module_version": "1.2.0",
            "_model_name": "LayoutModel",
            "_view_count": null,
            "_view_module": "@jupyter-widgets/base",
            "_view_module_version": "1.2.0",
            "_view_name": "LayoutView",
            "align_content": null,
            "align_items": null,
            "align_self": null,
            "border": null,
            "bottom": null,
            "display": null,
            "flex": null,
            "flex_flow": null,
            "grid_area": null,
            "grid_auto_columns": null,
            "grid_auto_flow": null,
            "grid_auto_rows": null,
            "grid_column": null,
            "grid_gap": null,
            "grid_row": null,
            "grid_template_areas": null,
            "grid_template_columns": null,
            "grid_template_rows": null,
            "height": null,
            "justify_content": null,
            "justify_items": null,
            "left": null,
            "margin": null,
            "max_height": null,
            "max_width": null,
            "min_height": null,
            "min_width": null,
            "object_fit": null,
            "object_position": null,
            "order": null,
            "overflow": null,
            "overflow_x": null,
            "overflow_y": null,
            "padding": null,
            "right": null,
            "top": null,
            "visibility": null,
            "width": null
          }
        },
        "b218653205e341aeabf64aa529598ba6": {
          "model_module": "@jupyter-widgets/controls",
          "model_name": "DescriptionStyleModel",
          "model_module_version": "1.5.0",
          "state": {
            "_model_module": "@jupyter-widgets/controls",
            "_model_module_version": "1.5.0",
            "_model_name": "DescriptionStyleModel",
            "_view_count": null,
            "_view_module": "@jupyter-widgets/base",
            "_view_module_version": "1.2.0",
            "_view_name": "StyleView",
            "description_width": ""
          }
        },
        "5e26781aeb394ac4bd6f2d8de8ff6919": {
          "model_module": "@jupyter-widgets/controls",
          "model_name": "ButtonModel",
          "model_module_version": "1.5.0",
          "state": {
            "_dom_classes": [],
            "_model_module": "@jupyter-widgets/controls",
            "_model_module_version": "1.5.0",
            "_model_name": "ButtonModel",
            "_view_count": null,
            "_view_module": "@jupyter-widgets/controls",
            "_view_module_version": "1.5.0",
            "_view_name": "ButtonView",
            "button_style": "",
            "description": "Predição",
            "disabled": false,
            "icon": "",
            "layout": "IPY_MODEL_97b982ac02bc4fb6bf87a8bf2799d221",
            "style": "IPY_MODEL_89ac53d51bcc46acb8412a589ca139e6",
            "tooltip": ""
          }
        },
        "89ac53d51bcc46acb8412a589ca139e6": {
          "model_module": "@jupyter-widgets/controls",
          "model_name": "ButtonStyleModel",
          "model_module_version": "1.5.0",
          "state": {
            "_model_module": "@jupyter-widgets/controls",
            "_model_module_version": "1.5.0",
            "_model_name": "ButtonStyleModel",
            "_view_count": null,
            "_view_module": "@jupyter-widgets/base",
            "_view_module_version": "1.2.0",
            "_view_name": "StyleView",
            "button_color": null,
            "font_weight": ""
          }
        },
        "62c332e75aeb426b97dbcbd6c412a1c8": {
          "model_module": "@jupyter-widgets/controls",
          "model_name": "VBoxModel",
          "model_module_version": "1.5.0",
          "state": {
            "_dom_classes": [],
            "_model_module": "@jupyter-widgets/controls",
            "_model_module_version": "1.5.0",
            "_model_name": "VBoxModel",
            "_view_count": null,
            "_view_module": "@jupyter-widgets/controls",
            "_view_module_version": "1.5.0",
            "_view_name": "VBoxView",
            "box_style": "",
            "children": [
              "IPY_MODEL_7c086df71f9d4959a047f1ef608f29d9",
              "IPY_MODEL_492d481268214836a5a60ed91cc83f5a"
            ],
            "layout": "IPY_MODEL_5912144f96d846b3b189e9181481a023"
          }
        },
        "7c086df71f9d4959a047f1ef608f29d9": {
          "model_module": "@jupyter-widgets/controls",
          "model_name": "LabelModel",
          "model_module_version": "1.5.0",
          "state": {
            "_dom_classes": [],
            "_model_module": "@jupyter-widgets/controls",
            "_model_module_version": "1.5.0",
            "_model_name": "LabelModel",
            "_view_count": null,
            "_view_module": "@jupyter-widgets/controls",
            "_view_module_version": "1.5.0",
            "_view_name": "LabelView",
            "description": "",
            "description_tooltip": null,
            "layout": "IPY_MODEL_aa134df94b6f4de6a0ba5d3f8982117d",
            "placeholder": "​",
            "style": "IPY_MODEL_1545cb0a907e48468045a07bc5a8833c",
            "value": "Predição pelo upload de uma imagem"
          }
        },
        "492d481268214836a5a60ed91cc83f5a": {
          "model_module": "@jupyter-widgets/controls",
          "model_name": "HBoxModel",
          "model_module_version": "1.5.0",
          "state": {
            "_dom_classes": [],
            "_model_module": "@jupyter-widgets/controls",
            "_model_module_version": "1.5.0",
            "_model_name": "HBoxModel",
            "_view_count": null,
            "_view_module": "@jupyter-widgets/controls",
            "_view_module_version": "1.5.0",
            "_view_name": "HBoxView",
            "box_style": "",
            "children": [
              "IPY_MODEL_663e9266c4e84693b88377dac1ad54ad",
              "IPY_MODEL_7ebc80b098cb49bd9e36fcfcdce2aefe"
            ],
            "layout": "IPY_MODEL_caeb354fe14744369e25ac67782320bd"
          }
        },
        "aa134df94b6f4de6a0ba5d3f8982117d": {
          "model_module": "@jupyter-widgets/base",
          "model_name": "LayoutModel",
          "model_module_version": "1.2.0",
          "state": {
            "_model_module": "@jupyter-widgets/base",
            "_model_module_version": "1.2.0",
            "_model_name": "LayoutModel",
            "_view_count": null,
            "_view_module": "@jupyter-widgets/base",
            "_view_module_version": "1.2.0",
            "_view_name": "LayoutView",
            "align_content": null,
            "align_items": null,
            "align_self": null,
            "border": null,
            "bottom": null,
            "display": null,
            "flex": null,
            "flex_flow": null,
            "grid_area": null,
            "grid_auto_columns": null,
            "grid_auto_flow": null,
            "grid_auto_rows": null,
            "grid_column": null,
            "grid_gap": null,
            "grid_row": null,
            "grid_template_areas": null,
            "grid_template_columns": null,
            "grid_template_rows": null,
            "height": null,
            "justify_content": null,
            "justify_items": null,
            "left": null,
            "margin": null,
            "max_height": null,
            "max_width": null,
            "min_height": null,
            "min_width": null,
            "object_fit": null,
            "object_position": null,
            "order": null,
            "overflow": null,
            "overflow_x": null,
            "overflow_y": null,
            "padding": null,
            "right": null,
            "top": null,
            "visibility": null,
            "width": null
          }
        },
        "1545cb0a907e48468045a07bc5a8833c": {
          "model_module": "@jupyter-widgets/controls",
          "model_name": "DescriptionStyleModel",
          "model_module_version": "1.5.0",
          "state": {
            "_model_module": "@jupyter-widgets/controls",
            "_model_module_version": "1.5.0",
            "_model_name": "DescriptionStyleModel",
            "_view_count": null,
            "_view_module": "@jupyter-widgets/base",
            "_view_module_version": "1.2.0",
            "_view_name": "StyleView",
            "description_width": ""
          }
        },
        "663e9266c4e84693b88377dac1ad54ad": {
          "model_module": "@jupyter-widgets/controls",
          "model_name": "FileUploadModel",
          "model_module_version": "1.5.0",
          "state": {
            "_counter": 0,
            "_dom_classes": [],
            "_model_module": "@jupyter-widgets/controls",
            "_model_module_version": "1.5.0",
            "_model_name": "FileUploadModel",
            "_view_count": null,
            "_view_module": "@jupyter-widgets/controls",
            "_view_module_version": "1.5.0",
            "_view_name": "FileUploadView",
            "accept": "",
            "button_style": "",
            "data": [],
            "description": "Upload",
            "description_tooltip": null,
            "disabled": false,
            "error": "",
            "icon": "upload",
            "layout": "IPY_MODEL_2ab08a9adcfc41f784b6103a078c8a1f",
            "metadata": [],
            "multiple": false,
            "style": "IPY_MODEL_4b21ab8a70e347839770fd9a883bcb8b"
          }
        },
        "7ebc80b098cb49bd9e36fcfcdce2aefe": {
          "model_module": "@jupyter-widgets/controls",
          "model_name": "ButtonModel",
          "model_module_version": "1.5.0",
          "state": {
            "_dom_classes": [],
            "_model_module": "@jupyter-widgets/controls",
            "_model_module_version": "1.5.0",
            "_model_name": "ButtonModel",
            "_view_count": null,
            "_view_module": "@jupyter-widgets/controls",
            "_view_module_version": "1.5.0",
            "_view_name": "ButtonView",
            "button_style": "",
            "description": "Predição",
            "disabled": false,
            "icon": "",
            "layout": "IPY_MODEL_97b982ac02bc4fb6bf87a8bf2799d221",
            "style": "IPY_MODEL_8f8e552a6c3e4f45954cdd4deddcfad1",
            "tooltip": ""
          }
        },
        "2ab08a9adcfc41f784b6103a078c8a1f": {
          "model_module": "@jupyter-widgets/base",
          "model_name": "LayoutModel",
          "model_module_version": "1.2.0",
          "state": {
            "_model_module": "@jupyter-widgets/base",
            "_model_module_version": "1.2.0",
            "_model_name": "LayoutModel",
            "_view_count": null,
            "_view_module": "@jupyter-widgets/base",
            "_view_module_version": "1.2.0",
            "_view_name": "LayoutView",
            "align_content": null,
            "align_items": null,
            "align_self": null,
            "border": null,
            "bottom": null,
            "display": null,
            "flex": null,
            "flex_flow": null,
            "grid_area": null,
            "grid_auto_columns": null,
            "grid_auto_flow": null,
            "grid_auto_rows": null,
            "grid_column": null,
            "grid_gap": null,
            "grid_row": null,
            "grid_template_areas": null,
            "grid_template_columns": null,
            "grid_template_rows": null,
            "height": null,
            "justify_content": null,
            "justify_items": null,
            "left": null,
            "margin": null,
            "max_height": null,
            "max_width": null,
            "min_height": null,
            "min_width": null,
            "object_fit": null,
            "object_position": null,
            "order": null,
            "overflow": null,
            "overflow_x": null,
            "overflow_y": null,
            "padding": null,
            "right": null,
            "top": null,
            "visibility": null,
            "width": null
          }
        },
        "4b21ab8a70e347839770fd9a883bcb8b": {
          "model_module": "@jupyter-widgets/controls",
          "model_name": "ButtonStyleModel",
          "model_module_version": "1.5.0",
          "state": {
            "_model_module": "@jupyter-widgets/controls",
            "_model_module_version": "1.5.0",
            "_model_name": "ButtonStyleModel",
            "_view_count": null,
            "_view_module": "@jupyter-widgets/base",
            "_view_module_version": "1.2.0",
            "_view_name": "StyleView",
            "button_color": null,
            "font_weight": ""
          }
        },
        "8f8e552a6c3e4f45954cdd4deddcfad1": {
          "model_module": "@jupyter-widgets/controls",
          "model_name": "ButtonStyleModel",
          "model_module_version": "1.5.0",
          "state": {
            "_model_module": "@jupyter-widgets/controls",
            "_model_module_version": "1.5.0",
            "_model_name": "ButtonStyleModel",
            "_view_count": null,
            "_view_module": "@jupyter-widgets/base",
            "_view_module_version": "1.2.0",
            "_view_name": "StyleView",
            "button_color": null,
            "font_weight": ""
          }
        },
        "1d948f03e6a049d0a650d5a6f33c149c": {
          "model_module": "@jupyter-widgets/controls",
          "model_name": "VBoxModel",
          "model_module_version": "1.5.0",
          "state": {
            "_dom_classes": [],
            "_model_module": "@jupyter-widgets/controls",
            "_model_module_version": "1.5.0",
            "_model_name": "VBoxModel",
            "_view_count": null,
            "_view_module": "@jupyter-widgets/controls",
            "_view_module_version": "1.5.0",
            "_view_name": "VBoxView",
            "box_style": "",
            "children": [
              "IPY_MODEL_c4d81b1e403b4505bcface5b388d2b37",
              "IPY_MODEL_abc98c2a51834bb6937d9a24aa00e211",
              "IPY_MODEL_6c7a68d47b9e4c4e8d6eedfd9e37b51f",
              "IPY_MODEL_90012253bf704a13b9c1a34ed4847aa8",
              "IPY_MODEL_220c5d25ae474996b75de0eb6c5af318"
            ],
            "layout": "IPY_MODEL_5912144f96d846b3b189e9181481a023"
          }
        },
        "c4d81b1e403b4505bcface5b388d2b37": {
          "model_module": "@jupyter-widgets/controls",
          "model_name": "HTMLModel",
          "model_module_version": "1.5.0",
          "state": {
            "_dom_classes": [],
            "_model_module": "@jupyter-widgets/controls",
            "_model_module_version": "1.5.0",
            "_model_name": "HTMLModel",
            "_view_count": null,
            "_view_module": "@jupyter-widgets/controls",
            "_view_module_version": "1.5.0",
            "_view_name": "HTMLView",
            "description": "",
            "description_tooltip": null,
            "layout": "IPY_MODEL_483a3e69acc54d07bd9d17b91b20bb63",
            "placeholder": "​",
            "style": "IPY_MODEL_2ba36cdda9ea425088e5e292fedbdcf8",
            "value": "<p style=font-family:Arial><b>Exportação do modelo<b/> <a target=\"_blank\" href=https://github.com/joaopedsa/TCC/blob/master/EXPORTACAO.md> ?</a> <p>"
          }
        },
        "abc98c2a51834bb6937d9a24aa00e211": {
          "model_module": "@jupyter-widgets/controls",
          "model_name": "VBoxModel",
          "model_module_version": "1.5.0",
          "state": {
            "_dom_classes": [],
            "_model_module": "@jupyter-widgets/controls",
            "_model_module_version": "1.5.0",
            "_model_name": "VBoxModel",
            "_view_count": null,
            "_view_module": "@jupyter-widgets/controls",
            "_view_module_version": "1.5.0",
            "_view_name": "VBoxView",
            "box_style": "",
            "children": [
              "IPY_MODEL_2a1e867fa7ba444aab1f18c097f524a4",
              "IPY_MODEL_18808e19e6164c5892c5c18f564cece6"
            ],
            "layout": "IPY_MODEL_5912144f96d846b3b189e9181481a023"
          }
        },
        "6c7a68d47b9e4c4e8d6eedfd9e37b51f": {
          "model_module": "@jupyter-widgets/controls",
          "model_name": "LabelModel",
          "model_module_version": "1.5.0",
          "state": {
            "_dom_classes": [],
            "_model_module": "@jupyter-widgets/controls",
            "_model_module_version": "1.5.0",
            "_model_name": "LabelModel",
            "_view_count": null,
            "_view_module": "@jupyter-widgets/controls",
            "_view_module_version": "1.5.0",
            "_view_name": "LabelView",
            "description": "",
            "description_tooltip": null,
            "layout": "IPY_MODEL_c5160f1516c64d7a8951db2589a613ab",
            "placeholder": "​",
            "style": "IPY_MODEL_056278ee97ef468586484d5576038b49",
            "value": "Caminho para exportação do modelo treinado:"
          }
        },
        "90012253bf704a13b9c1a34ed4847aa8": {
          "model_module": "@jupyter-widgets/controls",
          "model_name": "HBoxModel",
          "model_module_version": "1.5.0",
          "state": {
            "_dom_classes": [],
            "_model_module": "@jupyter-widgets/controls",
            "_model_module_version": "1.5.0",
            "_model_name": "HBoxModel",
            "_view_count": null,
            "_view_module": "@jupyter-widgets/controls",
            "_view_module_version": "1.5.0",
            "_view_name": "HBoxView",
            "box_style": "",
            "children": [
              "IPY_MODEL_33b2d8de9fa24eccb668a1a2e2117aef",
              "IPY_MODEL_694f57ea4f744bc8bdee84ea63a92280"
            ],
            "layout": "IPY_MODEL_26e82b6f8bb44c779427feb24e9285d6"
          }
        },
        "220c5d25ae474996b75de0eb6c5af318": {
          "model_module": "@jupyter-widgets/controls",
          "model_name": "HBoxModel",
          "model_module_version": "1.5.0",
          "state": {
            "_dom_classes": [],
            "_model_module": "@jupyter-widgets/controls",
            "_model_module_version": "1.5.0",
            "_model_name": "HBoxModel",
            "_view_count": null,
            "_view_module": "@jupyter-widgets/controls",
            "_view_module_version": "1.5.0",
            "_view_name": "HBoxView",
            "box_style": "",
            "children": [
              "IPY_MODEL_db0d57a5f41f49e4ba690ce7cf901dc1"
            ],
            "layout": "IPY_MODEL_caeb354fe14744369e25ac67782320bd"
          }
        },
        "483a3e69acc54d07bd9d17b91b20bb63": {
          "model_module": "@jupyter-widgets/base",
          "model_name": "LayoutModel",
          "model_module_version": "1.2.0",
          "state": {
            "_model_module": "@jupyter-widgets/base",
            "_model_module_version": "1.2.0",
            "_model_name": "LayoutModel",
            "_view_count": null,
            "_view_module": "@jupyter-widgets/base",
            "_view_module_version": "1.2.0",
            "_view_name": "LayoutView",
            "align_content": null,
            "align_items": null,
            "align_self": null,
            "border": null,
            "bottom": null,
            "display": null,
            "flex": null,
            "flex_flow": null,
            "grid_area": null,
            "grid_auto_columns": null,
            "grid_auto_flow": null,
            "grid_auto_rows": null,
            "grid_column": null,
            "grid_gap": null,
            "grid_row": null,
            "grid_template_areas": null,
            "grid_template_columns": null,
            "grid_template_rows": null,
            "height": null,
            "justify_content": null,
            "justify_items": null,
            "left": null,
            "margin": null,
            "max_height": null,
            "max_width": null,
            "min_height": null,
            "min_width": null,
            "object_fit": null,
            "object_position": null,
            "order": null,
            "overflow": null,
            "overflow_x": null,
            "overflow_y": null,
            "padding": null,
            "right": null,
            "top": null,
            "visibility": null,
            "width": null
          }
        },
        "2ba36cdda9ea425088e5e292fedbdcf8": {
          "model_module": "@jupyter-widgets/controls",
          "model_name": "DescriptionStyleModel",
          "model_module_version": "1.5.0",
          "state": {
            "_model_module": "@jupyter-widgets/controls",
            "_model_module_version": "1.5.0",
            "_model_name": "DescriptionStyleModel",
            "_view_count": null,
            "_view_module": "@jupyter-widgets/base",
            "_view_module_version": "1.2.0",
            "_view_name": "StyleView",
            "description_width": ""
          }
        },
        "2a1e867fa7ba444aab1f18c097f524a4": {
          "model_module": "@jupyter-widgets/controls",
          "model_name": "LabelModel",
          "model_module_version": "1.5.0",
          "state": {
            "_dom_classes": [],
            "_model_module": "@jupyter-widgets/controls",
            "_model_module_version": "1.5.0",
            "_model_name": "LabelModel",
            "_view_count": null,
            "_view_module": "@jupyter-widgets/controls",
            "_view_module_version": "1.5.0",
            "_view_name": "LabelView",
            "description": "",
            "description_tooltip": null,
            "layout": "IPY_MODEL_a965c03fd7344242bd8b7bfaeff2da5a",
            "placeholder": "​",
            "style": "IPY_MODEL_8aa9e5cfe737466bada6b9b42dd9051c",
            "value": "Formato:"
          }
        },
        "18808e19e6164c5892c5c18f564cece6": {
          "model_module": "@jupyter-widgets/controls",
          "model_name": "DropdownModel",
          "model_module_version": "1.5.0",
          "state": {
            "_dom_classes": [],
            "_model_module": "@jupyter-widgets/controls",
            "_model_module_version": "1.5.0",
            "_model_name": "DropdownModel",
            "_options_labels": [
              "pt",
              "onnx",
              "tflite",
              "torchscript",
              "pb"
            ],
            "_view_count": null,
            "_view_module": "@jupyter-widgets/controls",
            "_view_module_version": "1.5.0",
            "_view_name": "DropdownView",
            "description": "",
            "description_tooltip": null,
            "disabled": false,
            "index": 0,
            "layout": "IPY_MODEL_2eb993c3b07f442b9a87dcd4f5a330fa",
            "style": "IPY_MODEL_4d2455434123421f8ba4daf2ebf2bede"
          }
        },
        "c5160f1516c64d7a8951db2589a613ab": {
          "model_module": "@jupyter-widgets/base",
          "model_name": "LayoutModel",
          "model_module_version": "1.2.0",
          "state": {
            "_model_module": "@jupyter-widgets/base",
            "_model_module_version": "1.2.0",
            "_model_name": "LayoutModel",
            "_view_count": null,
            "_view_module": "@jupyter-widgets/base",
            "_view_module_version": "1.2.0",
            "_view_name": "LayoutView",
            "align_content": null,
            "align_items": null,
            "align_self": null,
            "border": null,
            "bottom": null,
            "display": null,
            "flex": null,
            "flex_flow": null,
            "grid_area": null,
            "grid_auto_columns": null,
            "grid_auto_flow": null,
            "grid_auto_rows": null,
            "grid_column": null,
            "grid_gap": null,
            "grid_row": null,
            "grid_template_areas": null,
            "grid_template_columns": null,
            "grid_template_rows": null,
            "height": null,
            "justify_content": null,
            "justify_items": null,
            "left": null,
            "margin": null,
            "max_height": null,
            "max_width": null,
            "min_height": null,
            "min_width": null,
            "object_fit": null,
            "object_position": null,
            "order": null,
            "overflow": null,
            "overflow_x": null,
            "overflow_y": null,
            "padding": null,
            "right": null,
            "top": null,
            "visibility": null,
            "width": null
          }
        },
        "056278ee97ef468586484d5576038b49": {
          "model_module": "@jupyter-widgets/controls",
          "model_name": "DescriptionStyleModel",
          "model_module_version": "1.5.0",
          "state": {
            "_model_module": "@jupyter-widgets/controls",
            "_model_module_version": "1.5.0",
            "_model_name": "DescriptionStyleModel",
            "_view_count": null,
            "_view_module": "@jupyter-widgets/base",
            "_view_module_version": "1.2.0",
            "_view_name": "StyleView",
            "description_width": ""
          }
        },
        "33b2d8de9fa24eccb668a1a2e2117aef": {
          "model_module": "@jupyter-widgets/controls",
          "model_name": "TextModel",
          "model_module_version": "1.5.0",
          "state": {
            "_dom_classes": [],
            "_model_module": "@jupyter-widgets/controls",
            "_model_module_version": "1.5.0",
            "_model_name": "TextModel",
            "_view_count": null,
            "_view_module": "@jupyter-widgets/controls",
            "_view_module_version": "1.5.0",
            "_view_name": "TextView",
            "continuous_update": true,
            "description": "",
            "description_tooltip": null,
            "disabled": false,
            "layout": "IPY_MODEL_bb3bc33942f1409fb499e9848528392d",
            "placeholder": "Insira um caminho de um diretório válido no drive",
            "style": "IPY_MODEL_0d70f6b2ddef4bd29e3a3f2de11f6492",
            "value": ""
          }
        },
        "694f57ea4f744bc8bdee84ea63a92280": {
          "model_module": "@jupyter-widgets/controls",
          "model_name": "ButtonModel",
          "model_module_version": "1.5.0",
          "state": {
            "_dom_classes": [],
            "_model_module": "@jupyter-widgets/controls",
            "_model_module_version": "1.5.0",
            "_model_name": "ButtonModel",
            "_view_count": null,
            "_view_module": "@jupyter-widgets/controls",
            "_view_module_version": "1.5.0",
            "_view_name": "ButtonView",
            "button_style": "",
            "description": "Carregar Caminho",
            "disabled": false,
            "icon": "",
            "layout": "IPY_MODEL_97b982ac02bc4fb6bf87a8bf2799d221",
            "style": "IPY_MODEL_e404a4aaf3cc4165a8f063de8555a407",
            "tooltip": ""
          }
        },
        "db0d57a5f41f49e4ba690ce7cf901dc1": {
          "model_module": "@jupyter-widgets/controls",
          "model_name": "ButtonModel",
          "model_module_version": "1.5.0",
          "state": {
            "_dom_classes": [],
            "_model_module": "@jupyter-widgets/controls",
            "_model_module_version": "1.5.0",
            "_model_name": "ButtonModel",
            "_view_count": null,
            "_view_module": "@jupyter-widgets/controls",
            "_view_module_version": "1.5.0",
            "_view_name": "ButtonView",
            "button_style": "",
            "description": "Exportar",
            "disabled": false,
            "icon": "",
            "layout": "IPY_MODEL_97b982ac02bc4fb6bf87a8bf2799d221",
            "style": "IPY_MODEL_72313a471ff8405d973f848cf8bb92c1",
            "tooltip": ""
          }
        },
        "a965c03fd7344242bd8b7bfaeff2da5a": {
          "model_module": "@jupyter-widgets/base",
          "model_name": "LayoutModel",
          "model_module_version": "1.2.0",
          "state": {
            "_model_module": "@jupyter-widgets/base",
            "_model_module_version": "1.2.0",
            "_model_name": "LayoutModel",
            "_view_count": null,
            "_view_module": "@jupyter-widgets/base",
            "_view_module_version": "1.2.0",
            "_view_name": "LayoutView",
            "align_content": null,
            "align_items": null,
            "align_self": null,
            "border": null,
            "bottom": null,
            "display": null,
            "flex": null,
            "flex_flow": null,
            "grid_area": null,
            "grid_auto_columns": null,
            "grid_auto_flow": null,
            "grid_auto_rows": null,
            "grid_column": null,
            "grid_gap": null,
            "grid_row": null,
            "grid_template_areas": null,
            "grid_template_columns": null,
            "grid_template_rows": null,
            "height": null,
            "justify_content": null,
            "justify_items": null,
            "left": null,
            "margin": null,
            "max_height": null,
            "max_width": null,
            "min_height": null,
            "min_width": null,
            "object_fit": null,
            "object_position": null,
            "order": null,
            "overflow": null,
            "overflow_x": null,
            "overflow_y": null,
            "padding": null,
            "right": null,
            "top": null,
            "visibility": null,
            "width": null
          }
        },
        "8aa9e5cfe737466bada6b9b42dd9051c": {
          "model_module": "@jupyter-widgets/controls",
          "model_name": "DescriptionStyleModel",
          "model_module_version": "1.5.0",
          "state": {
            "_model_module": "@jupyter-widgets/controls",
            "_model_module_version": "1.5.0",
            "_model_name": "DescriptionStyleModel",
            "_view_count": null,
            "_view_module": "@jupyter-widgets/base",
            "_view_module_version": "1.2.0",
            "_view_name": "StyleView",
            "description_width": ""
          }
        },
        "2eb993c3b07f442b9a87dcd4f5a330fa": {
          "model_module": "@jupyter-widgets/base",
          "model_name": "LayoutModel",
          "model_module_version": "1.2.0",
          "state": {
            "_model_module": "@jupyter-widgets/base",
            "_model_module_version": "1.2.0",
            "_model_name": "LayoutModel",
            "_view_count": null,
            "_view_module": "@jupyter-widgets/base",
            "_view_module_version": "1.2.0",
            "_view_name": "LayoutView",
            "align_content": null,
            "align_items": null,
            "align_self": null,
            "border": null,
            "bottom": null,
            "display": null,
            "flex": null,
            "flex_flow": null,
            "grid_area": null,
            "grid_auto_columns": null,
            "grid_auto_flow": null,
            "grid_auto_rows": null,
            "grid_column": null,
            "grid_gap": null,
            "grid_row": null,
            "grid_template_areas": null,
            "grid_template_columns": null,
            "grid_template_rows": null,
            "height": null,
            "justify_content": null,
            "justify_items": null,
            "left": null,
            "margin": null,
            "max_height": null,
            "max_width": null,
            "min_height": null,
            "min_width": null,
            "object_fit": null,
            "object_position": null,
            "order": null,
            "overflow": null,
            "overflow_x": null,
            "overflow_y": null,
            "padding": null,
            "right": null,
            "top": null,
            "visibility": null,
            "width": null
          }
        },
        "4d2455434123421f8ba4daf2ebf2bede": {
          "model_module": "@jupyter-widgets/controls",
          "model_name": "DescriptionStyleModel",
          "model_module_version": "1.5.0",
          "state": {
            "_model_module": "@jupyter-widgets/controls",
            "_model_module_version": "1.5.0",
            "_model_name": "DescriptionStyleModel",
            "_view_count": null,
            "_view_module": "@jupyter-widgets/base",
            "_view_module_version": "1.2.0",
            "_view_name": "StyleView",
            "description_width": ""
          }
        },
        "0d70f6b2ddef4bd29e3a3f2de11f6492": {
          "model_module": "@jupyter-widgets/controls",
          "model_name": "DescriptionStyleModel",
          "model_module_version": "1.5.0",
          "state": {
            "_model_module": "@jupyter-widgets/controls",
            "_model_module_version": "1.5.0",
            "_model_name": "DescriptionStyleModel",
            "_view_count": null,
            "_view_module": "@jupyter-widgets/base",
            "_view_module_version": "1.2.0",
            "_view_name": "StyleView",
            "description_width": ""
          }
        },
        "e404a4aaf3cc4165a8f063de8555a407": {
          "model_module": "@jupyter-widgets/controls",
          "model_name": "ButtonStyleModel",
          "model_module_version": "1.5.0",
          "state": {
            "_model_module": "@jupyter-widgets/controls",
            "_model_module_version": "1.5.0",
            "_model_name": "ButtonStyleModel",
            "_view_count": null,
            "_view_module": "@jupyter-widgets/base",
            "_view_module_version": "1.2.0",
            "_view_name": "StyleView",
            "button_color": null,
            "font_weight": ""
          }
        },
        "72313a471ff8405d973f848cf8bb92c1": {
          "model_module": "@jupyter-widgets/controls",
          "model_name": "ButtonStyleModel",
          "model_module_version": "1.5.0",
          "state": {
            "_model_module": "@jupyter-widgets/controls",
            "_model_module_version": "1.5.0",
            "_model_name": "ButtonStyleModel",
            "_view_count": null,
            "_view_module": "@jupyter-widgets/base",
            "_view_module_version": "1.2.0",
            "_view_name": "StyleView",
            "button_color": null,
            "font_weight": ""
          }
        },
        "0fa4ace572d2484d967bf3d5ba645fa6": {
          "model_module": "@jupyter-widgets/controls",
          "model_name": "HTMLModel",
          "model_module_version": "1.5.0",
          "state": {
            "_dom_classes": [],
            "_model_module": "@jupyter-widgets/controls",
            "_model_module_version": "1.5.0",
            "_model_name": "HTMLModel",
            "_view_count": null,
            "_view_module": "@jupyter-widgets/controls",
            "_view_module_version": "1.5.0",
            "_view_name": "HTMLView",
            "description": "",
            "description_tooltip": null,
            "layout": "IPY_MODEL_e1e72e62352846619618b726bb80bcfa",
            "placeholder": "​",
            "style": "IPY_MODEL_b1b0254eae62439f9da3ed1cdabb50b2",
            "value": "<p style=\"text-align: left;style=font-family:Arial\"><span style=\"color: #339966;\">Path: /content/gdrive/MyDrive/dataset-hat/ definido com sucesso</span></p>"
          }
        },
        "e1e72e62352846619618b726bb80bcfa": {
          "model_module": "@jupyter-widgets/base",
          "model_name": "LayoutModel",
          "model_module_version": "1.2.0",
          "state": {
            "_model_module": "@jupyter-widgets/base",
            "_model_module_version": "1.2.0",
            "_model_name": "LayoutModel",
            "_view_count": null,
            "_view_module": "@jupyter-widgets/base",
            "_view_module_version": "1.2.0",
            "_view_name": "LayoutView",
            "align_content": null,
            "align_items": null,
            "align_self": null,
            "border": null,
            "bottom": null,
            "display": null,
            "flex": null,
            "flex_flow": null,
            "grid_area": null,
            "grid_auto_columns": null,
            "grid_auto_flow": null,
            "grid_auto_rows": null,
            "grid_column": null,
            "grid_gap": null,
            "grid_row": null,
            "grid_template_areas": null,
            "grid_template_columns": null,
            "grid_template_rows": null,
            "height": null,
            "justify_content": null,
            "justify_items": null,
            "left": null,
            "margin": null,
            "max_height": null,
            "max_width": null,
            "min_height": null,
            "min_width": null,
            "object_fit": null,
            "object_position": null,
            "order": null,
            "overflow": null,
            "overflow_x": null,
            "overflow_y": null,
            "padding": null,
            "right": null,
            "top": null,
            "visibility": null,
            "width": null
          }
        },
        "b1b0254eae62439f9da3ed1cdabb50b2": {
          "model_module": "@jupyter-widgets/controls",
          "model_name": "DescriptionStyleModel",
          "model_module_version": "1.5.0",
          "state": {
            "_model_module": "@jupyter-widgets/controls",
            "_model_module_version": "1.5.0",
            "_model_name": "DescriptionStyleModel",
            "_view_count": null,
            "_view_module": "@jupyter-widgets/base",
            "_view_module_version": "1.2.0",
            "_view_name": "StyleView",
            "description_width": ""
          }
        },
        "fce656fadeb147d58d84bc6f9c530225": {
          "model_module": "@jupyter-widgets/controls",
          "model_name": "GridBoxModel",
          "model_module_version": "1.5.0",
          "state": {
            "_dom_classes": [],
            "_model_module": "@jupyter-widgets/controls",
            "_model_module_version": "1.5.0",
            "_model_name": "GridBoxModel",
            "_view_count": null,
            "_view_module": "@jupyter-widgets/controls",
            "_view_module_version": "1.5.0",
            "_view_name": "GridBoxView",
            "box_style": "",
            "children": [
              "IPY_MODEL_744591bd8b8e41138468c309ebd66a60",
              "IPY_MODEL_baf71a5cc4e9443bab6d79d56f8d29a5",
              "IPY_MODEL_70be2d949ce945c281909eab73dff938",
              "IPY_MODEL_bae0e9cf1ea54d4bb35384a601e0408a",
              "IPY_MODEL_942f1cdf3e764ae0a6af3900a212d775",
              "IPY_MODEL_44e1cf458eb64ddbb3317650048dd59a"
            ],
            "layout": "IPY_MODEL_cd9274858260485d90455d8fd6ef3160"
          }
        },
        "744591bd8b8e41138468c309ebd66a60": {
          "model_module": "@jupyter-widgets/controls",
          "model_name": "ImageModel",
          "model_module_version": "1.5.0",
          "state": {
            "_dom_classes": [],
            "_model_module": "@jupyter-widgets/controls",
            "_model_module_version": "1.5.0",
            "_model_name": "ImageModel",
            "_view_count": null,
            "_view_module": "@jupyter-widgets/controls",
            "_view_module_version": "1.5.0",
            "_view_name": "ImageView",
            "format": "png",
            "height": "240",
            "layout": "IPY_MODEL_df75bd447dc64785bc27c71b72f5abc2",
            "width": "240"
          }
        },
        "baf71a5cc4e9443bab6d79d56f8d29a5": {
          "model_module": "@jupyter-widgets/controls",
          "model_name": "ImageModel",
          "model_module_version": "1.5.0",
          "state": {
            "_dom_classes": [],
            "_model_module": "@jupyter-widgets/controls",
            "_model_module_version": "1.5.0",
            "_model_name": "ImageModel",
            "_view_count": null,
            "_view_module": "@jupyter-widgets/controls",
            "_view_module_version": "1.5.0",
            "_view_name": "ImageView",
            "format": "png",
            "height": "240",
            "layout": "IPY_MODEL_f5428ae8b1f64c099d633841a2f8947e",
            "width": "240"
          }
        },
        "70be2d949ce945c281909eab73dff938": {
          "model_module": "@jupyter-widgets/controls",
          "model_name": "ImageModel",
          "model_module_version": "1.5.0",
          "state": {
            "_dom_classes": [],
            "_model_module": "@jupyter-widgets/controls",
            "_model_module_version": "1.5.0",
            "_model_name": "ImageModel",
            "_view_count": null,
            "_view_module": "@jupyter-widgets/controls",
            "_view_module_version": "1.5.0",
            "_view_name": "ImageView",
            "format": "png",
            "height": "240",
            "layout": "IPY_MODEL_f06dc967ade449a8b6f919c3d88b65ae",
            "width": "240"
          }
        },
        "bae0e9cf1ea54d4bb35384a601e0408a": {
          "model_module": "@jupyter-widgets/controls",
          "model_name": "ImageModel",
          "model_module_version": "1.5.0",
          "state": {
            "_dom_classes": [],
            "_model_module": "@jupyter-widgets/controls",
            "_model_module_version": "1.5.0",
            "_model_name": "ImageModel",
            "_view_count": null,
            "_view_module": "@jupyter-widgets/controls",
            "_view_module_version": "1.5.0",
            "_view_name": "ImageView",
            "format": "png",
            "height": "240",
            "layout": "IPY_MODEL_d000698507ca48eea8351214dd506815",
            "width": "240"
          }
        },
        "942f1cdf3e764ae0a6af3900a212d775": {
          "model_module": "@jupyter-widgets/controls",
          "model_name": "ImageModel",
          "model_module_version": "1.5.0",
          "state": {
            "_dom_classes": [],
            "_model_module": "@jupyter-widgets/controls",
            "_model_module_version": "1.5.0",
            "_model_name": "ImageModel",
            "_view_count": null,
            "_view_module": "@jupyter-widgets/controls",
            "_view_module_version": "1.5.0",
            "_view_name": "ImageView",
            "format": "png",
            "height": "240",
            "layout": "IPY_MODEL_f84c3786e3c347cb91b04697b033c8af",
            "width": "240"
          }
        },
        "44e1cf458eb64ddbb3317650048dd59a": {
          "model_module": "@jupyter-widgets/controls",
          "model_name": "ImageModel",
          "model_module_version": "1.5.0",
          "state": {
            "_dom_classes": [],
            "_model_module": "@jupyter-widgets/controls",
            "_model_module_version": "1.5.0",
            "_model_name": "ImageModel",
            "_view_count": null,
            "_view_module": "@jupyter-widgets/controls",
            "_view_module_version": "1.5.0",
            "_view_name": "ImageView",
            "format": "png",
            "height": "240",
            "layout": "IPY_MODEL_34065254e2b54f3f85f64a73da706ed6",
            "width": "240"
          }
        },
        "cd9274858260485d90455d8fd6ef3160": {
          "model_module": "@jupyter-widgets/base",
          "model_name": "LayoutModel",
          "model_module_version": "1.2.0",
          "state": {
            "_model_module": "@jupyter-widgets/base",
            "_model_module_version": "1.2.0",
            "_model_name": "LayoutModel",
            "_view_count": null,
            "_view_module": "@jupyter-widgets/base",
            "_view_module_version": "1.2.0",
            "_view_name": "LayoutView",
            "align_content": null,
            "align_items": null,
            "align_self": null,
            "border": null,
            "bottom": null,
            "display": null,
            "flex": null,
            "flex_flow": null,
            "grid_area": null,
            "grid_auto_columns": null,
            "grid_auto_flow": null,
            "grid_auto_rows": null,
            "grid_column": null,
            "grid_gap": null,
            "grid_row": null,
            "grid_template_areas": null,
            "grid_template_columns": "repeat(3, 240px)",
            "grid_template_rows": null,
            "height": null,
            "justify_content": null,
            "justify_items": null,
            "left": null,
            "margin": null,
            "max_height": null,
            "max_width": null,
            "min_height": null,
            "min_width": null,
            "object_fit": null,
            "object_position": null,
            "order": null,
            "overflow": null,
            "overflow_x": null,
            "overflow_y": null,
            "padding": null,
            "right": null,
            "top": null,
            "visibility": null,
            "width": null
          }
        },
        "df75bd447dc64785bc27c71b72f5abc2": {
          "model_module": "@jupyter-widgets/base",
          "model_name": "LayoutModel",
          "model_module_version": "1.2.0",
          "state": {
            "_model_module": "@jupyter-widgets/base",
            "_model_module_version": "1.2.0",
            "_model_name": "LayoutModel",
            "_view_count": null,
            "_view_module": "@jupyter-widgets/base",
            "_view_module_version": "1.2.0",
            "_view_name": "LayoutView",
            "align_content": null,
            "align_items": null,
            "align_self": null,
            "border": null,
            "bottom": null,
            "display": null,
            "flex": null,
            "flex_flow": null,
            "grid_area": null,
            "grid_auto_columns": null,
            "grid_auto_flow": null,
            "grid_auto_rows": null,
            "grid_column": null,
            "grid_gap": null,
            "grid_row": null,
            "grid_template_areas": null,
            "grid_template_columns": null,
            "grid_template_rows": null,
            "height": null,
            "justify_content": null,
            "justify_items": null,
            "left": null,
            "margin": null,
            "max_height": null,
            "max_width": null,
            "min_height": null,
            "min_width": null,
            "object_fit": null,
            "object_position": null,
            "order": null,
            "overflow": null,
            "overflow_x": null,
            "overflow_y": null,
            "padding": null,
            "right": null,
            "top": null,
            "visibility": null,
            "width": null
          }
        },
        "f5428ae8b1f64c099d633841a2f8947e": {
          "model_module": "@jupyter-widgets/base",
          "model_name": "LayoutModel",
          "model_module_version": "1.2.0",
          "state": {
            "_model_module": "@jupyter-widgets/base",
            "_model_module_version": "1.2.0",
            "_model_name": "LayoutModel",
            "_view_count": null,
            "_view_module": "@jupyter-widgets/base",
            "_view_module_version": "1.2.0",
            "_view_name": "LayoutView",
            "align_content": null,
            "align_items": null,
            "align_self": null,
            "border": null,
            "bottom": null,
            "display": null,
            "flex": null,
            "flex_flow": null,
            "grid_area": null,
            "grid_auto_columns": null,
            "grid_auto_flow": null,
            "grid_auto_rows": null,
            "grid_column": null,
            "grid_gap": null,
            "grid_row": null,
            "grid_template_areas": null,
            "grid_template_columns": null,
            "grid_template_rows": null,
            "height": null,
            "justify_content": null,
            "justify_items": null,
            "left": null,
            "margin": null,
            "max_height": null,
            "max_width": null,
            "min_height": null,
            "min_width": null,
            "object_fit": null,
            "object_position": null,
            "order": null,
            "overflow": null,
            "overflow_x": null,
            "overflow_y": null,
            "padding": null,
            "right": null,
            "top": null,
            "visibility": null,
            "width": null
          }
        },
        "f06dc967ade449a8b6f919c3d88b65ae": {
          "model_module": "@jupyter-widgets/base",
          "model_name": "LayoutModel",
          "model_module_version": "1.2.0",
          "state": {
            "_model_module": "@jupyter-widgets/base",
            "_model_module_version": "1.2.0",
            "_model_name": "LayoutModel",
            "_view_count": null,
            "_view_module": "@jupyter-widgets/base",
            "_view_module_version": "1.2.0",
            "_view_name": "LayoutView",
            "align_content": null,
            "align_items": null,
            "align_self": null,
            "border": null,
            "bottom": null,
            "display": null,
            "flex": null,
            "flex_flow": null,
            "grid_area": null,
            "grid_auto_columns": null,
            "grid_auto_flow": null,
            "grid_auto_rows": null,
            "grid_column": null,
            "grid_gap": null,
            "grid_row": null,
            "grid_template_areas": null,
            "grid_template_columns": null,
            "grid_template_rows": null,
            "height": null,
            "justify_content": null,
            "justify_items": null,
            "left": null,
            "margin": null,
            "max_height": null,
            "max_width": null,
            "min_height": null,
            "min_width": null,
            "object_fit": null,
            "object_position": null,
            "order": null,
            "overflow": null,
            "overflow_x": null,
            "overflow_y": null,
            "padding": null,
            "right": null,
            "top": null,
            "visibility": null,
            "width": null
          }
        },
        "d000698507ca48eea8351214dd506815": {
          "model_module": "@jupyter-widgets/base",
          "model_name": "LayoutModel",
          "model_module_version": "1.2.0",
          "state": {
            "_model_module": "@jupyter-widgets/base",
            "_model_module_version": "1.2.0",
            "_model_name": "LayoutModel",
            "_view_count": null,
            "_view_module": "@jupyter-widgets/base",
            "_view_module_version": "1.2.0",
            "_view_name": "LayoutView",
            "align_content": null,
            "align_items": null,
            "align_self": null,
            "border": null,
            "bottom": null,
            "display": null,
            "flex": null,
            "flex_flow": null,
            "grid_area": null,
            "grid_auto_columns": null,
            "grid_auto_flow": null,
            "grid_auto_rows": null,
            "grid_column": null,
            "grid_gap": null,
            "grid_row": null,
            "grid_template_areas": null,
            "grid_template_columns": null,
            "grid_template_rows": null,
            "height": null,
            "justify_content": null,
            "justify_items": null,
            "left": null,
            "margin": null,
            "max_height": null,
            "max_width": null,
            "min_height": null,
            "min_width": null,
            "object_fit": null,
            "object_position": null,
            "order": null,
            "overflow": null,
            "overflow_x": null,
            "overflow_y": null,
            "padding": null,
            "right": null,
            "top": null,
            "visibility": null,
            "width": null
          }
        },
        "f84c3786e3c347cb91b04697b033c8af": {
          "model_module": "@jupyter-widgets/base",
          "model_name": "LayoutModel",
          "model_module_version": "1.2.0",
          "state": {
            "_model_module": "@jupyter-widgets/base",
            "_model_module_version": "1.2.0",
            "_model_name": "LayoutModel",
            "_view_count": null,
            "_view_module": "@jupyter-widgets/base",
            "_view_module_version": "1.2.0",
            "_view_name": "LayoutView",
            "align_content": null,
            "align_items": null,
            "align_self": null,
            "border": null,
            "bottom": null,
            "display": null,
            "flex": null,
            "flex_flow": null,
            "grid_area": null,
            "grid_auto_columns": null,
            "grid_auto_flow": null,
            "grid_auto_rows": null,
            "grid_column": null,
            "grid_gap": null,
            "grid_row": null,
            "grid_template_areas": null,
            "grid_template_columns": null,
            "grid_template_rows": null,
            "height": null,
            "justify_content": null,
            "justify_items": null,
            "left": null,
            "margin": null,
            "max_height": null,
            "max_width": null,
            "min_height": null,
            "min_width": null,
            "object_fit": null,
            "object_position": null,
            "order": null,
            "overflow": null,
            "overflow_x": null,
            "overflow_y": null,
            "padding": null,
            "right": null,
            "top": null,
            "visibility": null,
            "width": null
          }
        },
        "34065254e2b54f3f85f64a73da706ed6": {
          "model_module": "@jupyter-widgets/base",
          "model_name": "LayoutModel",
          "model_module_version": "1.2.0",
          "state": {
            "_model_module": "@jupyter-widgets/base",
            "_model_module_version": "1.2.0",
            "_model_name": "LayoutModel",
            "_view_count": null,
            "_view_module": "@jupyter-widgets/base",
            "_view_module_version": "1.2.0",
            "_view_name": "LayoutView",
            "align_content": null,
            "align_items": null,
            "align_self": null,
            "border": null,
            "bottom": null,
            "display": null,
            "flex": null,
            "flex_flow": null,
            "grid_area": null,
            "grid_auto_columns": null,
            "grid_auto_flow": null,
            "grid_auto_rows": null,
            "grid_column": null,
            "grid_gap": null,
            "grid_row": null,
            "grid_template_areas": null,
            "grid_template_columns": null,
            "grid_template_rows": null,
            "height": null,
            "justify_content": null,
            "justify_items": null,
            "left": null,
            "margin": null,
            "max_height": null,
            "max_width": null,
            "min_height": null,
            "min_width": null,
            "object_fit": null,
            "object_position": null,
            "order": null,
            "overflow": null,
            "overflow_x": null,
            "overflow_y": null,
            "padding": null,
            "right": null,
            "top": null,
            "visibility": null,
            "width": null
          }
        }
      }
    }
  },
  "cells": [
    {
      "cell_type": "markdown",
      "metadata": {
        "id": "view-in-github",
        "colab_type": "text"
      },
      "source": [
        "<a href=\"https://colab.research.google.com/github/joaopedsa/TCC/blob/master/ODIN.ipynb\" target=\"_parent\"><img src=\"https://colab.research.google.com/assets/colab-badge.svg\" alt=\"Open In Colab\"/></a>"
      ]
    },
    {
      "cell_type": "markdown",
      "source": [
        "![Barra6Logos2022-v20.png](data:image/png;base64,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)\n",
        "\n",
        "Visual User Interface for Jupyter\n",
        "Desenvolva o seu modelo de machine learning para a detecção de objetos neste ambiente visual de Jupyter Notebook.\n",
        "\n",
        "O ambiente visual suporta um processo básico de desenvolvimento de um modelo de ML voltado ao ensino de ML no Ensino Superior.\n",
        "\n",
        "A interface visual foi criada pela Iniciativa Computação na Escola/INCoD/INE/UFSC."
      ],
      "metadata": {
        "id": "0zHyS-0vpmL0"
      }
    },
    {
      "cell_type": "markdown",
      "source": [
        "\n",
        "# Como usar este notebook\n",
        "\n",
        "![processo-curso.png](data:image/png;base64,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)\n",
        "\n",
        "Seguindo esse processo você deve ter coletado os dados no seu google drive e ter feito as anotações das imagens, separando entre pastas de train, valid e test.\n",
        "\n",
        "Para iniciar a interface visual você precisa primeiro rodar a próxima célula para carregar no notebook a interface visual. Uma vez carregado, não será necessário executá-la novamente durante o uso. É normal demorar pois todos os frameworks são importados nesta etapa.\n",
        "\n",
        "Em seguida, a última célula deve ser executada para dar início a interface visual, assim sendo possível começar o processo de ML. Atualmente em caso de erro ou caso deseje começar de novo você deverá executar essa célula novamente."
      ],
      "metadata": {
        "id": "6MgTBZviqHEr"
      }
    },
    {
      "cell_type": "code",
      "metadata": {
        "id": "q-WzuSjuVx18",
        "colab": {
          "base_uri": "https://localhost:8080/",
          "height": 121
        },
        "outputId": "4cb74cc2-5d60-41d2-bfcc-6d24da5245a6"
      },
      "source": [
        "#@title Execute esta célula para preparar a interface visual\n",
        "\n",
        "#Importacao via python da biblioteca fastai\n",
        "![ -e /content ] | tee -a >> log.txt && pip install ipywidgets | tee -a >> log.txt && jupyter nbextension enable --py widgetsnbextension | tee -a >> log.txt\n",
        "\n",
        "#Path Lib\n",
        "import os\n",
        "from pathlib import Path\n",
        "import glob\n",
        "import re\n",
        "\n",
        "#Path.ls\n",
        "from fastai import core\n",
        "\n",
        "#Importações do google colab\n",
        "from google.colab import drive\n",
        "from google.colab import widgets as colabwidigets\n",
        "\n",
        "import matplotlib.pyplot as plt\n",
        "import numpy as np\n",
        "import cv2\n",
        "\n",
        "#Pytorch\n",
        "import torch\n",
        "\n",
        "#Images\n",
        "from IPython.display import Image, display, clear_output\n",
        "\n",
        "#Importações Ipywidigets\n",
        "from ipywidgets import widgets as ipywidgets\n",
        "\n",
        "class m_Header():\n",
        "  def __init__(self, header, step):\n",
        "    href = 'https://github.com/joaopedsa/TCC/blob/master/' + step + '.md'\n",
        "    html = '<p style=font-family:Arial><b>' + header + '<b/> <a target=\"_blank\" href={}> ?</a> <p>'.format(href)\n",
        "    self.header = ipywidgets.HTML(html)\n",
        "\n",
        "class m_Ret():\n",
        "  def __init__(self, txt, flag):\n",
        "    if flag == 1:\n",
        "      self.txt = ipywidgets.HTML(value='<p style=\"text-align: left;style=font-family:Arial\"><span style=\"color: #339966;\">' + txt + '</span></p>')\n",
        "    if flag == 2:\n",
        "      self.txt = ipywidgets.HTML(value='<p style=\"text-align: left;style=font-family:Arial\"><span style=\"color: #ff0000;\">' + txt + '</span></p>')\n",
        "\n",
        "# Função para a conexão com o GDrive\n",
        "def drive_connect():\n",
        "  drive.mount('/content/gdrive', force_remount=True)\n",
        "  drive_connect.root_dir = \"/content/gdrive/MyDrive\"\n",
        "  return True\n",
        "\n",
        "# Atributos do Dataset\n",
        "os.environ[\"DATASET_DIRECTORY\"] = \"\"\n",
        "os.environ[\"CONFIG_YAML\"] = \"\"\n",
        "dataset_total_images = 0\n",
        "dataset_dict_labels = {}\n",
        "\n",
        "# Layouts e Styles\n",
        "l_txt = ipywidgets.Layout(width='66%')\n",
        "l_btn = ipywidgets.Layout(width='40%')\n",
        "l_vbox = ipywidgets.Layout(width='720px')\n",
        "l_hbox = ipywidgets.Layout(width='90%')\n",
        "l_req = ipywidgets.Layout(width='95%', height='90px')\n",
        "l_hidden_red = ipywidgets.Layout(width='90%', visibility = 'hidden')\n",
        "l_hidden_tra = ipywidgets.Layout(width='90%', visibility = 'hidden')\n",
        "l_btn_hbox = ipywidgets.Layout(flex_flow='column',align_items='center')\n",
        "s_desc_wid = {'description_width':'25%'}\n",
        "\n",
        "# Modelos do yolov5\n",
        "models = ['yolov5n', 'yolov5s', 'yolov5m', 'yolov5l', 'yolov5x']\n",
        "\n",
        "# Lista de tipos para exportar\n",
        "export_list = ['pt', 'onnx', 'tflite', 'torchscript', 'pb']\n",
        "\n",
        "def total_by_category():\n",
        "  folders = Path(os.environ[\"DATASET_DIRECTORY\"]).ls()\n",
        "  total_images = 0\n",
        "  dict_category = {}\n",
        "  file_data_yaml = open(os.environ[\"CONFIG_YAML\"])\n",
        "  data = file_data_yaml.read()\n",
        "  classes = re.search(r'\\[( ?\\'[A-z /.-]+\\',?)+\\]', data).group().replace(\"[\", \"\").replace(\"]\", \"\").replace(\"'\", \"\").split(\", \")\n",
        "  file_data_yaml.close()\n",
        "  for _class in classes:\n",
        "    dict_category[_class] = 0\n",
        "  for folder in folders:\n",
        "    if os.path.isfile(folder):\n",
        "      continue\n",
        "    if Path(folder/\"labels\").is_dir() and Path(folder/\"images\").is_dir():\n",
        "      for file_path in Path(folder/\"labels\").iterdir():\n",
        "        file_label = open(file_path)\n",
        "        for line in file_label.readlines():\n",
        "          number_class = line.split(\" \")[0]\n",
        "          dict_category[classes[int(number_class)]] += 1\n",
        "        file_label.close()\n",
        "\n",
        "  return total_images, dict_category\n",
        "\n",
        "def generate_images_preview():\n",
        "  images_preview = []\n",
        "  folders = Path(os.environ[\"DATASET_DIRECTORY\"]).ls()\n",
        "  dict_classes_color = {}\n",
        "  file_data_yaml = open(os.environ[\"CONFIG_YAML\"])\n",
        "  data = file_data_yaml.read()\n",
        "  classes = re.search(r'\\[( ?\\'[A-z /.-]+\\',?)+\\]', data).group().replace(\"[\", \"\").replace(\"]\", \"\").replace(\"'\", \"\").split(\", \")\n",
        "  file_data_yaml.close()\n",
        "  labels_path = os.environ[\"DATASET_DIRECTORY\"] + \"/train/labels\"\n",
        "  trains_path = os.environ[\"DATASET_DIRECTORY\"] + \"/train/images\"\n",
        "  labels = Path(labels_path).ls()\n",
        "  trains = Path(trains_path).ls()\n",
        "  labels_dict = {}\n",
        "  trains_dict = {}\n",
        "  for label in labels:\n",
        "    str_label = str(label)\n",
        "    label_file = str_label.split(\"/\")[-1]\n",
        "    label_file_name = \"\".join(label_file.split(\".txt\")[:-1])\n",
        "    labels_dict[label_file_name] = label\n",
        "  for _class in classes:\n",
        "    dict_classes_color[_class] = list(np.random.choice(range(255),size=3))\n",
        "  for i in range(6):\n",
        "    if len(trains) < i:\n",
        "      break \n",
        "    str_train = str(trains[i])\n",
        "    train_file = str_train.split(\"/\")[-1]\n",
        "    train_file_name = \"\".join(train_file.split(\".jpg\")[:-1])\n",
        "    label = labels_dict[train_file_name]\n",
        "    file_label = open(label)\n",
        "    img = cv2.imread(str_train)\n",
        "    for line in file_label.readlines():\n",
        "      line_split = line.split(\" \")\n",
        "      number_class = int(line_split[0])\n",
        "      coordenates = line_split[1:]\n",
        "      h, w, _ = img.shape\n",
        "      x = h * float(coordenates[0])\n",
        "      y = w * float(coordenates[1])\n",
        "      label_h = (h * float(coordenates[2])) / 2\n",
        "      label_w = (w * float(coordenates[3])) / 2\n",
        "      x1 = int(x - label_w)\n",
        "      y1 = int(y + label_h)\n",
        "      x2 = int(x + label_w)\n",
        "      y2 = int(y - label_h)\n",
        "      _class = classes[number_class]\n",
        "      r, g, b = dict_classes_color[_class]\n",
        "      cv2.rectangle(img,  (x1, y1), (x2, y2), (int(r), int(g), int(b)), 3)\n",
        "      cv2.putText(img, text=_class, org=(x1,y1-10),\n",
        "            fontFace= cv2.FONT_HERSHEY_SIMPLEX, fontScale=1, color=(0,0,0),\n",
        "            thickness=2, lineType=cv2.LINE_AA)\n",
        "    image_preview = \"img_preview\" + str(i) + \".jpg\"\n",
        "    cv2.imwrite(image_preview, img)\n",
        "    images_preview.append(image_preview)\n",
        "  return images_preview, dict_classes_color, classes \n",
        "\n",
        "def render_categories(total_images, category_dict):\n",
        "  chart_labels = [] \n",
        "  chart_quantities = []\n",
        "  for i in category_dict:\n",
        "    chart_labels.append(i)\n",
        "    chart_quantities.append(category_dict[i])\n",
        "\n",
        "  x = np.arange(len(chart_labels)) \n",
        "  width = 0.5  # the width of the bars\n",
        "  \n",
        "  fig, ax = plt.subplots()\n",
        "  rects = ax.bar(x, chart_quantities, width)\n",
        "  fig.set_figheight(10)\n",
        "  fig.set_figwidth(12)\n",
        "  \n",
        "  ax.set_ylabel('Objetos')\n",
        "  ax.set_title('Objetos por categoria')\n",
        "  ax.set_xticks(x)\n",
        "  ax.set_xticklabels(chart_labels)\n",
        "  ax.set_frame_on(False)\n",
        "  \n",
        "\n",
        "# Função que renderiza a janela de Analise De Requisitos\n",
        "def render_analise_de_requisitos(tab):\n",
        "  with tab.output_to(0, select=True):  \n",
        "    grid0 = colabwidigets.Grid(1, 1)\n",
        "    with grid0.output_to(0,0):\n",
        "\n",
        "      lbl_cat = ipywidgets.Label(value = \"Categorias:\")\n",
        "      txta_cat1 = ipywidgets.Textarea(value='',placeholder='Descrição das categorias de objetos que devem ser detectados \\nex. 10 categorias de objetos encontrados dentro de casa, que podem interferir no dia a dia de uma pessoa com deficiência visual: Armário, Cachorro, Cadeira, Cama, Criado Mudo, Mesa, Mochila, Porta, Sapato e Sofá',disabled=False,layout=l_req)\n",
        "\n",
        "      lbl_fontededados = ipywidgets.Label(value = \"Fonte de dados:\")\n",
        "      txta_fontededados = ipywidgets.Textarea(value='',placeholder='ex. imagens coletadas pelos criadores do modelo',disabled=False,layout=l_req)\n",
        "\n",
        "      lbl_qtddedados = ipywidgets.Label(value = \"Quantidade de dados:\")\n",
        "      txta_qtddedados = ipywidgets.Textarea(value='',placeholder='ex. No mínimo 30 exemplares para cada categoria',disabled=False,layout=l_req)\n",
        "      \n",
        "      lbl_pdr_img = ipywidgets.Label(value = \"Padronização das imagens:\")\n",
        "      txta_pdr_img1 = ipywidgets.Textarea(value='',placeholder='Descrição do formato das imagens \\nex. Formato: .jpg, Tamanho: 640x640 pixels',disabled=False,layout=l_req)\n",
        "\n",
        "      lbl_rotulacao = ipywidgets.Label(value = \"Rotulação dos dados:\")\n",
        "      txta_rotulacao = ipywidgets.Textarea(value='',placeholder='Descreve por quem e como foram as anotações das imagens \\nex. Por estudantes de curso de computação no ensino superior e rotulados na ferramenta roboflow',disabled=False,layout=l_req)\n",
        "\n",
        "      lbl_desempenho = ipywidgets.Label(value = \"Desempenho Esperado:\")\n",
        "      txta_desempenho = ipywidgets.Textarea(value='',placeholder='Especifique o desempenho esperado (usando uma ou mais medidas (mAP 0.5, mAP 0.95, precision, recall, F1 score) \\nex. mAP0.5 ou 0.95: no mínimo 75%, Precision: no minimo 75%, Recall: no minimo 75%...',disabled=False,layout=l_req)      \n",
        "\n",
        "      itens_req = ipywidgets.VBox([ ipywidgets.VBox([lbl_cat, txta_cat1], layout=l_hbox),\n",
        "                                    ipywidgets.VBox([lbl_fontededados, txta_fontededados], layout=l_hbox),\n",
        "                                    ipywidgets.VBox([lbl_qtddedados, txta_qtddedados], layout=l_hbox),\n",
        "                                    ipywidgets.VBox([lbl_pdr_img, txta_pdr_img1], layout=l_hbox),\n",
        "                                    ipywidgets.VBox([lbl_rotulacao, txta_rotulacao], layout=l_hbox),\n",
        "                                    ipywidgets.VBox([lbl_desempenho, txta_desempenho], layout=l_hbox)],layout=l_vbox)\n",
        "\n",
        "      display(itens_req)\n",
        "\n",
        "# Função que renderiza a janela para preparação dos dados\n",
        "def render_preparacao_dos_dados(tab):\n",
        "  with tab.output_to(1, select=False):  \n",
        "    grid1 = colabwidigets.Grid(6,1)\n",
        "    with grid1.output_to(0,0):\n",
        "      lbl_path = m_Header('Caminho do seu conjunto de dados', 'PREPARACAO_DOS_DADOS')\n",
        "      input_path = ipywidgets.Text(placeholder='Insira o caminho do seu conjunto de dados ex: /mask-dataset', value='',layout=l_txt)\n",
        "      btn_path = ipywidgets.Button(description='Carregar caminho', layout=l_btn)\n",
        "      hbox_path = ipywidgets.HBox([input_path, btn_path], layout=l_hbox)\n",
        "      vbox_path = ipywidgets.VBox([lbl_path.header, hbox_path], layout=l_vbox)\n",
        "      display(vbox_path)\n",
        "\n",
        "      def on_btn_path_clicked(a):\n",
        "        with grid1.output_to(1,0):\n",
        "          grid1.clear_cell()\n",
        "          os.environ[\"DATASET_DIRECTORY\"] = drive_connect.root_dir + input_path.value\n",
        "          if Path(os.environ[\"DATASET_DIRECTORY\"]).is_dir():\n",
        "            msg_ret = m_Ret('Path: ' + os.environ[\"DATASET_DIRECTORY\"] + '/ definido com sucesso', 1)\n",
        "            create_config_files()\n",
        "          else:\n",
        "            msg_ret = m_Ret('Path: ' + os.environ[\"DATASET_DIRECTORY\"] + '/ não encontrado', 2)\n",
        "          display(msg_ret.txt)\n",
        "\n",
        "      btn_path.on_click(on_btn_path_clicked)\n",
        "\n",
        "  # Atividade - Visualizar infos do dataset\n",
        "  with grid1.output_to(2, 0):\n",
        "    lbl_dataset_info = ipywidgets.Label(value = \"Visualizar informações do conjunto de dados\")\n",
        "\n",
        "    btn_view_total_by_category = ipywidgets.Button(description='Ver quantidade de objetos por categoria', layout=l_btn)\n",
        "    hbox_dataset_info = [lbl_dataset_info, ipywidgets.Box([btn_view_total_by_category], layout=l_btn_hbox)]\n",
        "    vbox_dataset_info = ipywidgets.VBox(hbox_dataset_info, layout=l_vbox)\n",
        "    display(vbox_dataset_info)\n",
        "    \n",
        "    def on_btn_view_total_by_category(_):\n",
        "      with grid1.output_to(3, 0):\n",
        "        dataset_total_images, dataset_dict_labels = total_by_category()\n",
        "        render_categories(dataset_total_images, dataset_dict_labels)\n",
        "    \n",
        "    btn_view_total_by_category.on_click(on_btn_view_total_by_category)\n",
        "\n",
        "  with grid1.output_to(4, 0):\n",
        "    lbl_img_preview = ipywidgets.Label(value = \"Visualizar conjunto de dados\")\n",
        "\n",
        "    btn_img_preview = ipywidgets.Button(description='Ver exemplos do conjunto', layout=l_btn)\n",
        "    hbox_img_preview = [lbl_img_preview, ipywidgets.Box([btn_img_preview], layout=l_btn_hbox)]\n",
        "    vbox_img_preview = ipywidgets.VBox(hbox_img_preview, layout=l_vbox)\n",
        "    display(vbox_img_preview)\n",
        "\n",
        "    def on_btn_img_preview(_):\n",
        "      with grid1.output_to(5,0):\n",
        "        images_preview, dict_classes_color, classes = generate_images_preview()\n",
        "        images_widgets = []\n",
        "        for image_preview in images_preview:\n",
        "          results = open(image_preview, \"rb\")\n",
        "          results_image = results.read()\n",
        "          results_image_widget = ipywidgets.Image(\n",
        "              value=results_image,\n",
        "              format='png',\n",
        "              width=240,\n",
        "              height=240,\n",
        "          )\n",
        "          images_widgets.append(results_image_widget)\n",
        "        grid = ipywidgets.GridBox(images_widgets, layout=ipywidgets.Layout(grid_template_columns=\"repeat(3, 240px)\"))\n",
        "        display(grid)\n",
        "    btn_img_preview.on_click(on_btn_img_preview)\n",
        "\n",
        "# Função que renderiza a janela para o treinamento\n",
        "def render_treinamento(tab):\n",
        "  with tab.output_to(2, select=False): #):  \n",
        "    grid2 = colabwidigets.Grid(2,1)\n",
        "    with grid2.output_to(0,0):\n",
        "      lbl_trainning = m_Header('Treinamento do modelo', 'TREINAMENTO')\n",
        "\n",
        "      model = ipywidgets.Dropdown(\n",
        "          options=models,\n",
        "          value=models[0],\n",
        "          description='Modelo:',\n",
        "          disabled=False,\n",
        "      )\n",
        "  \n",
        "      slider_batches = ipywidgets.IntSlider(min = 1,\n",
        "                                              max = 128,\n",
        "                                              step = 1,\n",
        "                                              value = 16,\n",
        "                                              description_tooltip='numero de lotes',\n",
        "                                              description='Tamaho do batch',\n",
        "                                              layout=l_hbox,\n",
        "                                              style=s_desc_wid)\n",
        "      slider_image_size = ipywidgets.IntSlider(min = 64,\n",
        "                                              max = 1280,\n",
        "                                              step = 64,\n",
        "                                              value = 640,\n",
        "                                              description_tooltip='tamanho das imagens',\n",
        "                                              description='Tamanho das imagens',\n",
        "                                              layout=l_hbox,\n",
        "                                              style=s_desc_wid)\n",
        "      slider_epochs = ipywidgets.IntSlider(min = 1,\n",
        "                                              max = 500,\n",
        "                                              step = 1,\n",
        "                                              value = 50,\n",
        "                                              description_tooltip='número de épocas',\n",
        "                                              description='Quantidade de épocas',\n",
        "                                              layout=l_hbox,\n",
        "                                              style=s_desc_wid)\n",
        "     \n",
        "\n",
        "      btn_train_model = ipywidgets.Button(description='Treinar Modelo',tooltip='',layout=l_btn)\n",
        "      hbox_trainning = [lbl_trainning.header, model, slider_batches, slider_image_size, slider_epochs, ipywidgets.Box([btn_train_model], layout=l_btn_hbox)]\n",
        "      vbox_trainning = ipywidgets.VBox(hbox_trainning, layout=l_vbox)\n",
        "      display(vbox_trainning)\n",
        "\n",
        "      def on_btn_train_model_clicked(b):\n",
        "        with grid2.output_to(1,0):\n",
        "          os.environ[\"BATCHES\"] = str(slider_batches.value)\n",
        "          os.environ[\"IMAGE_SIZE\"] = str(slider_image_size.value)\n",
        "          os.environ[\"EPOCHS\"] = str(slider_epochs.value)\n",
        "          os.environ[\"MODEL\"] = str(model.value)\n",
        "          create_config_files()\n",
        "          if Path(\"./yolov5/runs/train\").is_dir():\n",
        "            !rm -rf yolov5/runs/train\n",
        "          !python yolov5/train.py --img ${IMAGE_SIZE} --batch ${BATCHES} --epochs ${EPOCHS} --data ${CONFIG_YAML} --weights yolov5/${MODEL}.pt\n",
        "      \n",
        "      btn_train_model.on_click(on_btn_train_model_clicked)\n",
        "\n",
        "# Render Avaliação\n",
        "def render_avaliacao(tab):\n",
        "  with tab.output_to(3, select=False):  \n",
        "    grid6 = colabwidigets.Grid(8,1)\n",
        "\n",
        "    with grid6.output_to(0,0):\n",
        "      lbl_treinamento = ipywidgets.Label(value='Avaliação do treinamento')\n",
        "      btn_treinamento = ipywidgets.Button(description='Mostrar', layout=l_btn, style=s_desc_wid)\n",
        "\n",
        "      box_predict = ipywidgets.VBox([lbl_treinamento, ipywidgets.HBox([btn_treinamento], layout=l_btn_hbox)], layout=l_vbox)\n",
        "      display(box_predict)\n",
        "\n",
        "      def on_btn_treinamento(b):\n",
        "        with grid6.output_to(1,0):\n",
        "          results = open(\"/content/yolov5/runs/train/exp/results.png\", \"rb\")\n",
        "          results_image = results.read()\n",
        "          results_image_widget = ipywidgets.Image(\n",
        "              value=results_image,\n",
        "              format='png',\n",
        "              width=720,\n",
        "              height=720,\n",
        "          )\n",
        "          display(results_image_widget)\n",
        "\n",
        "      btn_treinamento.on_click(on_btn_treinamento)\n",
        "\n",
        "    with grid6.output_to(2,0):\n",
        "      lbl_desempenho = ipywidgets.Label(value='Avaliação do desempenho')\n",
        "      btn_desempenho = ipywidgets.Button(description='Mostrar', layout=l_btn, style=s_desc_wid)\n",
        "\n",
        "      box_predict = ipywidgets.VBox([lbl_desempenho, ipywidgets.HBox([btn_desempenho], layout=l_btn_hbox)], layout=l_vbox)\n",
        "      display(box_predict)\n",
        "\n",
        "      def on_btn_desempenho(b):\n",
        "        with grid6.output_to(3,0):\n",
        "          !python yolov5/val.py --data ${CONFIG_YAML} --weights yolov5/runs/train/exp/weights/best.pt\n",
        "\n",
        "      btn_desempenho.on_click(on_btn_desempenho)\n",
        "\n",
        "    with grid6.output_to(4,0):\n",
        "      lbl_f1 = ipywidgets.Label(value='Curva do F1 Score')\n",
        "      btn_f1 = ipywidgets.Button(description='Mostrar', layout=l_btn, style=s_desc_wid)\n",
        "\n",
        "      box_predict = ipywidgets.VBox([lbl_f1, ipywidgets.HBox([btn_f1], layout=l_btn_hbox)], layout=l_vbox)\n",
        "      display(box_predict)\n",
        "\n",
        "      def on_btn_f1(b):\n",
        "        with grid6.output_to(5,0):\n",
        "          f1_curve = open(\"/content/yolov5/runs/train/exp/F1_curve.png\", \"rb\")\n",
        "          f1_curve_image = f1_curve.read()\n",
        "          f1_curve_image_widget = ipywidgets.Image(\n",
        "              value=f1_curve_image,\n",
        "              format='png',\n",
        "              width=720,\n",
        "              height=720,\n",
        "          )\n",
        "          display(f1_curve_image_widget)\n",
        "\n",
        "      btn_f1.on_click(on_btn_f1)\n",
        "\n",
        "    with grid6.output_to(6,0):\n",
        "      lbl_matrix = ipywidgets.Label(value='Matriz de Confusão')\n",
        "      btn_matrix = ipywidgets.Button(description='Mostrar', layout=l_btn, style=s_desc_wid)\n",
        "\n",
        "      box_predict = ipywidgets.VBox([lbl_matrix, ipywidgets.HBox([btn_matrix], layout=l_btn_hbox)], layout=l_vbox)\n",
        "      display(box_predict)\n",
        "\n",
        "      def on_btn_confusion_matrix(b):\n",
        "        with grid6.output_to(7,0):\n",
        "          confusion_matrix = open(\"/content/yolov5/runs/train/exp/confusion_matrix.png\", \"rb\")\n",
        "          confusion_matrix_image = confusion_matrix.read()\n",
        "          confusion_matrix_image_widget = ipywidgets.Image(\n",
        "              value=confusion_matrix_image,\n",
        "              format='png',\n",
        "              width=720,\n",
        "              height=720,\n",
        "          )\n",
        "          display(confusion_matrix_image_widget)\n",
        "\n",
        "      btn_matrix.on_click(on_btn_confusion_matrix)\n",
        "\n",
        "# Render Predição\n",
        "def render_predicao(tab):\n",
        "  with tab.output_to(4, select=False):  \n",
        "    grid6 = colabwidigets.Grid(5,1)\n",
        "    slider_confidence = ipywidgets.IntSlider(min = 1,\n",
        "                                            max = 100,\n",
        "                                            step = 1,\n",
        "                                            value = 10,\n",
        "                                            description_tooltip='Taxa de Confiança',\n",
        "                                            description='Confiança',\n",
        "                                            layout=l_hbox,\n",
        "                                            style=s_desc_wid)\n",
        "\n",
        "    with grid6.output_to(0,0):\n",
        "      lbl_confidence = m_Header('Taxa de Confiança', 'PREDICAO')\n",
        "\n",
        "      box_confidence = ipywidgets.VBox([lbl_confidence.header, slider_confidence], layout=l_vbox)\n",
        "      display(box_confidence)\n",
        "\n",
        "    with grid6.output_to(1,0):\n",
        "      lbl_prediction = ipywidgets.Label(value=\"Predição do test set (parte do seu conjunto de dados)\")\n",
        "\n",
        "      btn_pred = ipywidgets.Button(description='Predição', layout=l_btn, style=s_desc_wid)\n",
        "      box_predict = ipywidgets.VBox([lbl_prediction, ipywidgets.HBox([btn_pred], layout=l_btn_hbox)], layout=l_vbox)\n",
        "      display(box_predict)\n",
        "\n",
        "      def on_btn_pred(b):\n",
        "        with grid6.output_to(2,0):\n",
        "          if Path(\"./yolov5/runs/detect\").is_dir():\n",
        "            !rm -rf yolov5/runs/detect\n",
        "    \n",
        "          os.environ[\"CONFIDENCE\"] = str(slider_confidence.value/100)\n",
        "          !python yolov5/detect.py --weights yolov5/runs/train/exp/weights/best.pt --img ${IMAGE_SIZE} --conf ${CONFIDENCE} --source ${DATASET_DIRECTORY}/test/images\n",
        "          images_widgets = []\n",
        "          for imageName in glob.glob('/content/yolov5/runs/detect/exp/*.jpg'):\n",
        "            results = open(imageName, \"rb\")\n",
        "            results_image = results.read()\n",
        "            results_image_widget = ipywidgets.Image(\n",
        "                value=results_image,\n",
        "                format='png',\n",
        "                width=320,\n",
        "                height=320,\n",
        "            )\n",
        "            images_widgets.append(results_image_widget)\n",
        "          grid = ipywidgets.GridBox(images_widgets, layout=ipywidgets.Layout(grid_template_columns=\"repeat(3, 320px)\"))\n",
        "          display(grid)\n",
        "      btn_pred.on_click(on_btn_pred)\n",
        "\n",
        "    with grid6.output_to(3,0):\n",
        "      lbl_prediction_upload = ipywidgets.Label(value=\"Predição pelo upload de uma imagem\")\n",
        "\n",
        "      btn_upload = ipywidgets.FileUpload()\n",
        "      btn_pred = ipywidgets.Button(description='Predição', layout=l_btn, style=s_desc_wid)\n",
        "      box_predict = ipywidgets.VBox([lbl_prediction_upload, ipywidgets.HBox([btn_upload, btn_pred], layout=l_btn_hbox)], layout=l_vbox)\n",
        "      display(box_predict)\n",
        "\n",
        "      os.environ[\"PREDICT_DIR\"] = \"yolov5/predict/\"\n",
        "      def on_btn_pred(b):\n",
        "        if not Path(\"./yolov5/predict/\").is_dir():\n",
        "          !mkdir yolov5/predict\n",
        "\n",
        "        for index in range(len(btn_upload.data)):\n",
        "          with open(os.environ[\"PREDICT_DIR\"] + \"predict\" + str(index) + \".jpg\" , \"w+b\") as i:\n",
        "              i.write(btn_upload.data[index])\n",
        "\n",
        "        with grid6.output_to(4,0):\n",
        "          if Path(\"./yolov5/runs/detect\").is_dir():\n",
        "            !rm -rf yolov5/runs/detect\n",
        "    \n",
        "          os.environ[\"CONFIDENCE\"] = str(slider_confidence.value/100)\n",
        "          !python yolov5/detect.py --weights yolov5/runs/train/exp/weights/best.pt --img ${IMAGE_SIZE} --conf ${CONFIDENCE} --source ${PREDICT_DIR}\n",
        "          for imageName in glob.glob('/content/yolov5/runs/detect/exp/*.jpg'):\n",
        "            display(Image(filename=imageName))\n",
        "            print(\"\\n\")\n",
        "\n",
        "      btn_pred.on_click(on_btn_pred)\n",
        "\n",
        "# Render Exportação\n",
        "def render_exportacao(tab):\n",
        "  with tab.output_to(5, select=False):  \n",
        "    grid7 = colabwidigets.Grid(3,1)\n",
        "    with grid7.output_to(0,0):\n",
        "      lbl_export = m_Header('Exportação do modelo', 'EXPORTACAO')\n",
        "      lbl_model = ipywidgets.Label(value = \"Formato:\")\n",
        "      lbl_path = ipywidgets.Label(value = \"Caminho para exportação do modelo treinado:\")\n",
        "\n",
        "      model_export = ipywidgets.Dropdown(\n",
        "          options=export_list,\n",
        "          value=export_list[0],\n",
        "          disabled=False,\n",
        "      )\n",
        "      export_path = ipywidgets.Text(placeholder='Insira um caminho de um diretório válido no drive',value='',layout=l_txt)\n",
        "      btn_export = ipywidgets.Button(description='Exportar', layout=l_btn)\n",
        "      vbox_dropdown = ipywidgets.VBox([lbl_model, model_export], layout=l_vbox)\n",
        "\n",
        "      btn_path = ipywidgets.Button(description='Carregar Caminho', layout=l_btn)\n",
        "      hbox_export = ipywidgets.HBox([export_path, btn_path], layout=l_hbox)\n",
        "      hbox_btn_export = ipywidgets.HBox([btn_export], layout=l_btn_hbox)\n",
        "      vbox_export = ipywidgets.VBox([lbl_export.header, vbox_dropdown, lbl_path, hbox_export, hbox_btn_export], layout=l_vbox)\n",
        "\n",
        "      display(vbox_export)\n",
        "\n",
        "      def on_btn_path_clicked(a):\n",
        "        with grid7.output_to(1,0):\n",
        "          grid7.clear_cell()\n",
        "          os.environ[\"EXPORT_DIRECTORY\"] = drive_connect.root_dir + export_path.value\n",
        "          if Path(os.environ[\"EXPORT_DIRECTORY\"]).is_dir():\n",
        "            msg_ret = m_Ret('Path: ' + os.environ[\"EXPORT_DIRECTORY\"] + '/ definido com sucesso', 1)\n",
        "          else:\n",
        "            msg_ret = m_Ret('Path: ' + os.environ[\"EXPORT_DIRECTORY\"] + '/ não encontrado', 2)\n",
        "          display(msg_ret.txt)\n",
        "      btn_path.on_click(on_btn_path_clicked)\n",
        "\n",
        "      def on_btn_export_clicked(b):\n",
        "        with grid7.output_to(2,0):\n",
        "          grid7.clear_cell()\n",
        "          os.environ[\"MODEL_EXPORT\"] = str(model_export.value)\n",
        "          if Path(os.environ[\"EXPORT_DIRECTORY\"]).is_dir():\n",
        "            if os.environ[\"MODEL_EXPORT\"] != 'pt':\n",
        "              !python yolov5/export.py --weights yolov5/runs/train/exp/weights/best.pt --img ${IMAGE_SIZE} --include ${MODEL_EXPORT}\n",
        "            if os.environ[\"MODEL_EXPORT\"] == 'tflite':\n",
        "              !cp yolov5/runs/train/exp/weights/best-fp16.tflite ${EXPORT_DIRECTORY}\n",
        "            else:            \n",
        "              !cp yolov5/runs/train/exp/weights/best.${MODEL_EXPORT} ${EXPORT_DIRECTORY}  \n",
        "            msg_ret = m_Ret('Exportado para: \\'' + os.environ[\"EXPORT_DIRECTORY\"] + ' com sucesso', 1)\n",
        "            display(msg_ret.txt)\n",
        "          else:\n",
        "            msg_ret = m_Ret('Diretorio: \\'' + os.environ[\"EXPORT_DIRECTORY\"] + ' não encontrado', 2)\n",
        "            display(msg_ret.txt)\n",
        "\n",
        "      btn_export.on_click(on_btn_export_clicked)\n",
        "\n",
        "def create_config_files():\n",
        "  files = Path(os.environ[\"DATASET_DIRECTORY\"]).ls()\n",
        "  yaml_config = re.compile(r'[A-z0-9/.-]+.yaml')\n",
        "  for _file in files:\n",
        "    if yaml_config.search(str(_file)):\n",
        "      os.environ[\"CONFIG_YAML\"] = str(_file)\n",
        "\n",
        "  with open(os.environ[\"CONFIG_YAML\"], 'r+') as f:\n",
        "    text = f.read()\n",
        "    text = re.sub(r'train: ([A-z0-9/.-]*)', \"train: \" + os.environ[\"DATASET_DIRECTORY\"] + \"/train/images\", text)\n",
        "    text = re.sub(r'val: ([A-z0-9/.-]*)', \"val: \" + os.environ[\"DATASET_DIRECTORY\"] + \"/valid/images\", text)\n",
        "    f.seek(0)\n",
        "    f.write(text)\n",
        "    f.truncate()  \n",
        "\n",
        "def charge_yolov5():\n",
        "  #clone YOLOv5 and \n",
        "  !git clone https://github.com/ultralytics/yolov5 | tee -a >> log.txt  # clone repo\n",
        "  %cd yolov5\n",
        "  %pip install -qr requirements.txt\n",
        "  %pip install -q roboflow\n",
        "  %cd ..\n",
        "  \n",
        "# Função para ser executada, encapsula tudo\n",
        "def render_odin():\n",
        "  # Carrega os arquivos do Darknet\n",
        "  charge_yolov5()\n",
        "  # Conecta ao Google Drive\n",
        "  connected = drive_connect()\n",
        "  clear_output(wait=True)\n",
        "  if connected:\n",
        "    # Criação do painel que vai conter as abas\n",
        "    tab = colabwidigets.TabBar(['Análise de requisitos', 'Preparação de dados', 'Treinamento', 'Avaliação', 'Predição', 'Exportação'])\n",
        "    # Renderização da Analise de Requisitos  \n",
        "    render_analise_de_requisitos(tab)\n",
        "    # Renderização da Preparação dos Dados\n",
        "    render_preparacao_dos_dados(tab)\n",
        "    # Renderização para o Transfer Learning\n",
        "    render_treinamento(tab)\n",
        "    # Renderização para a avaliação\n",
        "    render_avaliacao(tab)\n",
        "    # Renderização para a predição\n",
        "    render_predicao(tab)\n",
        "    # Renderização para a Exportação\n",
        "    render_exportacao(tab)"
      ],
      "execution_count": 74,
      "outputs": [
        {
          "output_type": "stream",
          "name": "stdout",
          "text": [
            "Enabling notebook extension jupyter-js-widgets/extension...\n",
            "Paths used for configuration of notebook: \n",
            "    \t/root/.jupyter/nbconfig/notebook.json\n",
            "      - Validating: \u001b[32mOK\u001b[0m\n",
            "Paths used for configuration of notebook: \n",
            "    \t/root/.jupyter/nbconfig/notebook.json\n"
          ]
        }
      ]
    },
    {
      "cell_type": "code",
      "metadata": {
        "id": "pN1o5q90Ubaa",
        "colab": {
          "base_uri": "https://localhost:8080/",
          "resources": {
            "http://localhost:8080/nbextensions/google.colab/tabbar.css": {
              "data": "Lmdvb2ctdGFie3Bvc2l0aW9uOnJlbGF0aXZlO3BhZGRpbmc6NHB4IDhweDtjb2xvcjojMDBjO3RleHQtZGVjb3JhdGlvbjp1bmRlcmxpbmU7Y3Vyc29yOmRlZmF1bHR9Lmdvb2ctdGFiLWJhci10b3AgLmdvb2ctdGFie21hcmdpbjoxcHggNHB4IDAgMDtib3JkZXItYm90dG9tOjA7ZmxvYXQ6bGVmdH0uZ29vZy10YWItYmFyLXRvcDphZnRlciwuZ29vZy10YWItYmFyLWJvdHRvbTphZnRlcntjb250ZW50OiIgIjtkaXNwbGF5OmJsb2NrO2hlaWdodDowO2NsZWFyOmJvdGg7dmlzaWJpbGl0eTpoaWRkZW59Lmdvb2ctdGFiLWJhci1ib3R0b20gLmdvb2ctdGFie21hcmdpbjowIDRweCAxcHggMDtib3JkZXItdG9wOjA7ZmxvYXQ6bGVmdH0uZ29vZy10YWItYmFyLXN0YXJ0IC5nb29nLXRhYnttYXJnaW46MCAwIDRweCAxcHg7Ym9yZGVyLXJpZ2h0OjB9Lmdvb2ctdGFiLWJhci1lbmQgLmdvb2ctdGFie21hcmdpbjowIDFweCA0cHggMDtib3JkZXItbGVmdDowfS5nb29nLXRhYi1ob3ZlcntiYWNrZ3JvdW5kOiNlZWV9Lmdvb2ctdGFiLWRpc2FibGVke2NvbG9yOiM2NjZ9Lmdvb2ctdGFiLXNlbGVjdGVke2NvbG9yOiMwMDA7YmFja2dyb3VuZDojZmZmO3RleHQtZGVjb3JhdGlvbjpub25lO2ZvbnQtd2VpZ2h0OmJvbGQ7Ym9yZGVyOjFweCBzb2xpZCAjNmI5MGRhfS5nb29nLXRhYi1iYXItdG9we3BhZGRpbmctdG9wOjVweCFpbXBvcnRhbnQ7cGFkZGluZy1sZWZ0OjVweCFpbXBvcnRhbnQ7Ym9yZGVyLWJvdHRvbToxcHggc29saWQgIzZiOTBkYSFpbXBvcnRhbnR9Lmdvb2ctdGFiLWJhci10b3AgLmdvb2ctdGFiLXNlbGVjdGVke3RvcDoxcHg7bWFyZ2luLXRvcDowO3BhZGRpbmctYm90dG9tOjVweH0uZ29vZy10YWItYmFyLWJvdHRvbSAuZ29vZy10YWItc2VsZWN0ZWR7dG9wOi0xcHg7bWFyZ2luLWJvdHRvbTowO3BhZGRpbmctdG9wOjVweH0uZ29vZy10YWItYmFyLXN0YXJ0IC5nb29nLXRhYi1zZWxlY3RlZHtsZWZ0OjFweDttYXJnaW4tbGVmdDowO3BhZGRpbmctcmlnaHQ6OXB4fS5nb29nLXRhYi1iYXItZW5kIC5nb29nLXRhYi1zZWxlY3RlZHtsZWZ0Oi0xcHg7bWFyZ2luLXJpZ2h0OjA7cGFkZGluZy1sZWZ0OjlweH0uZ29vZy10YWItYmFye21hcmdpbjowO2JvcmRlcjowO3BhZGRpbmc6MDtsaXN0LXN0eWxlOm5vbmU7Y3Vyc29yOmRlZmF1bHQ7b3V0bGluZTpub25lO2JhY2tncm91bmQ6I2ViZWZmOX0uZ29vZy10YWItYmFyLWNsZWFye2NsZWFyOmJvdGg7aGVpZ2h0OjA7b3ZlcmZsb3c6aGlkZGVufS5nb29nLXRhYi1iYXItc3RhcnR7ZmxvYXQ6bGVmdH0uZ29vZy10YWItYmFyLWVuZHtmbG9hdDpyaWdodH0qIGh0bWwgLmdvb2ctdGFiLWJhci1zdGFydHttYXJnaW4tcmlnaHQ6LTNweH0qIGh0bWwgLmdvb2ctdGFiLWJhci1lbmR7bWFyZ2luLWxlZnQ6LTNweH0=",
              "ok": true,
              "headers": [
                [
                  "content-type",
                  "text/css"
                ]
              ],
              "status": 200,
              "status_text": "OK"
            },
            "http://localhost:8080/nbextensions/google.colab/tabbar_main.min.js": {
              "data": "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",
              "ok": true,
              "headers": [
                [
                  "content-type",
                  "application/javascript"
                ]
              ],
              "status": 200,
              "status_text": "OK"
            }
          },
          "height": 1000,
          "referenced_widgets": [
            "214ab578317f4742af16d312cfed8ee9",
            "7d61a9f58a684988a1a57181b27c60e5",
            "265974f984ff4cb4a542f90400b07b74",
            "b48a128a710c4f3196cb54baf0b192aa",
            "0f369a920d9e453384371c260a0357b6",
            "f9a8b9b441784dc28b4e760a92c455ad",
            "b18048f525454b36b1c0f8a521ead973",
            "5912144f96d846b3b189e9181481a023",
            "4213aa1091e14fafbeff2cdbdd529473",
            "ab4bd5f9885a4a46806030c5690aad43",
            "26e82b6f8bb44c779427feb24e9285d6",
            "5ddf09e3d3fa458c993278cba227844e",
            "49f25d8f04bc4139a2cadb55b8701b0d",
            "130aed97a5dd428c8f7b06432988cf06",
            "ffee9f2ee1c942ca8b0d790efbe829aa",
            "8e426f6fd40e43168b681756619c4828",
            "3a7457c55997418ea546d09fa4433e76",
            "22d4ea18f10146659dcedecedb52ac0d",
            "28a6c26a9593409cb023b1448743c7f9",
            "81ea5e0e777f4944b1449b12ee904e82",
            "b50fab8a27fc4f5398ce1e2f30ef3f12",
            "00499c822b2246e698f0d3d233d5aaad",
            "3b2513a4ecf349fab3136944118a8cae",
            "68b5fc623f3045f2b5021eba7ca4bde8",
            "36e13d60b5c4486dafccf6e3c046f3f0",
            "45968c1d6c5e4e4b884cfd7c52f09025",
            "2ad60fd936a44a1d86e9448c98b2176e",
            "4a650cd55cad41f3bbd0a27993b11c96",
            "fef70fcb2ab84ba589fdc057f8602a57",
            "5126341a76b54541b97d0b9decfde0d3",
            "85871bc469ed4631a820fdfe31417f42",
            "135e7251a6854c12b22ea21292df0236",
            "cee4104c23e14e2282acca9dc30cc7d1",
            "9acdc2f86ca74039a668e72bcdd89dd6",
            "88313881e0d346078902693d97290baf",
            "4cbd3418b788411fb504f11faea77cd1",
            "3a73a311e9dd4a199018f8d624716470",
            "6d8a5442c383430e8bea5744db8efeed",
            "eb53ee108738499fb57ff38c6829e20e",
            "2d421db5565b42fc834a2e0d7d1e1ee4",
            "2cddae08b6424be481bc3de2d64a8101",
            "5380556d45a44edf9cf39255d6c18f7b",
            "bde3a2245fb04e7788af4ce98c37e2dc",
            "31163c9e6b284b5fa08002450febbd11",
            "406c28e2ab3b43d49652ce00c5a7a053",
            "1a6d274ea19242f893cea0c46be53765",
            "8941773ccb904267826558a366ea70d1",
            "bb3bc33942f1409fb499e9848528392d",
            "693f113ddf64414b90e829fc2a4377dd",
            "97b982ac02bc4fb6bf87a8bf2799d221",
            "1c3bfe2d3b3d4662bd6c2cf9593014f9",
            "7d8c61af0e6e44d38229418dadb35b3e",
            "df9a1c8b293a43f1aec3231e6bb338eb",
            "3b95944c56dc4c41ba70c60d7af091aa",
            "980bd63e59d24e65a8211d6335ea53f3",
            "3d2ed700559b435ea3b4388bfe59574e",
            "6b7bcad980ac4ea3bf52e2eefdf0b1d1",
            "caeb354fe14744369e25ac67782320bd",
            "ed421dbbe34b4aee97077b2db4baca22",
            "2c179568d533473184640fc3fa0eeb65",
            "94384694da2c47b3baf5fda5d56685e4",
            "6b7fb598cafd4f828d1a9a52ec0b5e53",
            "3cd8a7a1811d4fad84312c569f61af01",
            "3c2aba89330f4c389af37eb9a6524ae9",
            "dd502d61baf0441db8053e30c81064ec",
            "c751931e84694921b34211168d6eb54b",
            "a648a0cc43b34b87a032174e26cd452d",
            "2d7dd7b506c142fdb1ac4e939b67dfdf",
            "dc7bf76e8a6d4bafa0abad40c99451ee",
            "e4b1a28f981a42209c68c0530c83c7c1",
            "62223abe972147d780f588efcdd8f702",
            "058c4ed3019f4a04a6996af90b8ab6f5",
            "0e85ec5683f9474ca4aaeb97e0150d1b",
            "c065538f83584330b3907e44a80b68c6",
            "9e112c0e65924e7ab74cdc288d3984eb",
            "889c875a44c44c98a7cbbd9f44e168c6",
            "0d9a6e91aa5b4938a8ee3cb90447c638",
            "c2b63a1a97544f3b96ec7b4bef13ddd9",
            "318251d68f4d4bc6a2a37bc7baddc02a",
            "2bd87ff001604da48eae75db998c0754",
            "367208bdf4504b9baf81c98d3a72225a",
            "d093a62ee79a46609a0d38111e41a189",
            "3d86baa509aa499eab2fc76345a19afe",
            "7e02064bf35e4db288735c7fa901eeb9",
            "38412e1be4f9437bab169c7efcc90511",
            "1c10e9ec4a634773aa8cd0f6f4d3e358",
            "d40524239982493493a3e69ee52a9c43",
            "b4e578eb6fd34456a48ee9bb04f25a7c",
            "bb846d56ad5d4f8c9c002a25b0fd70df",
            "85eed3f631de48eda76c65c7e1788ac0",
            "91e1268d5aeb42a2a2626b9988a1e3c7",
            "6e5456b30e0b4242bf87ce27c39d51f5",
            "a0a7b3c4d4d24d3a9ad0912b44247058",
            "6cb7b5dcbb78438fb49ac83728e534bf",
            "f5429b8962224c57abf435734bd37c4b",
            "c1229e5d8fcc477197b79fd6c2c5c54f",
            "51061f01b2954495a26ab90faf1d0ffd",
            "0116a62b7b2b4e9f86f8dee42cacc263",
            "9f3adfeb9585425daa05e55a3e86a6e0",
            "05f99ed042a140d188a86aae1410baec",
            "bbb8b620551441c49468e7286654b07f",
            "fa5c099671a54505a7b15959d41b8ab7",
            "0bff60c19a76415e93da74138e62cab7",
            "705ba0e94ab84da5b49453c0fa907158",
            "16768845fa244c83839a461e849520a1",
            "fa8f2ed920d1487b831ee890e493b78a",
            "ecc5908fd74d41ac859dad52ca4cc323",
            "b892331e5f604a23add8a26e31b8784c",
            "61e507086d544b74bc5717bbcaca78b6",
            "46897e28bc4242e7b535a6e10754e358",
            "57edb893e4a548328d59958ddc22aae7",
            "59bd23dad90f4082ba6fff4f7324ad4c",
            "b8226a3e4fd84d86a59413adf9c5a462",
            "777b6e2441d3412eaad4bf0aeea78859",
            "d3f7673a0bc848ba95eaef5efbbe4a8f",
            "9a30fceffafc49f48afaeb572a97dd43",
            "a0e0ffbd33e64a2a894f53b894f8107a",
            "069b799967184d9c982bb48ac883dd0e",
            "3f6f380248fb4a26b2e06819d6ab8655",
            "bfef9755e92f4201a6984ae28dced60b",
            "b218653205e341aeabf64aa529598ba6",
            "5e26781aeb394ac4bd6f2d8de8ff6919",
            "89ac53d51bcc46acb8412a589ca139e6",
            "62c332e75aeb426b97dbcbd6c412a1c8",
            "7c086df71f9d4959a047f1ef608f29d9",
            "492d481268214836a5a60ed91cc83f5a",
            "aa134df94b6f4de6a0ba5d3f8982117d",
            "1545cb0a907e48468045a07bc5a8833c",
            "663e9266c4e84693b88377dac1ad54ad",
            "7ebc80b098cb49bd9e36fcfcdce2aefe",
            "2ab08a9adcfc41f784b6103a078c8a1f",
            "4b21ab8a70e347839770fd9a883bcb8b",
            "8f8e552a6c3e4f45954cdd4deddcfad1",
            "1d948f03e6a049d0a650d5a6f33c149c",
            "c4d81b1e403b4505bcface5b388d2b37",
            "abc98c2a51834bb6937d9a24aa00e211",
            "6c7a68d47b9e4c4e8d6eedfd9e37b51f",
            "90012253bf704a13b9c1a34ed4847aa8",
            "220c5d25ae474996b75de0eb6c5af318",
            "483a3e69acc54d07bd9d17b91b20bb63",
            "2ba36cdda9ea425088e5e292fedbdcf8",
            "2a1e867fa7ba444aab1f18c097f524a4",
            "18808e19e6164c5892c5c18f564cece6",
            "c5160f1516c64d7a8951db2589a613ab",
            "056278ee97ef468586484d5576038b49",
            "33b2d8de9fa24eccb668a1a2e2117aef",
            "694f57ea4f744bc8bdee84ea63a92280",
            "db0d57a5f41f49e4ba690ce7cf901dc1",
            "a965c03fd7344242bd8b7bfaeff2da5a",
            "8aa9e5cfe737466bada6b9b42dd9051c",
            "2eb993c3b07f442b9a87dcd4f5a330fa",
            "4d2455434123421f8ba4daf2ebf2bede",
            "0d70f6b2ddef4bd29e3a3f2de11f6492",
            "e404a4aaf3cc4165a8f063de8555a407",
            "72313a471ff8405d973f848cf8bb92c1",
            "0fa4ace572d2484d967bf3d5ba645fa6",
            "e1e72e62352846619618b726bb80bcfa",
            "b1b0254eae62439f9da3ed1cdabb50b2",
            "fce656fadeb147d58d84bc6f9c530225",
            "744591bd8b8e41138468c309ebd66a60",
            "baf71a5cc4e9443bab6d79d56f8d29a5",
            "70be2d949ce945c281909eab73dff938",
            "bae0e9cf1ea54d4bb35384a601e0408a",
            "942f1cdf3e764ae0a6af3900a212d775",
            "44e1cf458eb64ddbb3317650048dd59a",
            "cd9274858260485d90455d8fd6ef3160",
            "df75bd447dc64785bc27c71b72f5abc2",
            "f5428ae8b1f64c099d633841a2f8947e",
            "f06dc967ade449a8b6f919c3d88b65ae",
            "d000698507ca48eea8351214dd506815",
            "f84c3786e3c347cb91b04697b033c8af",
            "34065254e2b54f3f85f64a73da706ed6"
          ]
        },
        "outputId": "a2185478-d07a-477c-8c20-89d4aaf74937"
      },
      "source": [
        "render_odin()"
      ],
      "execution_count": 75,
      "outputs": [
        {
          "output_type": "display_data",
          "data": {
            "text/plain": [
              "<IPython.core.display.HTML object>"
            ],
            "text/html": [
              "<link rel=stylesheet type=text/css href='/nbextensions/google.colab/tabbar.css'></link>"
            ]
          },
          "metadata": {}
        },
        {
          "output_type": "display_data",
          "data": {
            "text/plain": [
              "<IPython.core.display.HTML object>"
            ],
            "text/html": [
              "<script src='/nbextensions/google.colab/tabbar_main.min.js'></script>"
            ]
          },
          "metadata": {}
        },
        {
          "output_type": "display_data",
          "data": {
            "text/plain": [
              "<IPython.core.display.HTML object>"
            ],
            "text/html": [
              "<div id=\"id188\"></div>"
            ]
          },
          "metadata": {}
        },
        {
          "output_type": "display_data",
          "data": {
            "text/plain": [
              "<IPython.core.display.Javascript object>"
            ],
            "application/javascript": [
              "window[\"e16ff05a-a282-11ec-9d07-0242ac1c0002\"] = colab_lib.createTabBar({\"location\": \"top\", \"elementId\": \"id188\", \"tabNames\": [\"An\\u00e1lise de requisitos\", \"Prepara\\u00e7\\u00e3o de dados\", \"Treinamento\", \"Avalia\\u00e7\\u00e3o\", \"Predi\\u00e7\\u00e3o\", \"Exporta\\u00e7\\u00e3o\"], \"initialSelection\": 0, \"contentBorder\": [\"0px\"], \"contentHeight\": [\"initial\"], \"borderColor\": [\"#a7a7a7\"]});\n",
              "//# sourceURL=js_fb6c0c9abc"
            ]
          },
          "metadata": {}
        },
        {
          "output_type": "display_data",
          "data": {
            "text/plain": [
              "<IPython.core.display.Javascript object>"
            ],
            "application/javascript": [
              "window[\"e17066a2-a282-11ec-9d07-0242ac1c0002\"] = window[\"id188\"].setSelectedTabIndex(0);\n",
              "//# sourceURL=js_e3237530a1"
            ]
          },
          "metadata": {}
        },
        {
          "output_type": "display_data",
          "data": {
            "text/plain": [
              "<IPython.core.display.Javascript object>"
            ],
            "application/javascript": [
              "window[\"e172d784-a282-11ec-9d07-0242ac1c0002\"] = google.colab.output.getActiveOutputArea();\n",
              "//# sourceURL=js_622bb18117"
            ]
          },
          "metadata": {}
        },
        {
          "output_type": "display_data",
          "data": {
            "text/plain": [
              "<IPython.core.display.Javascript object>"
            ],
            "application/javascript": [
              "window[\"e17350ec-a282-11ec-9d07-0242ac1c0002\"] = document.querySelector(\"#id188_content_0\");\n",
              "//# sourceURL=js_5fad8a84bb"
            ]
          },
          "metadata": {}
        },
        {
          "output_type": "display_data",
          "data": {
            "text/plain": [
              "<IPython.core.display.Javascript object>"
            ],
            "application/javascript": [
              "window[\"e173c248-a282-11ec-9d07-0242ac1c0002\"] = google.colab.output.setActiveOutputArea(window[\"e17350ec-a282-11ec-9d07-0242ac1c0002\"]);\n",
              "//# sourceURL=js_db7def872c"
            ]
          },
          "metadata": {}
        },
        {
          "output_type": "display_data",
          "data": {
            "text/plain": [
              "<IPython.core.display.Javascript object>"
            ],
            "application/javascript": [
              "window[\"e1742c24-a282-11ec-9d07-0242ac1c0002\"] = window[\"id188\"].setSelectedTabIndex(0);\n",
              "//# sourceURL=js_3d3d965161"
            ]
          },
          "metadata": {}
        },
        {
          "output_type": "display_data",
          "data": {
            "text/plain": [
              "<IPython.core.display.HTML object>"
            ],
            "text/html": [
              "<style>\n",
              "       table#id190, #id190 > tbody > tr > th, #id190 > tbody > tr > td {\n",
              "         border: 1px solid lightgray;\n",
              "         border-collapse:collapse;\n",
              "         \n",
              "        }</style>"
            ]
          },
          "metadata": {}
        },
        {
          "output_type": "display_data",
          "data": {
            "text/plain": [
              "<IPython.core.display.HTML object>"
            ],
            "text/html": [
              "<table id=id190><tr><td id=id190-0-0></td></tr></table>"
            ]
          },
          "metadata": {}
        },
        {
          "output_type": "display_data",
          "data": {
            "text/plain": [
              "<IPython.core.display.Javascript object>"
            ],
            "application/javascript": [
              "window[\"e17801fa-a282-11ec-9d07-0242ac1c0002\"] = google.colab.output.getActiveOutputArea();\n",
              "//# sourceURL=js_d0c4cf5696"
            ]
          },
          "metadata": {}
        },
        {
          "output_type": "display_data",
          "data": {
            "text/plain": [
              "<IPython.core.display.Javascript object>"
            ],
            "application/javascript": [
              "window[\"e178644c-a282-11ec-9d07-0242ac1c0002\"] = document.querySelector(\"#id190-0-0\");\n",
              "//# sourceURL=js_ff8500237f"
            ]
          },
          "metadata": {}
        },
        {
          "output_type": "display_data",
          "data": {
            "text/plain": [
              "<IPython.core.display.Javascript object>"
            ],
            "application/javascript": [
              "window[\"e178c658-a282-11ec-9d07-0242ac1c0002\"] = google.colab.output.setActiveOutputArea(window[\"e178644c-a282-11ec-9d07-0242ac1c0002\"]);\n",
              "//# sourceURL=js_400932d194"
            ]
          },
          "metadata": {}
        },
        {
          "output_type": "display_data",
          "data": {
            "text/plain": [
              "VBox(children=(VBox(children=(Label(value='Categorias:'), Textarea(value='', layout=Layout(height='90px', widt…"
            ],
            "application/vnd.jupyter.widget-view+json": {
              "version_major": 2,
              "version_minor": 0,
              "model_id": "214ab578317f4742af16d312cfed8ee9"
            }
          },
          "metadata": {}
        },
        {
          "output_type": "display_data",
          "data": {
            "text/plain": [
              "<IPython.core.display.Javascript object>"
            ],
            "application/javascript": [
              "window[\"e1a3e8ba-a282-11ec-9d07-0242ac1c0002\"] = google.colab.output.setActiveOutputArea(window[\"e17801fa-a282-11ec-9d07-0242ac1c0002\"]);\n",
              "//# sourceURL=js_cae1f31e4c"
            ]
          },
          "metadata": {}
        },
        {
          "output_type": "display_data",
          "data": {
            "text/plain": [
              "<IPython.core.display.Javascript object>"
            ],
            "application/javascript": [
              "window[\"e1a72d54-a282-11ec-9d07-0242ac1c0002\"] = google.colab.output.setActiveOutputArea(window[\"e172d784-a282-11ec-9d07-0242ac1c0002\"]);\n",
              "//# sourceURL=js_a4cb7229b1"
            ]
          },
          "metadata": {}
        },
        {
          "output_type": "display_data",
          "data": {
            "text/plain": [
              "<IPython.core.display.Javascript object>"
            ],
            "application/javascript": [
              "window[\"e1ab682e-a282-11ec-9d07-0242ac1c0002\"] = google.colab.output.getActiveOutputArea();\n",
              "//# sourceURL=js_ac33248904"
            ]
          },
          "metadata": {}
        },
        {
          "output_type": "display_data",
          "data": {
            "text/plain": [
              "<IPython.core.display.Javascript object>"
            ],
            "application/javascript": [
              "window[\"e1ac02b6-a282-11ec-9d07-0242ac1c0002\"] = document.querySelector(\"#id188_content_1\");\n",
              "//# sourceURL=js_0aa8ee8f0f"
            ]
          },
          "metadata": {}
        },
        {
          "output_type": "display_data",
          "data": {
            "text/plain": [
              "<IPython.core.display.Javascript object>"
            ],
            "application/javascript": [
              "window[\"e1aceafa-a282-11ec-9d07-0242ac1c0002\"] = google.colab.output.setActiveOutputArea(window[\"e1ac02b6-a282-11ec-9d07-0242ac1c0002\"]);\n",
              "//# sourceURL=js_4415f2d7b1"
            ]
          },
          "metadata": {}
        },
        {
          "output_type": "display_data",
          "data": {
            "text/plain": [
              "<IPython.core.display.HTML object>"
            ],
            "text/html": [
              "<style>\n",
              "       table#id192, #id192 > tbody > tr > th, #id192 > tbody > tr > td {\n",
              "         border: 1px solid lightgray;\n",
              "         border-collapse:collapse;\n",
              "         \n",
              "        }</style>"
            ]
          },
          "metadata": {}
        },
        {
          "output_type": "display_data",
          "data": {
            "text/plain": [
              "<IPython.core.display.HTML object>"
            ],
            "text/html": [
              "<table id=id192><tr><td id=id192-0-0></td></tr><tr><td id=id192-1-0></td></tr><tr><td id=id192-2-0></td></tr><tr><td id=id192-3-0></td></tr><tr><td id=id192-4-0></td></tr><tr><td id=id192-5-0></td></tr></table>"
            ]
          },
          "metadata": {}
        },
        {
          "output_type": "display_data",
          "data": {
            "text/plain": [
              "<IPython.core.display.Javascript object>"
            ],
            "application/javascript": [
              "window[\"e1b3de3c-a282-11ec-9d07-0242ac1c0002\"] = google.colab.output.getActiveOutputArea();\n",
              "//# sourceURL=js_e3fa57198f"
            ]
          },
          "metadata": {}
        },
        {
          "output_type": "display_data",
          "data": {
            "text/plain": [
              "<IPython.core.display.Javascript object>"
            ],
            "application/javascript": [
              "window[\"e1b44016-a282-11ec-9d07-0242ac1c0002\"] = document.querySelector(\"#id192-0-0\");\n",
              "//# sourceURL=js_96aa2e0a4e"
            ]
          },
          "metadata": {}
        },
        {
          "output_type": "display_data",
          "data": {
            "text/plain": [
              "<IPython.core.display.Javascript object>"
            ],
            "application/javascript": [
              "window[\"e1b49ec6-a282-11ec-9d07-0242ac1c0002\"] = google.colab.output.setActiveOutputArea(window[\"e1b44016-a282-11ec-9d07-0242ac1c0002\"]);\n",
              "//# sourceURL=js_598d56ee28"
            ]
          },
          "metadata": {}
        },
        {
          "output_type": "display_data",
          "data": {
            "text/plain": [
              "VBox(children=(HTML(value='<p style=font-family:Arial><b>Caminho do seu conjunto de dados<b/> <a target=\"_blan…"
            ],
            "application/vnd.jupyter.widget-view+json": {
              "version_major": 2,
              "version_minor": 0,
              "model_id": "2cddae08b6424be481bc3de2d64a8101"
            }
          },
          "metadata": {}
        },
        {
          "output_type": "display_data",
          "data": {
            "text/plain": [
              "<IPython.core.display.Javascript object>"
            ],
            "application/javascript": [
              "window[\"e1c2c352-a282-11ec-9d07-0242ac1c0002\"] = google.colab.output.setActiveOutputArea(window[\"e1b3de3c-a282-11ec-9d07-0242ac1c0002\"]);\n",
              "//# sourceURL=js_b355c226c6"
            ]
          },
          "metadata": {}
        },
        {
          "output_type": "display_data",
          "data": {
            "text/plain": [
              "<IPython.core.display.Javascript object>"
            ],
            "application/javascript": [
              "window[\"e1c56c88-a282-11ec-9d07-0242ac1c0002\"] = google.colab.output.setActiveOutputArea(window[\"e1ab682e-a282-11ec-9d07-0242ac1c0002\"]);\n",
              "//# sourceURL=js_fdecc81e60"
            ]
          },
          "metadata": {}
        },
        {
          "output_type": "display_data",
          "data": {
            "text/plain": [
              "<IPython.core.display.Javascript object>"
            ],
            "application/javascript": [
              "window[\"e1c832ec-a282-11ec-9d07-0242ac1c0002\"] = google.colab.output.getActiveOutputArea();\n",
              "//# sourceURL=js_9e8ac14cb0"
            ]
          },
          "metadata": {}
        },
        {
          "output_type": "display_data",
          "data": {
            "text/plain": [
              "<IPython.core.display.Javascript object>"
            ],
            "application/javascript": [
              "window[\"e1c8987c-a282-11ec-9d07-0242ac1c0002\"] = document.querySelector(\"#id192-2-0\");\n",
              "//# sourceURL=js_3e779806c1"
            ]
          },
          "metadata": {}
        },
        {
          "output_type": "display_data",
          "data": {
            "text/plain": [
              "<IPython.core.display.Javascript object>"
            ],
            "application/javascript": [
              "window[\"e1c8f448-a282-11ec-9d07-0242ac1c0002\"] = google.colab.output.setActiveOutputArea(window[\"e1c8987c-a282-11ec-9d07-0242ac1c0002\"]);\n",
              "//# sourceURL=js_d2b49fd79b"
            ]
          },
          "metadata": {}
        },
        {
          "output_type": "display_data",
          "data": {
            "text/plain": [
              "VBox(children=(Label(value='Visualizar informações do conjunto de dados'), Box(children=(Button(description='V…"
            ],
            "application/vnd.jupyter.widget-view+json": {
              "version_major": 2,
              "version_minor": 0,
              "model_id": "7d8c61af0e6e44d38229418dadb35b3e"
            }
          },
          "metadata": {}
        },
        {
          "output_type": "display_data",
          "data": {
            "text/plain": [
              "<IPython.core.display.Javascript object>"
            ],
            "application/javascript": [
              "window[\"e1d15444-a282-11ec-9d07-0242ac1c0002\"] = google.colab.output.setActiveOutputArea(window[\"e1c832ec-a282-11ec-9d07-0242ac1c0002\"]);\n",
              "//# sourceURL=js_999b3f2f54"
            ]
          },
          "metadata": {}
        },
        {
          "output_type": "display_data",
          "data": {
            "text/plain": [
              "<IPython.core.display.Javascript object>"
            ],
            "application/javascript": [
              "window[\"e1d4c52a-a282-11ec-9d07-0242ac1c0002\"] = google.colab.output.getActiveOutputArea();\n",
              "//# sourceURL=js_0222c8cf03"
            ]
          },
          "metadata": {}
        },
        {
          "output_type": "display_data",
          "data": {
            "text/plain": [
              "<IPython.core.display.Javascript object>"
            ],
            "application/javascript": [
              "window[\"e1d54ff4-a282-11ec-9d07-0242ac1c0002\"] = document.querySelector(\"#id192-4-0\");\n",
              "//# sourceURL=js_b529c1cb7d"
            ]
          },
          "metadata": {}
        },
        {
          "output_type": "display_data",
          "data": {
            "text/plain": [
              "<IPython.core.display.Javascript object>"
            ],
            "application/javascript": [
              "window[\"e1d5d96a-a282-11ec-9d07-0242ac1c0002\"] = google.colab.output.setActiveOutputArea(window[\"e1d54ff4-a282-11ec-9d07-0242ac1c0002\"]);\n",
              "//# sourceURL=js_ef5754e59f"
            ]
          },
          "metadata": {}
        },
        {
          "output_type": "display_data",
          "data": {
            "text/plain": [
              "VBox(children=(Label(value='Visualizar conjunto de dados'), Box(children=(Button(description='Ver exemplos do …"
            ],
            "application/vnd.jupyter.widget-view+json": {
              "version_major": 2,
              "version_minor": 0,
              "model_id": "2c179568d533473184640fc3fa0eeb65"
            }
          },
          "metadata": {}
        },
        {
          "output_type": "display_data",
          "data": {
            "text/plain": [
              "<IPython.core.display.Javascript object>"
            ],
            "application/javascript": [
              "window[\"e1e1043e-a282-11ec-9d07-0242ac1c0002\"] = google.colab.output.setActiveOutputArea(window[\"e1d4c52a-a282-11ec-9d07-0242ac1c0002\"]);\n",
              "//# sourceURL=js_cc143b68fc"
            ]
          },
          "metadata": {}
        },
        {
          "output_type": "display_data",
          "data": {
            "text/plain": [
              "<IPython.core.display.Javascript object>"
            ],
            "application/javascript": [
              "window[\"e1e4896a-a282-11ec-9d07-0242ac1c0002\"] = google.colab.output.getActiveOutputArea();\n",
              "//# sourceURL=js_66c85d584f"
            ]
          },
          "metadata": {}
        },
        {
          "output_type": "display_data",
          "data": {
            "text/plain": [
              "<IPython.core.display.Javascript object>"
            ],
            "application/javascript": [
              "window[\"e1e4fae4-a282-11ec-9d07-0242ac1c0002\"] = document.querySelector(\"#id188_content_2\");\n",
              "//# sourceURL=js_8c2b3d0a6c"
            ]
          },
          "metadata": {}
        },
        {
          "output_type": "display_data",
          "data": {
            "text/plain": [
              "<IPython.core.display.Javascript object>"
            ],
            "application/javascript": [
              "window[\"e1e58b94-a282-11ec-9d07-0242ac1c0002\"] = google.colab.output.setActiveOutputArea(window[\"e1e4fae4-a282-11ec-9d07-0242ac1c0002\"]);\n",
              "//# sourceURL=js_45d3e51a29"
            ]
          },
          "metadata": {}
        },
        {
          "output_type": "display_data",
          "data": {
            "text/plain": [
              "<IPython.core.display.HTML object>"
            ],
            "text/html": [
              "<style>\n",
              "       table#id194, #id194 > tbody > tr > th, #id194 > tbody > tr > td {\n",
              "         border: 1px solid lightgray;\n",
              "         border-collapse:collapse;\n",
              "         \n",
              "        }</style>"
            ]
          },
          "metadata": {}
        },
        {
          "output_type": "display_data",
          "data": {
            "text/plain": [
              "<IPython.core.display.HTML object>"
            ],
            "text/html": [
              "<table id=id194><tr><td id=id194-0-0></td></tr><tr><td id=id194-1-0></td></tr></table>"
            ]
          },
          "metadata": {}
        },
        {
          "output_type": "display_data",
          "data": {
            "text/plain": [
              "<IPython.core.display.Javascript object>"
            ],
            "application/javascript": [
              "window[\"e1eb4ce6-a282-11ec-9d07-0242ac1c0002\"] = google.colab.output.getActiveOutputArea();\n",
              "//# sourceURL=js_7498c42692"
            ]
          },
          "metadata": {}
        },
        {
          "output_type": "display_data",
          "data": {
            "text/plain": [
              "<IPython.core.display.Javascript object>"
            ],
            "application/javascript": [
              "window[\"e1ebba82-a282-11ec-9d07-0242ac1c0002\"] = document.querySelector(\"#id194-0-0\");\n",
              "//# sourceURL=js_e5d0afd452"
            ]
          },
          "metadata": {}
        },
        {
          "output_type": "display_data",
          "data": {
            "text/plain": [
              "<IPython.core.display.Javascript object>"
            ],
            "application/javascript": [
              "window[\"e1ec375a-a282-11ec-9d07-0242ac1c0002\"] = google.colab.output.setActiveOutputArea(window[\"e1ebba82-a282-11ec-9d07-0242ac1c0002\"]);\n",
              "//# sourceURL=js_4316eed11c"
            ]
          },
          "metadata": {}
        },
        {
          "output_type": "display_data",
          "data": {
            "text/plain": [
              "VBox(children=(HTML(value='<p style=font-family:Arial><b>Treinamento do modelo<b/> <a target=\"_blank\" href=htt…"
            ],
            "application/vnd.jupyter.widget-view+json": {
              "version_major": 2,
              "version_minor": 0,
              "model_id": "a648a0cc43b34b87a032174e26cd452d"
            }
          },
          "metadata": {}
        },
        {
          "output_type": "display_data",
          "data": {
            "text/plain": [
              "<IPython.core.display.Javascript object>"
            ],
            "application/javascript": [
              "window[\"e2028bf4-a282-11ec-9d07-0242ac1c0002\"] = google.colab.output.setActiveOutputArea(window[\"e1eb4ce6-a282-11ec-9d07-0242ac1c0002\"]);\n",
              "//# sourceURL=js_3181496190"
            ]
          },
          "metadata": {}
        },
        {
          "output_type": "display_data",
          "data": {
            "text/plain": [
              "<IPython.core.display.Javascript object>"
            ],
            "application/javascript": [
              "window[\"e205e07e-a282-11ec-9d07-0242ac1c0002\"] = google.colab.output.setActiveOutputArea(window[\"e1e4896a-a282-11ec-9d07-0242ac1c0002\"]);\n",
              "//# sourceURL=js_761347dedb"
            ]
          },
          "metadata": {}
        },
        {
          "output_type": "display_data",
          "data": {
            "text/plain": [
              "<IPython.core.display.Javascript object>"
            ],
            "application/javascript": [
              "window[\"e20a348a-a282-11ec-9d07-0242ac1c0002\"] = google.colab.output.getActiveOutputArea();\n",
              "//# sourceURL=js_385b3129ae"
            ]
          },
          "metadata": {}
        },
        {
          "output_type": "display_data",
          "data": {
            "text/plain": [
              "<IPython.core.display.Javascript object>"
            ],
            "application/javascript": [
              "window[\"e20a95b0-a282-11ec-9d07-0242ac1c0002\"] = document.querySelector(\"#id188_content_3\");\n",
              "//# sourceURL=js_24b011fb9d"
            ]
          },
          "metadata": {}
        },
        {
          "output_type": "display_data",
          "data": {
            "text/plain": [
              "<IPython.core.display.Javascript object>"
            ],
            "application/javascript": [
              "window[\"e20b160c-a282-11ec-9d07-0242ac1c0002\"] = google.colab.output.setActiveOutputArea(window[\"e20a95b0-a282-11ec-9d07-0242ac1c0002\"]);\n",
              "//# sourceURL=js_f66505c8b0"
            ]
          },
          "metadata": {}
        },
        {
          "output_type": "display_data",
          "data": {
            "text/plain": [
              "<IPython.core.display.HTML object>"
            ],
            "text/html": [
              "<style>\n",
              "       table#id196, #id196 > tbody > tr > th, #id196 > tbody > tr > td {\n",
              "         border: 1px solid lightgray;\n",
              "         border-collapse:collapse;\n",
              "         \n",
              "        }</style>"
            ]
          },
          "metadata": {}
        },
        {
          "output_type": "display_data",
          "data": {
            "text/plain": [
              "<IPython.core.display.HTML object>"
            ],
            "text/html": [
              "<table id=id196><tr><td id=id196-0-0></td></tr><tr><td id=id196-1-0></td></tr><tr><td id=id196-2-0></td></tr><tr><td id=id196-3-0></td></tr><tr><td id=id196-4-0></td></tr><tr><td id=id196-5-0></td></tr><tr><td id=id196-6-0></td></tr><tr><td id=id196-7-0></td></tr></table>"
            ]
          },
          "metadata": {}
        },
        {
          "output_type": "display_data",
          "data": {
            "text/plain": [
              "<IPython.core.display.Javascript object>"
            ],
            "application/javascript": [
              "window[\"e2108290-a282-11ec-9d07-0242ac1c0002\"] = google.colab.output.getActiveOutputArea();\n",
              "//# sourceURL=js_161d52eb5d"
            ]
          },
          "metadata": {}
        },
        {
          "output_type": "display_data",
          "data": {
            "text/plain": [
              "<IPython.core.display.Javascript object>"
            ],
            "application/javascript": [
              "window[\"e210ff7c-a282-11ec-9d07-0242ac1c0002\"] = document.querySelector(\"#id196-0-0\");\n",
              "//# sourceURL=js_a3b0289b6b"
            ]
          },
          "metadata": {}
        },
        {
          "output_type": "display_data",
          "data": {
            "text/plain": [
              "<IPython.core.display.Javascript object>"
            ],
            "application/javascript": [
              "window[\"e21163ea-a282-11ec-9d07-0242ac1c0002\"] = google.colab.output.setActiveOutputArea(window[\"e210ff7c-a282-11ec-9d07-0242ac1c0002\"]);\n",
              "//# sourceURL=js_9d9f9b8921"
            ]
          },
          "metadata": {}
        },
        {
          "output_type": "display_data",
          "data": {
            "text/plain": [
              "VBox(children=(Label(value='Avaliação do treinamento'), HBox(children=(Button(description='Mostrar', layout=La…"
            ],
            "application/vnd.jupyter.widget-view+json": {
              "version_major": 2,
              "version_minor": 0,
              "model_id": "3d86baa509aa499eab2fc76345a19afe"
            }
          },
          "metadata": {}
        },
        {
          "output_type": "display_data",
          "data": {
            "text/plain": [
              "<IPython.core.display.Javascript object>"
            ],
            "application/javascript": [
              "window[\"e21c1d4e-a282-11ec-9d07-0242ac1c0002\"] = google.colab.output.setActiveOutputArea(window[\"e2108290-a282-11ec-9d07-0242ac1c0002\"]);\n",
              "//# sourceURL=js_692eb36b7b"
            ]
          },
          "metadata": {}
        },
        {
          "output_type": "display_data",
          "data": {
            "text/plain": [
              "<IPython.core.display.Javascript object>"
            ],
            "application/javascript": [
              "window[\"e22106a6-a282-11ec-9d07-0242ac1c0002\"] = google.colab.output.getActiveOutputArea();\n",
              "//# sourceURL=js_2c48499611"
            ]
          },
          "metadata": {}
        },
        {
          "output_type": "display_data",
          "data": {
            "text/plain": [
              "<IPython.core.display.Javascript object>"
            ],
            "application/javascript": [
              "window[\"e221db80-a282-11ec-9d07-0242ac1c0002\"] = document.querySelector(\"#id196-2-0\");\n",
              "//# sourceURL=js_10cb215705"
            ]
          },
          "metadata": {}
        },
        {
          "output_type": "display_data",
          "data": {
            "text/plain": [
              "<IPython.core.display.Javascript object>"
            ],
            "application/javascript": [
              "window[\"e2228d3c-a282-11ec-9d07-0242ac1c0002\"] = google.colab.output.setActiveOutputArea(window[\"e221db80-a282-11ec-9d07-0242ac1c0002\"]);\n",
              "//# sourceURL=js_4bc2a67c3f"
            ]
          },
          "metadata": {}
        },
        {
          "output_type": "display_data",
          "data": {
            "text/plain": [
              "VBox(children=(Label(value='Avaliação do desempenho'), HBox(children=(Button(description='Mostrar', layout=Lay…"
            ],
            "application/vnd.jupyter.widget-view+json": {
              "version_major": 2,
              "version_minor": 0,
              "model_id": "85eed3f631de48eda76c65c7e1788ac0"
            }
          },
          "metadata": {}
        },
        {
          "output_type": "display_data",
          "data": {
            "text/plain": [
              "<IPython.core.display.Javascript object>"
            ],
            "application/javascript": [
              "window[\"e22d11a8-a282-11ec-9d07-0242ac1c0002\"] = google.colab.output.setActiveOutputArea(window[\"e22106a6-a282-11ec-9d07-0242ac1c0002\"]);\n",
              "//# sourceURL=js_e03bb2f460"
            ]
          },
          "metadata": {}
        },
        {
          "output_type": "display_data",
          "data": {
            "text/plain": [
              "<IPython.core.display.Javascript object>"
            ],
            "application/javascript": [
              "window[\"e22fa314-a282-11ec-9d07-0242ac1c0002\"] = google.colab.output.getActiveOutputArea();\n",
              "//# sourceURL=js_c1017aac15"
            ]
          },
          "metadata": {}
        },
        {
          "output_type": "display_data",
          "data": {
            "text/plain": [
              "<IPython.core.display.Javascript object>"
            ],
            "application/javascript": [
              "window[\"e2300ec6-a282-11ec-9d07-0242ac1c0002\"] = document.querySelector(\"#id196-4-0\");\n",
              "//# sourceURL=js_2ce828a232"
            ]
          },
          "metadata": {}
        },
        {
          "output_type": "display_data",
          "data": {
            "text/plain": [
              "<IPython.core.display.Javascript object>"
            ],
            "application/javascript": [
              "window[\"e23061dc-a282-11ec-9d07-0242ac1c0002\"] = google.colab.output.setActiveOutputArea(window[\"e2300ec6-a282-11ec-9d07-0242ac1c0002\"]);\n",
              "//# sourceURL=js_d36e9af29c"
            ]
          },
          "metadata": {}
        },
        {
          "output_type": "display_data",
          "data": {
            "text/plain": [
              "VBox(children=(Label(value='Curva do F1 Score'), HBox(children=(Button(description='Mostrar', layout=Layout(wi…"
            ],
            "application/vnd.jupyter.widget-view+json": {
              "version_major": 2,
              "version_minor": 0,
              "model_id": "51061f01b2954495a26ab90faf1d0ffd"
            }
          },
          "metadata": {}
        },
        {
          "output_type": "display_data",
          "data": {
            "text/plain": [
              "<IPython.core.display.Javascript object>"
            ],
            "application/javascript": [
              "window[\"e23a9ad0-a282-11ec-9d07-0242ac1c0002\"] = google.colab.output.setActiveOutputArea(window[\"e22fa314-a282-11ec-9d07-0242ac1c0002\"]);\n",
              "//# sourceURL=js_75d420aaf6"
            ]
          },
          "metadata": {}
        },
        {
          "output_type": "display_data",
          "data": {
            "text/plain": [
              "<IPython.core.display.Javascript object>"
            ],
            "application/javascript": [
              "window[\"e23de9ec-a282-11ec-9d07-0242ac1c0002\"] = google.colab.output.getActiveOutputArea();\n",
              "//# sourceURL=js_7a9d480a88"
            ]
          },
          "metadata": {}
        },
        {
          "output_type": "display_data",
          "data": {
            "text/plain": [
              "<IPython.core.display.Javascript object>"
            ],
            "application/javascript": [
              "window[\"e23e42f2-a282-11ec-9d07-0242ac1c0002\"] = document.querySelector(\"#id196-6-0\");\n",
              "//# sourceURL=js_2c6ee1dca8"
            ]
          },
          "metadata": {}
        },
        {
          "output_type": "display_data",
          "data": {
            "text/plain": [
              "<IPython.core.display.Javascript object>"
            ],
            "application/javascript": [
              "window[\"e23eb0c0-a282-11ec-9d07-0242ac1c0002\"] = google.colab.output.setActiveOutputArea(window[\"e23e42f2-a282-11ec-9d07-0242ac1c0002\"]);\n",
              "//# sourceURL=js_0a2676bd07"
            ]
          },
          "metadata": {}
        },
        {
          "output_type": "display_data",
          "data": {
            "text/plain": [
              "VBox(children=(Label(value='Matriz de Confusão'), HBox(children=(Button(description='Mostrar', layout=Layout(w…"
            ],
            "application/vnd.jupyter.widget-view+json": {
              "version_major": 2,
              "version_minor": 0,
              "model_id": "705ba0e94ab84da5b49453c0fa907158"
            }
          },
          "metadata": {}
        },
        {
          "output_type": "display_data",
          "data": {
            "text/plain": [
              "<IPython.core.display.Javascript object>"
            ],
            "application/javascript": [
              "window[\"e248d0be-a282-11ec-9d07-0242ac1c0002\"] = google.colab.output.setActiveOutputArea(window[\"e23de9ec-a282-11ec-9d07-0242ac1c0002\"]);\n",
              "//# sourceURL=js_b4e0b8f38f"
            ]
          },
          "metadata": {}
        },
        {
          "output_type": "display_data",
          "data": {
            "text/plain": [
              "<IPython.core.display.Javascript object>"
            ],
            "application/javascript": [
              "window[\"e24b7a80-a282-11ec-9d07-0242ac1c0002\"] = google.colab.output.setActiveOutputArea(window[\"e20a348a-a282-11ec-9d07-0242ac1c0002\"]);\n",
              "//# sourceURL=js_1ce8334f2b"
            ]
          },
          "metadata": {}
        },
        {
          "output_type": "display_data",
          "data": {
            "text/plain": [
              "<IPython.core.display.Javascript object>"
            ],
            "application/javascript": [
              "window[\"e24e1560-a282-11ec-9d07-0242ac1c0002\"] = google.colab.output.getActiveOutputArea();\n",
              "//# sourceURL=js_386644027e"
            ]
          },
          "metadata": {}
        },
        {
          "output_type": "display_data",
          "data": {
            "text/plain": [
              "<IPython.core.display.Javascript object>"
            ],
            "application/javascript": [
              "window[\"e24e863a-a282-11ec-9d07-0242ac1c0002\"] = document.querySelector(\"#id188_content_4\");\n",
              "//# sourceURL=js_ac360677b6"
            ]
          },
          "metadata": {}
        },
        {
          "output_type": "display_data",
          "data": {
            "text/plain": [
              "<IPython.core.display.Javascript object>"
            ],
            "application/javascript": [
              "window[\"e24eedd2-a282-11ec-9d07-0242ac1c0002\"] = google.colab.output.setActiveOutputArea(window[\"e24e863a-a282-11ec-9d07-0242ac1c0002\"]);\n",
              "//# sourceURL=js_1d993b9c31"
            ]
          },
          "metadata": {}
        },
        {
          "output_type": "display_data",
          "data": {
            "text/plain": [
              "<IPython.core.display.HTML object>"
            ],
            "text/html": [
              "<style>\n",
              "       table#id198, #id198 > tbody > tr > th, #id198 > tbody > tr > td {\n",
              "         border: 1px solid lightgray;\n",
              "         border-collapse:collapse;\n",
              "         \n",
              "        }</style>"
            ]
          },
          "metadata": {}
        },
        {
          "output_type": "display_data",
          "data": {
            "text/plain": [
              "<IPython.core.display.HTML object>"
            ],
            "text/html": [
              "<table id=id198><tr><td id=id198-0-0></td></tr><tr><td id=id198-1-0></td></tr><tr><td id=id198-2-0></td></tr><tr><td id=id198-3-0></td></tr><tr><td id=id198-4-0></td></tr></table>"
            ]
          },
          "metadata": {}
        },
        {
          "output_type": "display_data",
          "data": {
            "text/plain": [
              "<IPython.core.display.Javascript object>"
            ],
            "application/javascript": [
              "window[\"e255add4-a282-11ec-9d07-0242ac1c0002\"] = google.colab.output.getActiveOutputArea();\n",
              "//# sourceURL=js_883bd2a365"
            ]
          },
          "metadata": {}
        },
        {
          "output_type": "display_data",
          "data": {
            "text/plain": [
              "<IPython.core.display.Javascript object>"
            ],
            "application/javascript": [
              "window[\"e256354c-a282-11ec-9d07-0242ac1c0002\"] = document.querySelector(\"#id198-0-0\");\n",
              "//# sourceURL=js_e856508063"
            ]
          },
          "metadata": {}
        },
        {
          "output_type": "display_data",
          "data": {
            "text/plain": [
              "<IPython.core.display.Javascript object>"
            ],
            "application/javascript": [
              "window[\"e256b49a-a282-11ec-9d07-0242ac1c0002\"] = google.colab.output.setActiveOutputArea(window[\"e256354c-a282-11ec-9d07-0242ac1c0002\"]);\n",
              "//# sourceURL=js_c301c8544d"
            ]
          },
          "metadata": {}
        },
        {
          "output_type": "display_data",
          "data": {
            "text/plain": [
              "VBox(children=(HTML(value='<p style=font-family:Arial><b>Taxa de Confiança<b/> <a target=\"_blank\" href=https:/…"
            ],
            "application/vnd.jupyter.widget-view+json": {
              "version_major": 2,
              "version_minor": 0,
              "model_id": "57edb893e4a548328d59958ddc22aae7"
            }
          },
          "metadata": {}
        },
        {
          "output_type": "display_data",
          "data": {
            "text/plain": [
              "<IPython.core.display.Javascript object>"
            ],
            "application/javascript": [
              "window[\"e25f28a0-a282-11ec-9d07-0242ac1c0002\"] = google.colab.output.setActiveOutputArea(window[\"e255add4-a282-11ec-9d07-0242ac1c0002\"]);\n",
              "//# sourceURL=js_ac170bd547"
            ]
          },
          "metadata": {}
        },
        {
          "output_type": "display_data",
          "data": {
            "text/plain": [
              "<IPython.core.display.Javascript object>"
            ],
            "application/javascript": [
              "window[\"e262d63a-a282-11ec-9d07-0242ac1c0002\"] = google.colab.output.getActiveOutputArea();\n",
              "//# sourceURL=js_68763da08d"
            ]
          },
          "metadata": {}
        },
        {
          "output_type": "display_data",
          "data": {
            "text/plain": [
              "<IPython.core.display.Javascript object>"
            ],
            "application/javascript": [
              "window[\"e2634084-a282-11ec-9d07-0242ac1c0002\"] = document.querySelector(\"#id198-1-0\");\n",
              "//# sourceURL=js_6d0bcf7ab7"
            ]
          },
          "metadata": {}
        },
        {
          "output_type": "display_data",
          "data": {
            "text/plain": [
              "<IPython.core.display.Javascript object>"
            ],
            "application/javascript": [
              "window[\"e263b9d8-a282-11ec-9d07-0242ac1c0002\"] = google.colab.output.setActiveOutputArea(window[\"e2634084-a282-11ec-9d07-0242ac1c0002\"]);\n",
              "//# sourceURL=js_6d8d77796e"
            ]
          },
          "metadata": {}
        },
        {
          "output_type": "display_data",
          "data": {
            "text/plain": [
              "VBox(children=(Label(value='Predição do test set (parte do seu conjunto de dados)'), HBox(children=(Button(des…"
            ],
            "application/vnd.jupyter.widget-view+json": {
              "version_major": 2,
              "version_minor": 0,
              "model_id": "a0e0ffbd33e64a2a894f53b894f8107a"
            }
          },
          "metadata": {}
        },
        {
          "output_type": "display_data",
          "data": {
            "text/plain": [
              "<IPython.core.display.Javascript object>"
            ],
            "application/javascript": [
              "window[\"e26f1350-a282-11ec-9d07-0242ac1c0002\"] = google.colab.output.setActiveOutputArea(window[\"e262d63a-a282-11ec-9d07-0242ac1c0002\"]);\n",
              "//# sourceURL=js_42fe883dc2"
            ]
          },
          "metadata": {}
        },
        {
          "output_type": "display_data",
          "data": {
            "text/plain": [
              "<IPython.core.display.Javascript object>"
            ],
            "application/javascript": [
              "window[\"e2723ecc-a282-11ec-9d07-0242ac1c0002\"] = google.colab.output.getActiveOutputArea();\n",
              "//# sourceURL=js_4938ad9b93"
            ]
          },
          "metadata": {}
        },
        {
          "output_type": "display_data",
          "data": {
            "text/plain": [
              "<IPython.core.display.Javascript object>"
            ],
            "application/javascript": [
              "window[\"e2729cf0-a282-11ec-9d07-0242ac1c0002\"] = document.querySelector(\"#id198-3-0\");\n",
              "//# sourceURL=js_bc5f5b7295"
            ]
          },
          "metadata": {}
        },
        {
          "output_type": "display_data",
          "data": {
            "text/plain": [
              "<IPython.core.display.Javascript object>"
            ],
            "application/javascript": [
              "window[\"e272ffd8-a282-11ec-9d07-0242ac1c0002\"] = google.colab.output.setActiveOutputArea(window[\"e2729cf0-a282-11ec-9d07-0242ac1c0002\"]);\n",
              "//# sourceURL=js_06f000b993"
            ]
          },
          "metadata": {}
        },
        {
          "output_type": "display_data",
          "data": {
            "text/plain": [
              "VBox(children=(Label(value='Predição pelo upload de uma imagem'), HBox(children=(FileUpload(value={}, descript…"
            ],
            "application/vnd.jupyter.widget-view+json": {
              "version_major": 2,
              "version_minor": 0,
              "model_id": "62c332e75aeb426b97dbcbd6c412a1c8"
            }
          },
          "metadata": {}
        },
        {
          "output_type": "display_data",
          "data": {
            "text/plain": [
              "<IPython.core.display.Javascript object>"
            ],
            "application/javascript": [
              "window[\"e283a7ca-a282-11ec-9d07-0242ac1c0002\"] = google.colab.output.setActiveOutputArea(window[\"e2723ecc-a282-11ec-9d07-0242ac1c0002\"]);\n",
              "//# sourceURL=js_a54cf36535"
            ]
          },
          "metadata": {}
        },
        {
          "output_type": "display_data",
          "data": {
            "text/plain": [
              "<IPython.core.display.Javascript object>"
            ],
            "application/javascript": [
              "window[\"e285bb32-a282-11ec-9d07-0242ac1c0002\"] = google.colab.output.setActiveOutputArea(window[\"e24e1560-a282-11ec-9d07-0242ac1c0002\"]);\n",
              "//# sourceURL=js_674bfe62ea"
            ]
          },
          "metadata": {}
        },
        {
          "output_type": "display_data",
          "data": {
            "text/plain": [
              "<IPython.core.display.Javascript object>"
            ],
            "application/javascript": [
              "window[\"e287fd02-a282-11ec-9d07-0242ac1c0002\"] = google.colab.output.getActiveOutputArea();\n",
              "//# sourceURL=js_9103461b12"
            ]
          },
          "metadata": {}
        },
        {
          "output_type": "display_data",
          "data": {
            "text/plain": [
              "<IPython.core.display.Javascript object>"
            ],
            "application/javascript": [
              "window[\"e2886526-a282-11ec-9d07-0242ac1c0002\"] = document.querySelector(\"#id188_content_5\");\n",
              "//# sourceURL=js_89ddad20af"
            ]
          },
          "metadata": {}
        },
        {
          "output_type": "display_data",
          "data": {
            "text/plain": [
              "<IPython.core.display.Javascript object>"
            ],
            "application/javascript": [
              "window[\"e288da42-a282-11ec-9d07-0242ac1c0002\"] = google.colab.output.setActiveOutputArea(window[\"e2886526-a282-11ec-9d07-0242ac1c0002\"]);\n",
              "//# sourceURL=js_4ff102ac2b"
            ]
          },
          "metadata": {}
        },
        {
          "output_type": "display_data",
          "data": {
            "text/plain": [
              "<IPython.core.display.HTML object>"
            ],
            "text/html": [
              "<style>\n",
              "       table#id200, #id200 > tbody > tr > th, #id200 > tbody > tr > td {\n",
              "         border: 1px solid lightgray;\n",
              "         border-collapse:collapse;\n",
              "         \n",
              "        }</style>"
            ]
          },
          "metadata": {}
        },
        {
          "output_type": "display_data",
          "data": {
            "text/plain": [
              "<IPython.core.display.HTML object>"
            ],
            "text/html": [
              "<table id=id200><tr><td id=id200-0-0></td></tr><tr><td id=id200-1-0></td></tr><tr><td id=id200-2-0></td></tr></table>"
            ]
          },
          "metadata": {}
        },
        {
          "output_type": "display_data",
          "data": {
            "text/plain": [
              "<IPython.core.display.Javascript object>"
            ],
            "application/javascript": [
              "window[\"e28d211a-a282-11ec-9d07-0242ac1c0002\"] = google.colab.output.getActiveOutputArea();\n",
              "//# sourceURL=js_2ea8f569dd"
            ]
          },
          "metadata": {}
        },
        {
          "output_type": "display_data",
          "data": {
            "text/plain": [
              "<IPython.core.display.Javascript object>"
            ],
            "application/javascript": [
              "window[\"e28d8984-a282-11ec-9d07-0242ac1c0002\"] = document.querySelector(\"#id200-0-0\");\n",
              "//# sourceURL=js_71632b9d6b"
            ]
          },
          "metadata": {}
        },
        {
          "output_type": "display_data",
          "data": {
            "text/plain": [
              "<IPython.core.display.Javascript object>"
            ],
            "application/javascript": [
              "window[\"e28dfc16-a282-11ec-9d07-0242ac1c0002\"] = google.colab.output.setActiveOutputArea(window[\"e28d8984-a282-11ec-9d07-0242ac1c0002\"]);\n",
              "//# sourceURL=js_cd730c73aa"
            ]
          },
          "metadata": {}
        },
        {
          "output_type": "display_data",
          "data": {
            "text/plain": [
              "VBox(children=(HTML(value='<p style=font-family:Arial><b>Exportação do modelo<b/> <a target=\"_blank\" href=http…"
            ],
            "application/vnd.jupyter.widget-view+json": {
              "version_major": 2,
              "version_minor": 0,
              "model_id": "1d948f03e6a049d0a650d5a6f33c149c"
            }
          },
          "metadata": {}
        },
        {
          "output_type": "display_data",
          "data": {
            "text/plain": [
              "<IPython.core.display.Javascript object>"
            ],
            "application/javascript": [
              "window[\"e2a5a9e2-a282-11ec-9d07-0242ac1c0002\"] = google.colab.output.setActiveOutputArea(window[\"e28d211a-a282-11ec-9d07-0242ac1c0002\"]);\n",
              "//# sourceURL=js_8862b61662"
            ]
          },
          "metadata": {}
        },
        {
          "output_type": "display_data",
          "data": {
            "text/plain": [
              "<IPython.core.display.Javascript object>"
            ],
            "application/javascript": [
              "window[\"e2a83306-a282-11ec-9d07-0242ac1c0002\"] = google.colab.output.setActiveOutputArea(window[\"e287fd02-a282-11ec-9d07-0242ac1c0002\"]);\n",
              "//# sourceURL=js_d0da58a9c0"
            ]
          },
          "metadata": {}
        },
        {
          "output_type": "display_data",
          "data": {
            "text/plain": [
              "HTML(value='<p style=\"text-align: left;style=font-family:Arial\"><span style=\"color: #339966;\">Path: /content/g…"
            ],
            "application/vnd.jupyter.widget-view+json": {
              "version_major": 2,
              "version_minor": 0,
              "model_id": "0fa4ace572d2484d967bf3d5ba645fa6"
            }
          },
          "metadata": {}
        },
        {
          "output_type": "display_data",
          "data": {
            "text/plain": [
              "<IPython.core.display.Javascript object>"
            ],
            "application/javascript": [
              "window[\"e7715a5c-a282-11ec-9d07-0242ac1c0002\"] = google.colab.output.setActiveOutputArea(window[\"e7691ef0-a282-11ec-9d07-0242ac1c0002\"]);\n",
              "//# sourceURL=js_b4834b20cb"
            ]
          },
          "metadata": {}
        },
        {
          "output_type": "display_data",
          "data": {
            "text/plain": [
              "<IPython.core.display.Javascript object>"
            ],
            "application/javascript": [
              "window[\"e8b1d04a-a282-11ec-9d07-0242ac1c0002\"] = google.colab.output.getActiveOutputArea();\n",
              "//# sourceURL=js_be2071dddd"
            ]
          },
          "metadata": {}
        },
        {
          "output_type": "display_data",
          "data": {
            "text/plain": [
              "<IPython.core.display.Javascript object>"
            ],
            "application/javascript": [
              "window[\"e8b25330-a282-11ec-9d07-0242ac1c0002\"] = document.querySelector(\"#id192-3-0\");\n",
              "//# sourceURL=js_d272ffa967"
            ]
          },
          "metadata": {}
        },
        {
          "output_type": "display_data",
          "data": {
            "text/plain": [
              "<IPython.core.display.Javascript object>"
            ],
            "application/javascript": [
              "window[\"e8b2d6e8-a282-11ec-9d07-0242ac1c0002\"] = google.colab.output.setActiveOutputArea(window[\"e8b25330-a282-11ec-9d07-0242ac1c0002\"]);\n",
              "//# sourceURL=js_fc6926ceec"
            ]
          },
          "metadata": {}
        },
        {
          "output_type": "display_data",
          "data": {
            "text/plain": [
              "<Figure size 864x720 with 1 Axes>"
            ],
            "image/png": "[encoded data removed]"
          },
          "metadata": {
            "needs_background": "light"
          }
        },
        {
          "output_type": "display_data",
          "data": {
            "text/plain": [
              "<IPython.core.display.Javascript object>"
            ],
            "application/javascript": [
              "window[\"e8ecf31e-a282-11ec-9d07-0242ac1c0002\"] = google.colab.output.setActiveOutputArea(window[\"e8b1d04a-a282-11ec-9d07-0242ac1c0002\"]);\n",
              "//# sourceURL=js_13f87aa797"
            ]
          },
          "metadata": {}
        },
        {
          "output_type": "display_data",
          "data": {
            "text/plain": [
              "<IPython.core.display.Javascript object>"
            ],
            "application/javascript": [
              "window[\"ea89f7b2-a282-11ec-9d07-0242ac1c0002\"] = google.colab.output.getActiveOutputArea();\n",
              "//# sourceURL=js_fec73ce5aa"
            ]
          },
          "metadata": {}
        },
        {
          "output_type": "display_data",
          "data": {
            "text/plain": [
              "<IPython.core.display.Javascript object>"
            ],
            "application/javascript": [
              "window[\"ea8a863c-a282-11ec-9d07-0242ac1c0002\"] = document.querySelector(\"#id192-5-0\");\n",
              "//# sourceURL=js_7564316f1a"
            ]
          },
          "metadata": {}
        },
        {
          "output_type": "display_data",
          "data": {
            "text/plain": [
              "<IPython.core.display.Javascript object>"
            ],
            "application/javascript": [
              "window[\"ea8aed7a-a282-11ec-9d07-0242ac1c0002\"] = google.colab.output.setActiveOutputArea(window[\"ea8a863c-a282-11ec-9d07-0242ac1c0002\"]);\n",
              "//# sourceURL=js_07c63dc1f3"
            ]
          },
          "metadata": {}
        },
        {
          "output_type": "display_data",
          "data": {
            "text/plain": [
              "GridBox(children=(Image(value=b'\\xff\\xd8\\xff\\xe0\\x00\\x10JFIF\\x00\\x01\\x01\\x00\\x00\\x01\\x00\\x01\\x00\\x00\\xff\\xdb\\x…"
            ],
            "application/vnd.jupyter.widget-view+json": {
              "version_major": 2,
              "version_minor": 0,
              "model_id": "fce656fadeb147d58d84bc6f9c530225"
            }
          },
          "metadata": {}
        },
        {
          "output_type": "display_data",
          "data": {
            "text/plain": [
              "<IPython.core.display.Javascript object>"
            ],
            "application/javascript": [
              "window[\"eab35e54-a282-11ec-9d07-0242ac1c0002\"] = google.colab.output.setActiveOutputArea(window[\"ea89f7b2-a282-11ec-9d07-0242ac1c0002\"]);\n",
              "//# sourceURL=js_38cf47dd5c"
            ]
          },
          "metadata": {}
        },
        {
          "output_type": "display_data",
          "data": {
            "text/plain": [
              "<IPython.core.display.Javascript object>"
            ],
            "application/javascript": [
              "window[\"f26108fe-a282-11ec-9d07-0242ac1c0002\"] = google.colab.output.getActiveOutputArea();\n",
              "//# sourceURL=js_1fdde80c4a"
            ]
          },
          "metadata": {}
        },
        {
          "output_type": "display_data",
          "data": {
            "text/plain": [
              "<IPython.core.display.Javascript object>"
            ],
            "application/javascript": [
              "window[\"f26198f0-a282-11ec-9d07-0242ac1c0002\"] = document.querySelector(\"#id194-1-0\");\n",
              "//# sourceURL=js_b33bdf8512"
            ]
          },
          "metadata": {}
        },
        {
          "output_type": "display_data",
          "data": {
            "text/plain": [
              "<IPython.core.display.Javascript object>"
            ],
            "application/javascript": [
              "window[\"f2621398-a282-11ec-9d07-0242ac1c0002\"] = google.colab.output.setActiveOutputArea(window[\"f26198f0-a282-11ec-9d07-0242ac1c0002\"]);\n",
              "//# sourceURL=js_978c1e733d"
            ]
          },
          "metadata": {}
        },
        {
          "output_type": "stream",
          "name": "stdout",
          "text": [
            "\u001b[34m\u001b[1mtrain: \u001b[0mweights=yolov5/yolov5n.pt, cfg=, data=/content/gdrive/MyDrive/dataset-hat/data.yaml, hyp=yolov5/data/hyps/hyp.scratch-low.yaml, epochs=50, batch_size=16, imgsz=640, rect=False, resume=False, nosave=False, noval=False, noautoanchor=False, evolve=None, bucket=, cache=None, image_weights=False, device=, multi_scale=False, single_cls=False, optimizer=SGD, sync_bn=False, workers=8, project=yolov5/runs/train, name=exp, exist_ok=False, quad=False, cos_lr=False, label_smoothing=0.0, patience=100, freeze=[0], save_period=-1, local_rank=-1, entity=None, upload_dataset=False, bbox_interval=-1, artifact_alias=latest\n",
            "\u001b[34m\u001b[1mgithub: \u001b[0mup to date with https://github.com/ultralytics/yolov5 ✅\n",
            "YOLOv5 🚀 v6.1-32-gc13d4ce torch 1.10.0+cu111 CUDA:0 (Tesla K80, 11441MiB)\n",
            "\n",
            "\u001b[34m\u001b[1mhyperparameters: \u001b[0mlr0=0.01, lrf=0.01, momentum=0.937, weight_decay=0.0005, warmup_epochs=3.0, warmup_momentum=0.8, warmup_bias_lr=0.1, box=0.05, cls=0.5, cls_pw=1.0, obj=1.0, obj_pw=1.0, iou_t=0.2, anchor_t=4.0, fl_gamma=0.0, hsv_h=0.015, hsv_s=0.7, hsv_v=0.4, degrees=0.0, translate=0.1, scale=0.5, shear=0.0, perspective=0.0, flipud=0.0, fliplr=0.5, mosaic=1.0, mixup=0.0, copy_paste=0.0\n",
            "\u001b[34m\u001b[1mWeights & Biases: \u001b[0mrun 'pip install wandb' to automatically track and visualize YOLOv5 🚀 runs (RECOMMENDED)\n",
            "\u001b[34m\u001b[1mTensorBoard: \u001b[0mStart with 'tensorboard --logdir yolov5/runs/train', view at http://localhost:6006/\n",
            "Overriding model.yaml nc=80 with nc=3\n",
            "\n",
            "                 from  n    params  module                                  arguments                     \n",
            "  0                -1  1      1760  models.common.Conv                      [3, 16, 6, 2, 2]              \n",
            "  1                -1  1      4672  models.common.Conv                      [16, 32, 3, 2]                \n",
            "  2                -1  1      4800  models.common.C3                        [32, 32, 1]                   \n",
            "  3                -1  1     18560  models.common.Conv                      [32, 64, 3, 2]                \n",
            "  4                -1  2     29184  models.common.C3                        [64, 64, 2]                   \n",
            "  5                -1  1     73984  models.common.Conv                      [64, 128, 3, 2]               \n",
            "  6                -1  3    156928  models.common.C3                        [128, 128, 3]                 \n",
            "  7                -1  1    295424  models.common.Conv                      [128, 256, 3, 2]              \n",
            "  8                -1  1    296448  models.common.C3                        [256, 256, 1]                 \n",
            "  9                -1  1    164608  models.common.SPPF                      [256, 256, 5]                 \n",
            " 10                -1  1     33024  models.common.Conv                      [256, 128, 1, 1]              \n",
            " 11                -1  1         0  torch.nn.modules.upsampling.Upsample    [None, 2, 'nearest']          \n",
            " 12           [-1, 6]  1         0  models.common.Concat                    [1]                           \n",
            " 13                -1  1     90880  models.common.C3                        [256, 128, 1, False]          \n",
            " 14                -1  1      8320  models.common.Conv                      [128, 64, 1, 1]               \n",
            " 15                -1  1         0  torch.nn.modules.upsampling.Upsample    [None, 2, 'nearest']          \n",
            " 16           [-1, 4]  1         0  models.common.Concat                    [1]                           \n",
            " 17                -1  1     22912  models.common.C3                        [128, 64, 1, False]           \n",
            " 18                -1  1     36992  models.common.Conv                      [64, 64, 3, 2]                \n",
            " 19          [-1, 14]  1         0  models.common.Concat                    [1]                           \n",
            " 20                -1  1     74496  models.common.C3                        [128, 128, 1, False]          \n",
            " 21                -1  1    147712  models.common.Conv                      [128, 128, 3, 2]              \n",
            " 22          [-1, 10]  1         0  models.common.Concat                    [1]                           \n",
            " 23                -1  1    296448  models.common.C3                        [256, 256, 1, False]          \n",
            " 24      [17, 20, 23]  1     10824  models.yolo.Detect                      [3, [[10, 13, 16, 30, 33, 23], [30, 61, 62, 45, 59, 119], [116, 90, 156, 198, 373, 326]], [64, 128, 256]]\n",
            "Model Summary: 270 layers, 1767976 parameters, 1767976 gradients, 4.2 GFLOPs\n",
            "\n",
            "Transferred 343/349 items from yolov5/yolov5n.pt\n",
            "Scaled weight_decay = 0.0005\n",
            "\u001b[34m\u001b[1moptimizer:\u001b[0m SGD with parameter groups 57 weight (no decay), 60 weight, 60 bias\n",
            "\u001b[34m\u001b[1malbumentations: \u001b[0mversion 1.0.3 required by YOLOv5, but version 0.1.12 is currently installed\n",
            "\u001b[34m\u001b[1mtrain: \u001b[0mScanning '/content/gdrive/MyDrive/dataset-hat/train/labels.cache' images and labels... 70 found, 0 missing, 0 empty, 0 corrupt: 100% 70/70 [00:00<?, ?it/s]\n",
            "\u001b[34m\u001b[1mval: \u001b[0mScanning '/content/gdrive/MyDrive/dataset-hat/valid/labels.cache' images and labels... 20 found, 0 missing, 0 empty, 0 corrupt: 100% 20/20 [00:00<?, ?it/s]\n",
            "Plotting labels to yolov5/runs/train/exp/labels.jpg... \n",
            "\n",
            "\u001b[34m\u001b[1mAutoAnchor: \u001b[0m5.67 anchors/target, 1.000 Best Possible Recall (BPR). Current anchors are a good fit to dataset ✅\n",
            "Image sizes 640 train, 640 val\n",
            "Using 2 dataloader workers\n",
            "Logging results to \u001b[1myolov5/runs/train/exp\u001b[0m\n",
            "Starting training for 50 epochs...\n",
            "\n",
            "     Epoch   gpu_mem       box       obj       cls    labels  img_size\n",
            "      0/49     1.82G    0.1224   0.04749   0.04707        55       640: 100% 5/5 [00:05<00:00,  1.14s/it]\n",
            "               Class     Images     Labels          P          R     mAP@.5 mAP@.5:.95: 100% 1/1 [00:01<00:00,  1.06s/it]\n",
            "                 all         20         65   0.000468     0.0333    0.00022   2.92e-05\n",
            "\n",
            "     Epoch   gpu_mem       box       obj       cls    labels  img_size\n",
            "      1/49     1.82G    0.1199   0.04331   0.04673        48       640: 100% 5/5 [00:02<00:00,  1.85it/s]\n",
            "               Class     Images     Labels          P          R     mAP@.5 mAP@.5:.95: 100% 1/1 [00:01<00:00,  1.02s/it]\n",
            "                 all         20         65   0.000363     0.0148   0.000143   2.11e-05\n",
            "\n",
            "     Epoch   gpu_mem       box       obj       cls    labels  img_size\n",
            "      2/49     1.82G    0.1139   0.04426   0.04351        32       640: 100% 5/5 [00:02<00:00,  1.75it/s]\n",
            "               Class     Images     Labels          P          R     mAP@.5 mAP@.5:.95: 100% 1/1 [00:00<00:00,  1.02it/s]\n",
            "                 all         20         65   0.000744      0.189   0.000481   6.09e-05\n",
            "\n",
            "     Epoch   gpu_mem       box       obj       cls    labels  img_size\n",
            "      3/49     1.82G    0.1078   0.04437   0.03866        16       640: 100% 5/5 [00:02<00:00,  1.84it/s]\n",
            "               Class     Images     Labels          P          R     mAP@.5 mAP@.5:.95: 100% 1/1 [00:00<00:00,  1.10it/s]\n",
            "                 all         20         65    0.00165     0.0148   0.000393   7.76e-05\n",
            "\n",
            "     Epoch   gpu_mem       box       obj       cls    labels  img_size\n",
            "      4/49     1.82G    0.1047   0.03917   0.03647        30       640: 100% 5/5 [00:02<00:00,  1.80it/s]\n",
            "               Class     Images     Labels          P          R     mAP@.5 mAP@.5:.95: 100% 1/1 [00:00<00:00,  1.32it/s]\n",
            "                 all         20         65    0.00501    0.00741    0.00241   0.000417\n",
            "\n",
            "     Epoch   gpu_mem       box       obj       cls    labels  img_size\n",
            "      5/49     1.82G   0.09711   0.05597    0.0336        59       640: 100% 5/5 [00:02<00:00,  1.91it/s]\n",
            "               Class     Images     Labels          P          R     mAP@.5 mAP@.5:.95: 100% 1/1 [00:00<00:00,  1.47it/s]\n",
            "                 all         20         65     0.0081     0.0889     0.0052    0.00124\n",
            "\n",
            "     Epoch   gpu_mem       box       obj       cls    labels  img_size\n",
            "      6/49     1.82G   0.09146   0.05603     0.029        32       640: 100% 5/5 [00:02<00:00,  1.75it/s]\n",
            "               Class     Images     Labels          P          R     mAP@.5 mAP@.5:.95: 100% 1/1 [00:00<00:00,  1.52it/s]\n",
            "                 all         20         65      0.375      0.037     0.0131    0.00249\n",
            "\n",
            "     Epoch   gpu_mem       box       obj       cls    labels  img_size\n",
            "      7/49     1.82G   0.08656   0.04917   0.02555        36       640: 100% 5/5 [00:02<00:00,  1.69it/s]\n",
            "               Class     Images     Labels          P          R     mAP@.5 mAP@.5:.95: 100% 1/1 [00:00<00:00,  1.66it/s]\n",
            "                 all         20         65     0.0408      0.104     0.0438    0.00781\n",
            "\n",
            "     Epoch   gpu_mem       box       obj       cls    labels  img_size\n",
            "      8/49     1.82G   0.08066   0.05028   0.02423        26       640: 100% 5/5 [00:02<00:00,  1.70it/s]\n",
            "               Class     Images     Labels          P          R     mAP@.5 mAP@.5:.95: 100% 1/1 [00:00<00:00,  1.50it/s]\n",
            "                 all         20         65      0.884      0.111      0.126     0.0269\n",
            "\n",
            "     Epoch   gpu_mem       box       obj       cls    labels  img_size\n",
            "      9/49     1.82G    0.0817     0.053   0.02297        41       640: 100% 5/5 [00:02<00:00,  1.67it/s]\n",
            "               Class     Images     Labels          P          R     mAP@.5 mAP@.5:.95: 100% 1/1 [00:00<00:00,  1.31it/s]\n",
            "                 all         20         65      0.714     0.0663     0.0288    0.00495\n",
            "\n",
            "     Epoch   gpu_mem       box       obj       cls    labels  img_size\n",
            "     10/49     1.82G   0.07928   0.04688   0.02617        45       640: 100% 5/5 [00:02<00:00,  1.68it/s]\n",
            "               Class     Images     Labels          P          R     mAP@.5 mAP@.5:.95: 100% 1/1 [00:00<00:00,  1.35it/s]\n",
            "                 all         20         65     0.0245      0.348     0.0234    0.00441\n",
            "\n",
            "     Epoch   gpu_mem       box       obj       cls    labels  img_size\n",
            "     11/49     1.82G   0.08575   0.04653   0.02026        48       640: 100% 5/5 [00:03<00:00,  1.66it/s]\n",
            "               Class     Images     Labels          P          R     mAP@.5 mAP@.5:.95: 100% 1/1 [00:00<00:00,  1.33it/s]\n",
            "                 all         20         65      0.807      0.104      0.117     0.0248\n",
            "\n",
            "     Epoch   gpu_mem       box       obj       cls    labels  img_size\n",
            "     12/49     1.82G   0.08306   0.03585   0.02148        15       640: 100% 5/5 [00:02<00:00,  1.82it/s]\n",
            "               Class     Images     Labels          P          R     mAP@.5 mAP@.5:.95: 100% 1/1 [00:00<00:00,  1.72it/s]\n",
            "                 all         20         65     0.0156      0.319     0.0152    0.00347\n",
            "\n",
            "     Epoch   gpu_mem       box       obj       cls    labels  img_size\n",
            "     13/49     1.82G   0.08439   0.03855   0.02003        24       640: 100% 5/5 [00:03<00:00,  1.48it/s]\n",
            "               Class     Images     Labels          P          R     mAP@.5 mAP@.5:.95: 100% 1/1 [00:00<00:00,  1.93it/s]\n",
            "                 all         20         65      0.706        0.2     0.0474     0.0109\n",
            "\n",
            "     Epoch   gpu_mem       box       obj       cls    labels  img_size\n",
            "     14/49     1.82G   0.08727   0.03866   0.02176        36       640: 100% 5/5 [00:02<00:00,  1.73it/s]\n",
            "               Class     Images     Labels          P          R     mAP@.5 mAP@.5:.95: 100% 1/1 [00:00<00:00,  1.55it/s]\n",
            "                 all         20         65      0.752      0.163      0.106      0.026\n",
            "\n",
            "     Epoch   gpu_mem       box       obj       cls    labels  img_size\n",
            "     15/49     1.82G   0.08387   0.04197   0.02031        47       640: 100% 5/5 [00:03<00:00,  1.59it/s]\n",
            "               Class     Images     Labels          P          R     mAP@.5 mAP@.5:.95: 100% 1/1 [00:00<00:00,  1.76it/s]\n",
            "                 all         20         65       0.75     0.0518     0.0504     0.0107\n",
            "\n",
            "     Epoch   gpu_mem       box       obj       cls    labels  img_size\n",
            "     16/49     1.82G   0.08459   0.03939   0.02014        27       640: 100% 5/5 [00:03<00:00,  1.62it/s]\n",
            "               Class     Images     Labels          P          R     mAP@.5 mAP@.5:.95: 100% 1/1 [00:00<00:00,  1.60it/s]\n",
            "                 all         20         65      0.727      0.111      0.069     0.0182\n",
            "\n",
            "     Epoch   gpu_mem       box       obj       cls    labels  img_size\n",
            "     17/49     1.82G   0.07703   0.03505   0.01921        25       640: 100% 5/5 [00:03<00:00,  1.60it/s]\n",
            "               Class     Images     Labels          P          R     mAP@.5 mAP@.5:.95: 100% 1/1 [00:00<00:00,  1.56it/s]\n",
            "                 all         20         65      0.417       0.33        0.1     0.0277\n",
            "\n",
            "     Epoch   gpu_mem       box       obj       cls    labels  img_size\n",
            "     18/49     1.82G   0.07686   0.04293    0.0185        55       640: 100% 5/5 [00:02<00:00,  1.94it/s]\n",
            "               Class     Images     Labels          P          R     mAP@.5 mAP@.5:.95: 100% 1/1 [00:00<00:00,  1.73it/s]\n",
            "                 all         20         65      0.817      0.214      0.234     0.0682\n",
            "\n",
            "     Epoch   gpu_mem       box       obj       cls    labels  img_size\n",
            "     19/49     1.82G   0.07432   0.03472   0.01619        26       640: 100% 5/5 [00:02<00:00,  1.81it/s]\n",
            "               Class     Images     Labels          P          R     mAP@.5 mAP@.5:.95: 100% 1/1 [00:00<00:00,  1.63it/s]\n",
            "                 all         20         65      0.472      0.119      0.039    0.00512\n",
            "\n",
            "     Epoch   gpu_mem       box       obj       cls    labels  img_size\n",
            "     20/49     1.82G   0.09112   0.02842   0.01595        27       640: 100% 5/5 [00:02<00:00,  1.85it/s]\n",
            "               Class     Images     Labels          P          R     mAP@.5 mAP@.5:.95: 100% 1/1 [00:00<00:00,  2.08it/s]\n",
            "                 all         20         65      0.761      0.156      0.131      0.027\n",
            "\n",
            "     Epoch   gpu_mem       box       obj       cls    labels  img_size\n",
            "     21/49     1.82G   0.08124   0.03727   0.01819        32       640: 100% 5/5 [00:03<00:00,  1.58it/s]\n",
            "               Class     Images     Labels          P          R     mAP@.5 mAP@.5:.95: 100% 1/1 [00:00<00:00,  1.84it/s]\n",
            "                 all         20         65      0.795      0.163      0.133     0.0266\n",
            "\n",
            "     Epoch   gpu_mem       box       obj       cls    labels  img_size\n",
            "     22/49     1.82G   0.07518   0.03661   0.01584        27       640: 100% 5/5 [00:02<00:00,  1.84it/s]\n",
            "               Class     Images     Labels          P          R     mAP@.5 mAP@.5:.95: 100% 1/1 [00:00<00:00,  2.20it/s]\n",
            "                 all         20         65      0.428      0.413      0.134     0.0397\n",
            "\n",
            "     Epoch   gpu_mem       box       obj       cls    labels  img_size\n",
            "     23/49     1.82G    0.0687   0.03478   0.01442        25       640: 100% 5/5 [00:03<00:00,  1.46it/s]\n",
            "               Class     Images     Labels          P          R     mAP@.5 mAP@.5:.95: 100% 1/1 [00:00<00:00,  2.28it/s]\n",
            "                 all         20         65      0.584      0.307      0.246      0.046\n",
            "\n",
            "     Epoch   gpu_mem       box       obj       cls    labels  img_size\n",
            "     24/49     1.82G   0.07011   0.03993    0.0175        39       640: 100% 5/5 [00:03<00:00,  1.62it/s]\n",
            "               Class     Images     Labels          P          R     mAP@.5 mAP@.5:.95: 100% 1/1 [00:00<00:00,  2.06it/s]\n",
            "                 all         20         65       0.48      0.415      0.149     0.0301\n",
            "\n",
            "     Epoch   gpu_mem       box       obj       cls    labels  img_size\n",
            "     25/49     1.82G   0.07632   0.03109   0.01212        29       640: 100% 5/5 [00:03<00:00,  1.57it/s]\n",
            "               Class     Images     Labels          P          R     mAP@.5 mAP@.5:.95: 100% 1/1 [00:00<00:00,  2.37it/s]\n",
            "                 all         20         65      0.686      0.333      0.282     0.0666\n",
            "\n",
            "     Epoch   gpu_mem       box       obj       cls    labels  img_size\n",
            "     26/49     1.82G   0.07231   0.03432   0.01457        15       640: 100% 5/5 [00:02<00:00,  1.70it/s]\n",
            "               Class     Images     Labels          P          R     mAP@.5 mAP@.5:.95: 100% 1/1 [00:00<00:00,  2.31it/s]\n",
            "                 all         20         65      0.684        0.4      0.308     0.0571\n",
            "\n",
            "     Epoch   gpu_mem       box       obj       cls    labels  img_size\n",
            "     27/49     1.82G   0.07224   0.03816   0.01508        36       640: 100% 5/5 [00:03<00:00,  1.52it/s]\n",
            "               Class     Images     Labels          P          R     mAP@.5 mAP@.5:.95: 100% 1/1 [00:00<00:00,  2.38it/s]\n",
            "                 all         20         65      0.619      0.393      0.315     0.0813\n",
            "\n",
            "     Epoch   gpu_mem       box       obj       cls    labels  img_size\n",
            "     28/49     1.82G    0.0667   0.03428   0.01469        27       640: 100% 5/5 [00:02<00:00,  1.70it/s]\n",
            "               Class     Images     Labels          P          R     mAP@.5 mAP@.5:.95: 100% 1/1 [00:00<00:00,  2.04it/s]\n",
            "                 all         20         65      0.533      0.348      0.138       0.03\n",
            "\n",
            "     Epoch   gpu_mem       box       obj       cls    labels  img_size\n",
            "     29/49     1.82G   0.06415   0.03369   0.01288        26       640: 100% 5/5 [00:03<00:00,  1.64it/s]\n",
            "               Class     Images     Labels          P          R     mAP@.5 mAP@.5:.95: 100% 1/1 [00:00<00:00,  2.17it/s]\n",
            "                 all         20         65      0.593      0.415      0.297     0.0706\n",
            "\n",
            "     Epoch   gpu_mem       box       obj       cls    labels  img_size\n",
            "     30/49     1.82G   0.05624   0.02948   0.01065        27       640: 100% 5/5 [00:02<00:00,  1.74it/s]\n",
            "               Class     Images     Labels          P          R     mAP@.5 mAP@.5:.95: 100% 1/1 [00:00<00:00,  2.33it/s]\n",
            "                 all         20         65      0.599      0.393      0.321     0.0769\n",
            "\n",
            "     Epoch   gpu_mem       box       obj       cls    labels  img_size\n",
            "     31/49     1.82G    0.0561   0.03595   0.01105        36       640: 100% 5/5 [00:02<00:00,  1.67it/s]\n",
            "               Class     Images     Labels          P          R     mAP@.5 mAP@.5:.95: 100% 1/1 [00:00<00:00,  1.85it/s]\n",
            "                 all         20         65      0.658      0.381      0.328      0.105\n",
            "\n",
            "     Epoch   gpu_mem       box       obj       cls    labels  img_size\n",
            "     32/49     1.82G   0.05962   0.03598   0.01205        31       640: 100% 5/5 [00:02<00:00,  1.87it/s]\n",
            "               Class     Images     Labels          P          R     mAP@.5 mAP@.5:.95: 100% 1/1 [00:00<00:00,  2.10it/s]\n",
            "                 all         20         65      0.582      0.363      0.265     0.0663\n",
            "\n",
            "     Epoch   gpu_mem       box       obj       cls    labels  img_size\n",
            "     33/49     1.82G   0.05929   0.03766    0.0107        37       640: 100% 5/5 [00:02<00:00,  1.67it/s]\n",
            "               Class     Images     Labels          P          R     mAP@.5 mAP@.5:.95: 100% 1/1 [00:00<00:00,  1.98it/s]\n",
            "                 all         20         65      0.641      0.419      0.405       0.12\n",
            "\n",
            "     Epoch   gpu_mem       box       obj       cls    labels  img_size\n",
            "     34/49     1.82G    0.0546   0.03453  0.009639        32       640: 100% 5/5 [00:02<00:00,  1.79it/s]\n",
            "               Class     Images     Labels          P          R     mAP@.5 mAP@.5:.95: 100% 1/1 [00:00<00:00,  2.19it/s]\n",
            "                 all         20         65       0.73      0.423      0.443      0.192\n",
            "\n",
            "     Epoch   gpu_mem       box       obj       cls    labels  img_size\n",
            "     35/49     1.82G   0.05258   0.03133  0.009063        16       640: 100% 5/5 [00:03<00:00,  1.62it/s]\n",
            "               Class     Images     Labels          P          R     mAP@.5 mAP@.5:.95: 100% 1/1 [00:00<00:00,  2.41it/s]\n",
            "                 all         20         65      0.666      0.381      0.376      0.118\n",
            "\n",
            "     Epoch   gpu_mem       box       obj       cls    labels  img_size\n",
            "     36/49     1.82G   0.05703   0.03197   0.01368        30       640: 100% 5/5 [00:02<00:00,  1.74it/s]\n",
            "               Class     Images     Labels          P          R     mAP@.5 mAP@.5:.95: 100% 1/1 [00:00<00:00,  2.55it/s]\n",
            "                 all         20         65      0.609      0.422      0.344      0.128\n",
            "\n",
            "     Epoch   gpu_mem       box       obj       cls    labels  img_size\n",
            "     37/49     1.82G   0.05793   0.02844  0.007753        26       640: 100% 5/5 [00:03<00:00,  1.60it/s]\n",
            "               Class     Images     Labels          P          R     mAP@.5 mAP@.5:.95: 100% 1/1 [00:00<00:00,  2.39it/s]\n",
            "                 all         20         65      0.747      0.307      0.326     0.0818\n",
            "\n",
            "     Epoch   gpu_mem       box       obj       cls    labels  img_size\n",
            "     38/49     1.82G   0.05235     0.038   0.00916        38       640: 100% 5/5 [00:03<00:00,  1.65it/s]\n",
            "               Class     Images     Labels          P          R     mAP@.5 mAP@.5:.95: 100% 1/1 [00:00<00:00,  1.99it/s]\n",
            "                 all         20         65      0.745      0.333      0.362     0.0955\n",
            "\n",
            "     Epoch   gpu_mem       box       obj       cls    labels  img_size\n",
            "     39/49     1.82G   0.05122     0.023  0.008714        15       640: 100% 5/5 [00:03<00:00,  1.61it/s]\n",
            "               Class     Images     Labels          P          R     mAP@.5 mAP@.5:.95: 100% 1/1 [00:00<00:00,  1.91it/s]\n",
            "                 all         20         65      0.785      0.429      0.446      0.176\n",
            "\n",
            "     Epoch   gpu_mem       box       obj       cls    labels  img_size\n",
            "     40/49     1.82G   0.05301    0.0366  0.007253        48       640: 100% 5/5 [00:03<00:00,  1.55it/s]\n",
            "               Class     Images     Labels          P          R     mAP@.5 mAP@.5:.95: 100% 1/1 [00:00<00:00,  2.59it/s]\n",
            "                 all         20         65      0.811       0.33      0.376     0.0997\n",
            "\n",
            "     Epoch   gpu_mem       box       obj       cls    labels  img_size\n",
            "     41/49     1.82G   0.05123   0.03532  0.009379        41       640: 100% 5/5 [00:02<00:00,  1.75it/s]\n",
            "               Class     Images     Labels          P          R     mAP@.5 mAP@.5:.95: 100% 1/1 [00:00<00:00,  2.02it/s]\n",
            "                 all         20         65      0.882      0.411       0.47      0.206\n",
            "\n",
            "     Epoch   gpu_mem       box       obj       cls    labels  img_size\n",
            "     42/49     1.82G   0.04796     0.036  0.007264        40       640: 100% 5/5 [00:02<00:00,  1.78it/s]\n",
            "               Class     Images     Labels          P          R     mAP@.5 mAP@.5:.95: 100% 1/1 [00:00<00:00,  2.12it/s]\n",
            "                 all         20         65      0.892      0.422      0.483      0.203\n",
            "\n",
            "     Epoch   gpu_mem       box       obj       cls    labels  img_size\n",
            "     43/49     1.82G   0.04821   0.03624  0.008339        16       640: 100% 5/5 [00:03<00:00,  1.56it/s]\n",
            "               Class     Images     Labels          P          R     mAP@.5 mAP@.5:.95: 100% 1/1 [00:00<00:00,  2.44it/s]\n",
            "                 all         20         65      0.838      0.455      0.503      0.184\n",
            "\n",
            "     Epoch   gpu_mem       box       obj       cls    labels  img_size\n",
            "     44/49     1.82G   0.04759   0.03264   0.00917        39       640: 100% 5/5 [00:03<00:00,  1.50it/s]\n",
            "               Class     Images     Labels          P          R     mAP@.5 mAP@.5:.95: 100% 1/1 [00:00<00:00,  2.04it/s]\n",
            "                 all         20         65      0.862      0.441      0.519      0.214\n",
            "\n",
            "     Epoch   gpu_mem       box       obj       cls    labels  img_size\n",
            "     45/49     1.82G   0.04609   0.03579  0.008231        53       640: 100% 5/5 [00:02<00:00,  1.86it/s]\n",
            "               Class     Images     Labels          P          R     mAP@.5 mAP@.5:.95: 100% 1/1 [00:00<00:00,  2.16it/s]\n",
            "                 all         20         65      0.848      0.485      0.529      0.225\n",
            "\n",
            "     Epoch   gpu_mem       box       obj       cls    labels  img_size\n",
            "     46/49     1.82G    0.0465   0.03079  0.006997        29       640: 100% 5/5 [00:02<00:00,  1.69it/s]\n",
            "               Class     Images     Labels          P          R     mAP@.5 mAP@.5:.95: 100% 1/1 [00:00<00:00,  2.08it/s]\n",
            "                 all         20         65      0.818      0.504      0.519      0.227\n",
            "\n",
            "     Epoch   gpu_mem       box       obj       cls    labels  img_size\n",
            "     47/49     1.82G   0.04291    0.0321  0.008077        40       640: 100% 5/5 [00:02<00:00,  1.89it/s]\n",
            "               Class     Images     Labels          P          R     mAP@.5 mAP@.5:.95: 100% 1/1 [00:00<00:00,  2.32it/s]\n",
            "                 all         20         65      0.837      0.501      0.522      0.238\n",
            "\n",
            "     Epoch   gpu_mem       box       obj       cls    labels  img_size\n",
            "     48/49     1.82G   0.04506   0.03242  0.007131        25       640: 100% 5/5 [00:02<00:00,  1.74it/s]\n",
            "               Class     Images     Labels          P          R     mAP@.5 mAP@.5:.95: 100% 1/1 [00:00<00:00,  2.26it/s]\n",
            "                 all         20         65      0.829      0.495      0.512      0.207\n",
            "\n",
            "     Epoch   gpu_mem       box       obj       cls    labels  img_size\n",
            "     49/49     1.82G   0.04627   0.03476  0.007043        40       640: 100% 5/5 [00:02<00:00,  1.68it/s]\n",
            "               Class     Images     Labels          P          R     mAP@.5 mAP@.5:.95: 100% 1/1 [00:00<00:00,  1.91it/s]\n",
            "                 all         20         65       0.83      0.496      0.517      0.211\n",
            "\n",
            "50 epochs completed in 0.064 hours.\n",
            "Optimizer stripped from yolov5/runs/train/exp/weights/last.pt, 3.9MB\n",
            "Optimizer stripped from yolov5/runs/train/exp/weights/best.pt, 3.9MB\n",
            "\n",
            "Validating yolov5/runs/train/exp/weights/best.pt...\n",
            "Fusing layers... \n",
            "Model Summary: 213 layers, 1763224 parameters, 0 gradients, 4.2 GFLOPs\n",
            "               Class     Images     Labels          P          R     mAP@.5 mAP@.5:.95: 100% 1/1 [00:01<00:00,  1.07s/it]\n",
            "                 all         20         65      0.837      0.502      0.522      0.239\n",
            "                head         20         18      0.667      0.667      0.689       0.32\n",
            "              helmet         20         45      0.843      0.838      0.862      0.393\n",
            "              person         20          2          1          0     0.0145    0.00459\n",
            "Results saved to \u001b[1myolov5/runs/train/exp\u001b[0m\n"
          ]
        },
        {
          "output_type": "display_data",
          "data": {
            "text/plain": [
              "<IPython.core.display.Javascript object>"
            ],
            "application/javascript": [
              "window[\"8cc8970e-a283-11ec-9d07-0242ac1c0002\"] = google.colab.output.setActiveOutputArea(window[\"f26108fe-a282-11ec-9d07-0242ac1c0002\"]);\n",
              "//# sourceURL=js_91e328c004"
            ]
          },
          "metadata": {}
        }
      ]
    }
  ]
}